{
 "cells": [
  {
   "cell_type": "code",
   "execution_count": 1,
   "id": "7074ce95-fbeb-4b11-ba4d-85aae221bbd2",
   "metadata": {},
   "outputs": [],
   "source": [
    "#constructor"
   ]
  },
  {
   "cell_type": "code",
   "execution_count": 2,
   "id": "0f89e017-11fa-43b8-8ea7-1d94416d2ff6",
   "metadata": {},
   "outputs": [],
   "source": [
    "#1. What is a constructor in Python? Explain its purpose and usage.\n",
    "\n",
    "#ans \n",
    "\n",
    "class Car:\n",
    "    def __init__(self, make, model, year):\n",
    "        self.make = make\n",
    "        self.model = model\n",
    "        self.year = year\n",
    "\n",
    "# Creating an instance of the Car class\n",
    "my_car = Car(\"Toyota\", \"Camry\", 2022)\n"
   ]
  },
  {
   "cell_type": "code",
   "execution_count": 3,
   "id": "5a6a8f70-3b29-44a7-bc72-88a441acb87b",
   "metadata": {},
   "outputs": [],
   "source": [
    "#2. Differentiate between a parameterless constructor and a parameterized constructor in Python.\n",
    "\n",
    "#ans \n",
    "\n",
    "class MyClass:\n",
    "    def __init__(self):\n",
    "        self.default_value = 10\n",
    "\n",
    "# Creating an instance of MyClass\n",
    "obj = MyClass()\n"
   ]
  },
  {
   "cell_type": "code",
   "execution_count": 5,
   "id": "3d27e6b5-5286-4137-b5a8-9af8e72cbd07",
   "metadata": {},
   "outputs": [
    {
     "name": "stdout",
     "output_type": "stream",
     "text": [
      "Buddy is a 3-year-old Labrador.\n"
     ]
    }
   ],
   "source": [
    "#3. How do you define a constructor in a Python class? Provide an example.\n",
    "\n",
    "#ans \n",
    "class Dog:\n",
    "    def __init__(self, name, age, breed):\n",
    "        # Initializing attributes\n",
    "        self.name = name\n",
    "        self.age = age\n",
    "        self.breed = breed\n",
    "\n",
    "# Creating an instance of the Dog class with specified values\n",
    "my_dog = Dog(\"Buddy\", 3, \"Labrador\")\n",
    "\n",
    "# Accessing attributes of the created object\n",
    "print(f\"{my_dog.name} is a {my_dog.age}-year-old {my_dog.breed}.\")\n"
   ]
  },
  {
   "cell_type": "code",
   "execution_count": 7,
   "id": "875d8abf-dbd5-4b0c-8967-69b48a4b72fe",
   "metadata": {},
   "outputs": [],
   "source": [
    "#4. Explain the `__init__` method in Python and its role in constructors.\n",
    "\n",
    "#NS \n",
    "\n",
    "class MyClass:\n",
    "    def __init__(self, parameter1, parameter2):\n",
    "        # Initializing attributes\n",
    "        self.attribute1 = parameter1\n",
    "        self.attribute2 = parameter2\n",
    "\n",
    "# Creating an instance of MyClass and invoking the __init__ method\n",
    "obj = MyClass(\"value1\", \"value2\")\n",
    "\n"
   ]
  },
  {
   "cell_type": "code",
   "execution_count": 8,
   "id": "656c7e4b-5e32-43f7-9c27-ee086975f7e6",
   "metadata": {},
   "outputs": [
    {
     "name": "stdout",
     "output_type": "stream",
     "text": [
      "Name: John Doe, Age: 25\n"
     ]
    }
   ],
   "source": [
    "#5. In a class named `Person`, create a constructor that initializes the `name` and `age` attributes. Provide an\n",
    "#example of creating an object of this class.\n",
    "\n",
    "#ANS \n",
    "\n",
    "class Person:\n",
    "    def __init__(self, name, age):\n",
    "        # Initializing attributes\n",
    "        self.name = name\n",
    "        self.age = age\n",
    "\n",
    "# Creating an instance of the Person class\n",
    "person_obj = Person(\"John Doe\", 25)\n",
    "\n",
    "# Accessing attributes of the created object\n",
    "print(f\"Name: {person_obj.name}, Age: {person_obj.age}\")\n",
    "\n"
   ]
  },
  {
   "cell_type": "code",
   "execution_count": 9,
   "id": "8167208c-4fe3-41cc-b460-dbe6682267ec",
   "metadata": {},
   "outputs": [
    {
     "name": "stdout",
     "output_type": "stream",
     "text": [
      "Before reinitialization: initial_value\n",
      "After reinitialization: new_value\n"
     ]
    }
   ],
   "source": [
    "#6. How can you call a constructor explicitly in Python? Give an example.\n",
    "\n",
    "#ANS \n",
    "\n",
    "class MyClass:\n",
    "    def __init__(self, value):\n",
    "        self.attribute = value\n",
    "\n",
    "# Creating an instance of MyClass\n",
    "obj = MyClass(\"initial_value\")\n",
    "\n",
    "# Accessing the attribute before reinitialization\n",
    "print(\"Before reinitialization:\", obj.attribute)\n",
    "\n",
    "# Explicitly calling the constructor to reinitialize the attribute\n",
    "MyClass.__init__(obj, \"new_value\")\n",
    "\n",
    "# Accessing the attribute after reinitialization\n",
    "print(\"After reinitialization:\", obj.attribute)\n"
   ]
  },
  {
   "cell_type": "code",
   "execution_count": 10,
   "id": "6600b860-fb0d-462a-ac76-1dfdd969fd57",
   "metadata": {},
   "outputs": [
    {
     "name": "stdout",
     "output_type": "stream",
     "text": [
      "2022 Toyota Camry\n"
     ]
    }
   ],
   "source": [
    "#7. What is the significance of the `self` parameter in Python constructors? Explain with an example.\n",
    "\n",
    "#ANS \n",
    "\n",
    "class Car:\n",
    "    def __init__(self, make, model, year):\n",
    "        # Initializing attributes using self\n",
    "        self.make = make\n",
    "        self.model = model\n",
    "        self.year = year\n",
    "\n",
    "    def display_info(self):\n",
    "        # Accessing attributes using self\n",
    "        print(f\"{self.year} {self.make} {self.model}\")\n",
    "\n",
    "# Creating an instance of the Car class\n",
    "my_car = Car(\"Toyota\", \"Camry\", 2022)\n",
    "\n",
    "# Accessing attributes and calling a method using the instance\n",
    "my_car.display_info()\n"
   ]
  },
  {
   "cell_type": "code",
   "execution_count": 13,
   "id": "7cc346df-374e-4ff5-99fd-9dae6211490a",
   "metadata": {},
   "outputs": [],
   "source": [
    "#8. Discuss the concept of default constructors in Python. When are they used?\n",
    "\n",
    "#ANS \n",
    "\n",
    "class MyClassWithoutConstructor:\n",
    "    pass\n",
    "\n",
    "# Creating an instance of MyClassWithoutConstructor\n",
    "obj = MyClassWithoutConstructor()\n",
    "\n"
   ]
  },
  {
   "cell_type": "code",
   "execution_count": 14,
   "id": "6520c540-7d85-47d6-97af-064a073d338a",
   "metadata": {},
   "outputs": [
    {
     "name": "stdout",
     "output_type": "stream",
     "text": [
      "Width: 5, Height: 8\n",
      "Area of the rectangle: 40\n"
     ]
    }
   ],
   "source": [
    "#9. Create a Python class called `Rectangle` with a constructor that initializes the `width` and `height`\n",
    "#attributes. Provide a method to calculate the area of the rectangle.\n",
    "\n",
    "#ANS \n",
    "\n",
    "class Rectangle:\n",
    "    def __init__(self, width, height):\n",
    "        # Initializing attributes\n",
    "        self.width = width\n",
    "        self.height = height\n",
    "\n",
    "    def calculate_area(self):\n",
    "        # Calculating the area of the rectangle\n",
    "        area = self.width * self.height\n",
    "        return area\n",
    "\n",
    "# Creating an instance of the Rectangle class\n",
    "my_rectangle = Rectangle(5, 8)\n",
    "\n",
    "# Accessing attributes and calling the calculate_area method\n",
    "print(f\"Width: {my_rectangle.width}, Height: {my_rectangle.height}\")\n",
    "print(f\"Area of the rectangle: {my_rectangle.calculate_area()}\")\n"
   ]
  },
  {
   "cell_type": "code",
   "execution_count": 15,
   "id": "aefac352-0925-45bb-90c1-5ae83fc72c89",
   "metadata": {},
   "outputs": [
    {
     "name": "stdout",
     "output_type": "stream",
     "text": [
      "Default Rectangle:\n",
      "Width: 1, Height: 1\n",
      "Area: 1\n",
      "\n",
      "Custom Rectangle:\n",
      "Width: 5, Height: 8\n",
      "Area: 40\n"
     ]
    }
   ],
   "source": [
    "#10. How can you have multiple constructors in a Python class? Explain with an example.\n",
    "\n",
    "#ANS \n",
    "\n",
    "class Rectangle:\n",
    "    def __init__(self, width=None, height=None):\n",
    "        # If width and height are not provided, set default values\n",
    "        self.width = width if width is not None else 1\n",
    "        self.height = height if height is not None else 1\n",
    "\n",
    "    def calculate_area(self):\n",
    "        # Calculating the area of the rectangle\n",
    "        area = self.width * self.height\n",
    "        return area\n",
    "\n",
    "# Creating instances with different sets of arguments\n",
    "rectangle_default = Rectangle()  # Uses default values (width=1, height=1)\n",
    "rectangle_custom = Rectangle(5, 8)  # Uses provided values\n",
    "\n",
    "# Accessing attributes and calling the calculate_area method\n",
    "print(\"Default Rectangle:\")\n",
    "print(f\"Width: {rectangle_default.width}, Height: {rectangle_default.height}\")\n",
    "print(f\"Area: {rectangle_default.calculate_area()}\")\n",
    "\n",
    "print(\"\\nCustom Rectangle:\")\n",
    "print(f\"Width: {rectangle_custom.width}, Height: {rectangle_custom.height}\")\n",
    "print(f\"Area: {rectangle_custom.calculate_area()}\")\n"
   ]
  },
  {
   "cell_type": "code",
   "execution_count": 16,
   "id": "9eb1338c-3fea-47cd-a106-75bba53e8f29",
   "metadata": {},
   "outputs": [
    {
     "name": "stdout",
     "output_type": "stream",
     "text": [
      "5\n",
      "5\n"
     ]
    }
   ],
   "source": [
    "#11. What is method overloading, and how is it related to constructors in Python?\n",
    "\n",
    "#ANS \n",
    "\n",
    "class MyClass:\n",
    "    def __init__(self, param1, param2=None):\n",
    "        if param2 is None:\n",
    "            # Handle case with one parameter\n",
    "            self.attribute = param1\n",
    "        else:\n",
    "            # Handle case with two parameters\n",
    "            self.attribute = param1 + param2\n",
    "\n",
    "# Creating instances with different sets of arguments\n",
    "obj1 = MyClass(5)\n",
    "obj2 = MyClass(2, 3)\n",
    "\n",
    "print(obj1.attribute)  # Output: 5\n",
    "print(obj2.attribute)  # Output: 5 (result of 2 + 3)\n"
   ]
  },
  {
   "cell_type": "code",
   "execution_count": 17,
   "id": "388179d6-2c4c-4014-9a2b-c907ad4660d1",
   "metadata": {},
   "outputs": [
    {
     "name": "stdout",
     "output_type": "stream",
     "text": [
      "Name: John Doe\n",
      "Age: 25\n"
     ]
    }
   ],
   "source": [
    "#12. Explain the use of the `super()` function in Python constructors. Provide an example.\n",
    "\n",
    "#ANS \n",
    "\n",
    "class ParentClass:\n",
    "    def __init__(self, name):\n",
    "        self.name = name\n",
    "\n",
    "    def display_info(self):\n",
    "        print(f\"Name: {self.name}\")\n",
    "\n",
    "class ChildClass(ParentClass):\n",
    "    def __init__(self, name, age):\n",
    "        # Calling the constructor of the parent class using super()\n",
    "        super().__init__(name)\n",
    "        \n",
    "        # Additional attribute specific to the child class\n",
    "        self.age = age\n",
    "\n",
    "    def display_info(self):\n",
    "        # Calling the method of the parent class using super()\n",
    "        super().display_info()\n",
    "        print(f\"Age: {self.age}\")\n",
    "\n",
    "# Creating an instance of the ChildClass\n",
    "child_obj = ChildClass(\"John Doe\", 25)\n",
    "\n",
    "# Accessing attributes and calling the display_info method\n",
    "child_obj.display_info()\n"
   ]
  },
  {
   "cell_type": "code",
   "execution_count": 18,
   "id": "ef0dd9c0-e56e-4b5d-a3b5-225857076d7a",
   "metadata": {},
   "outputs": [
    {
     "name": "stdout",
     "output_type": "stream",
     "text": [
      "Title: The Great Gatsby\n",
      "Author: F. Scott Fitzgerald\n",
      "Published Year: 1925\n"
     ]
    }
   ],
   "source": [
    "#13. Create a class called `Book` with a constructor that initializes the `title`, `author`, and `published_year`\n",
    "#attributes. Provide a method to display book details.\n",
    "\n",
    "#ANS \n",
    "\n",
    "class Book:\n",
    "    def __init__(self, title, author, published_year):\n",
    "        # Initializing attributes\n",
    "        self.title = title\n",
    "        self.author = author\n",
    "        self.published_year = published_year\n",
    "\n",
    "    def display_details(self):\n",
    "        # Displaying book details\n",
    "        print(f\"Title: {self.title}\")\n",
    "        print(f\"Author: {self.author}\")\n",
    "        print(f\"Published Year: {self.published_year}\")\n",
    "\n",
    "# Creating an instance of the Book class\n",
    "book_obj = Book(\"The Great Gatsby\", \"F. Scott Fitzgerald\", 1925)\n",
    "\n",
    "# Calling the display_details method to show book details\n",
    "book_obj.display_details()\n"
   ]
  },
  {
   "cell_type": "code",
   "execution_count": 19,
   "id": "9b7366e0-71bc-414b-9b8b-9e40b3b7e5e4",
   "metadata": {},
   "outputs": [
    {
     "name": "stdout",
     "output_type": "stream",
     "text": [
      "10 20\n",
      "30\n"
     ]
    }
   ],
   "source": [
    "#14. Discuss the differences between constructors and regular methods in Python classes.\n",
    "\n",
    "#ANS \n",
    "\n",
    "class ExampleClass:\n",
    "    def __init__(self, attribute1, attribute2):\n",
    "        # Constructor\n",
    "        self.attribute1 = attribute1\n",
    "        self.attribute2 = attribute2\n",
    "\n",
    "    def regular_method(self):\n",
    "        # Regular method\n",
    "        return self.attribute1 + self.attribute2\n",
    "\n",
    "# Creating an instance of ExampleClass\n",
    "obj = ExampleClass(10, 20)\n",
    "\n",
    "# Constructor is automatically called during object creation\n",
    "# Regular method is called explicitly\n",
    "print(obj.attribute1, obj.attribute2)  # Output: 10 20\n",
    "result = obj.regular_method()\n",
    "print(result)  # Output: 30\n"
   ]
  },
  {
   "cell_type": "code",
   "execution_count": 20,
   "id": "9ee596e7-a41a-4fc4-9e2e-5e49ac012237",
   "metadata": {},
   "outputs": [
    {
     "name": "stdout",
     "output_type": "stream",
     "text": [
      "Attribute1: value1\n",
      "Attribute2: value2\n"
     ]
    }
   ],
   "source": [
    "#15. Explain the role of the `self` parameter in instance variable initialization within a constructor.\n",
    "\n",
    "#ANS \n",
    "\n",
    "class MyClass:\n",
    "    def __init__(self, param1, param2):\n",
    "        # Initializing instance variables using self\n",
    "        self.attribute1 = param1\n",
    "        self.attribute2 = param2\n",
    "\n",
    "    def display_attributes(self):\n",
    "        # Accessing instance variables using self in another method\n",
    "        print(f\"Attribute1: {self.attribute1}\")\n",
    "        print(f\"Attribute2: {self.attribute2}\")\n",
    "\n",
    "# Creating an instance of MyClass\n",
    "obj = MyClass(\"value1\", \"value2\")\n",
    "\n",
    "# Calling a method to display instance variables\n",
    "obj.display_attributes()\n",
    "\n"
   ]
  },
  {
   "cell_type": "code",
   "execution_count": 21,
   "id": "1d6d60dc-d32f-4584-920d-84d3f3411824",
   "metadata": {},
   "outputs": [
    {
     "name": "stdout",
     "output_type": "stream",
     "text": [
      "True\n",
      "Instance 1 data\n",
      "Instance 1 data\n"
     ]
    }
   ],
   "source": [
    "#16. How do you prevent a class from having multiple instances by using constructors in Python? Provide an\n",
    "#example.\n",
    "\n",
    "#ANS \n",
    "\n",
    "class SingletonClass:\n",
    "    # Class variable to track the instance\n",
    "    _instance = None\n",
    "\n",
    "    def __new__(cls, *args, **kwargs):\n",
    "        if not cls._instance:\n",
    "            # If instance doesn't exist, create one\n",
    "            cls._instance = super().__new__(cls)\n",
    "        return cls._instance\n",
    "\n",
    "    def __init__(self, data):\n",
    "        # Initialize only if the instance is being created for the first time\n",
    "        if not hasattr(self, '_initialized'):\n",
    "            self.data = data\n",
    "            self._initialized = True\n",
    "\n",
    "# Creating instances of SingletonClass\n",
    "instance1 = SingletonClass(\"Instance 1 data\")\n",
    "instance2 = SingletonClass(\"Instance 2 data\")\n",
    "\n",
    "# Checking if both instances refer to the same object\n",
    "print(instance1 is instance2)  # Output: True\n",
    "\n",
    "# Accessing data attribute of the instance\n",
    "print(instance1.data)  # Output: Instance 1 data\n",
    "print(instance2.data)  # Output: Instance 1 data (shared data attribute)\n"
   ]
  },
  {
   "cell_type": "code",
   "execution_count": 22,
   "id": "80a5afb0-7ca0-423a-8769-24e5cbb800e8",
   "metadata": {},
   "outputs": [
    {
     "name": "stdout",
     "output_type": "stream",
     "text": [
      "Subjects: ['Math', 'Science', 'History']\n"
     ]
    }
   ],
   "source": [
    "#17. Create a Python class called `Student` with a constructor that takes a list of subjects as a parameter and\n",
    "#initializes the `subjects` attribute.\n",
    "\n",
    "#ns \n",
    "\n",
    "class Student:\n",
    "    def __init__(self, subjects):\n",
    "        # Initializing the subjects attribute\n",
    "        self.subjects = subjects\n",
    "\n",
    "# Creating an instance of the Student class\n",
    "student_obj = Student([\"Math\", \"Science\", \"History\"])\n",
    "\n",
    "# Accessing the subjects attribute\n",
    "print(\"Subjects:\", student_obj.subjects)\n"
   ]
  },
  {
   "cell_type": "code",
   "execution_count": 23,
   "id": "296472e0-3a53-4a60-8e3b-c008890bc599",
   "metadata": {},
   "outputs": [
    {
     "name": "stdout",
     "output_type": "stream",
     "text": [
      "Object created\n",
      "Object is being destroyed\n"
     ]
    }
   ],
   "source": [
    "#18. What is the purpose of the `__del__` method in Python classes, and how does it relate to constructors?\n",
    "\n",
    "#ans \n",
    "\n",
    "class MyClass:\n",
    "    def __init__(self, name):\n",
    "        self.name = name\n",
    "        print(f\"{self.name} created\")\n",
    "\n",
    "    def __del__(self):\n",
    "        print(f\"{self.name} is being destroyed\")\n",
    "\n",
    "# Creating an instance of MyClass\n",
    "obj = MyClass(\"Object\")\n",
    "\n",
    "# Deleting the reference to the object\n",
    "del obj\n"
   ]
  },
  {
   "cell_type": "code",
   "execution_count": 24,
   "id": "884a4b1f-7146-4471-81da-395fcdff6969",
   "metadata": {},
   "outputs": [
    {
     "name": "stdout",
     "output_type": "stream",
     "text": [
      "Name: John Doe, Age: 20\n",
      "Student ID: S12345\n"
     ]
    }
   ],
   "source": [
    "#19. Explain the use of constructor chaining in Python. Provide a practical example.\n",
    "\n",
    "#ans \n",
    "\n",
    "class Person:\n",
    "    def __init__(self, name, age):\n",
    "        self.name = name\n",
    "        self.age = age\n",
    "\n",
    "    def display_info(self):\n",
    "        print(f\"Name: {self.name}, Age: {self.age}\")\n",
    "\n",
    "class Student(Person):\n",
    "    def __init__(self, name, age, student_id):\n",
    "        # Call the constructor of the parent class using super()\n",
    "        super().__init__(name, age)\n",
    "\n",
    "        # Initialize the additional attribute specific to the Student class\n",
    "        self.student_id = student_id\n",
    "\n",
    "    def display_info(self):\n",
    "        # Call the display_info method of the parent class using super()\n",
    "        super().display_info()\n",
    "        print(f\"Student ID: {self.student_id}\")\n",
    "\n",
    "# Creating an instance of the Student class\n",
    "student_obj = Student(\"John Doe\", 20, \"S12345\")\n",
    "\n",
    "# Calling the display_info method of the Student class\n",
    "student_obj.display_info()\n"
   ]
  },
  {
   "cell_type": "code",
   "execution_count": 25,
   "id": "e13560c0-752f-43bb-bcd3-ed275f81dcfb",
   "metadata": {},
   "outputs": [
    {
     "name": "stdout",
     "output_type": "stream",
     "text": [
      "Make: Unknown\n",
      "Model: Unknown\n"
     ]
    }
   ],
   "source": [
    "#20. Create a Python class called `Car` with a default constructor that initializes the `make` and `model`\n",
    "#attributes. Provide a method to display car information.\n",
    "\n",
    "#ans \n",
    "\n",
    "class Car:\n",
    "    def __init__(self, make=\"Unknown\", model=\"Unknown\"):\n",
    "        # Initializing attributes with default values\n",
    "        self.make = make\n",
    "        self.model = model\n",
    "\n",
    "    def display_info(self):\n",
    "        # Displaying car information\n",
    "        print(f\"Make: {self.make}\")\n",
    "        print(f\"Model: {self.model}\")\n",
    "\n",
    "# Creating an instance of the Car class with default values\n",
    "car_obj = Car()\n",
    "\n",
    "# Accessing attributes and calling the display_info method\n",
    "car_obj.display_info()\n"
   ]
  },
  {
   "cell_type": "code",
   "execution_count": 26,
   "id": "ee8a1fd9-4143-4d46-adcb-5b5dd0d7584b",
   "metadata": {},
   "outputs": [],
   "source": [
    "#INHERITANCE"
   ]
  },
  {
   "cell_type": "code",
   "execution_count": 27,
   "id": "bfed4146-4664-4d75-ac9e-14271701feea",
   "metadata": {},
   "outputs": [
    {
     "name": "stdout",
     "output_type": "stream",
     "text": [
      "Buddy says: Woof!\n",
      "Whiskers says: Meow!\n"
     ]
    }
   ],
   "source": [
    "#1. What is inheritance in Python? Explain its significance in object-oriented programming.\n",
    "\n",
    "#ans \n",
    "class Animal:\n",
    "    def __init__(self, name):\n",
    "        self.name = name\n",
    "\n",
    "    def make_sound(self):\n",
    "        pass  # Placeholder for the make_sound method\n",
    "\n",
    "class Dog(Animal):\n",
    "    def make_sound(self):\n",
    "        return \"Woof!\"\n",
    "\n",
    "class Cat(Animal):\n",
    "    def make_sound(self):\n",
    "        return \"Meow!\"\n",
    "\n",
    "# Creating instances of the subclasses\n",
    "dog_obj = Dog(\"Buddy\")\n",
    "cat_obj = Cat(\"Whiskers\")\n",
    "\n",
    "# Calling the make_sound method of each subclass\n",
    "print(f\"{dog_obj.name} says: {dog_obj.make_sound()}\")\n",
    "print(f\"{cat_obj.name} says: {cat_obj.make_sound()}\")\n",
    "\n"
   ]
  },
  {
   "cell_type": "code",
   "execution_count": 28,
   "id": "99de5336-2cd7-4dc8-863a-b35dfe9e2e4f",
   "metadata": {},
   "outputs": [
    {
     "name": "stdout",
     "output_type": "stream",
     "text": [
      "Bird can fly\n",
      "Mammal can run\n",
      "Bat can echolocate\n"
     ]
    }
   ],
   "source": [
    "#2. Differentiate between single inheritance and multiple inheritance in Python. Provide examples for each.\n",
    "\n",
    "#ans \n",
    "\n",
    "class Bird:\n",
    "    def fly(self):\n",
    "        return \"Bird can fly\"\n",
    "\n",
    "class Mammal:\n",
    "    def run(self):\n",
    "        return \"Mammal can run\"\n",
    "\n",
    "class Bat(Bird, Mammal):\n",
    "    def echolocate(self):\n",
    "        return \"Bat can echolocate\"\n",
    "\n",
    "# Creating an instance of Bat\n",
    "bat_instance = Bat()\n",
    "\n",
    "# Accessing methods from both Bird and Mammal classes\n",
    "print(bat_instance.fly())         # Output: Bird can fly\n",
    "print(bat_instance.run())         # Output: Mammal can run\n",
    "print(bat_instance.echolocate())  # Output: Bat can echolocate\n"
   ]
  },
  {
   "cell_type": "code",
   "execution_count": 29,
   "id": "079d0e15-7a0d-4794-91af-9505b8649c1f",
   "metadata": {},
   "outputs": [
    {
     "name": "stdout",
     "output_type": "stream",
     "text": [
      "Color: Blue\n",
      "Speed: 120\n",
      "Brand: Toyota\n"
     ]
    }
   ],
   "source": [
    "#3. Create a Python class called `Vehicle` with attributes `color` and `speed`. Then, create a child class called\n",
    "#`Car` that inherits from `Vehicle` and adds a `brand` attribute. Provide an example of creating a `Car` object.\n",
    "\n",
    "#ans \n",
    "\n",
    "class Vehicle:\n",
    "    def __init__(self, color, speed):\n",
    "        self.color = color\n",
    "        self.speed = speed\n",
    "\n",
    "class Car(Vehicle):\n",
    "    def __init__(self, color, speed, brand):\n",
    "        # Call the constructor of the parent class using super()\n",
    "        super().__init__(color, speed)\n",
    "\n",
    "        # Initialize the additional attribute specific to the Car class\n",
    "        self.brand = brand\n",
    "\n",
    "# Creating a Car object\n",
    "car_obj = Car(color=\"Blue\", speed=120, brand=\"Toyota\")\n",
    "\n",
    "# Accessing attributes of the Car object\n",
    "print(f\"Color: {car_obj.color}\")\n",
    "print(f\"Speed: {car_obj.speed}\")\n",
    "print(f\"Brand: {car_obj.brand}\")\n"
   ]
  },
  {
   "cell_type": "code",
   "execution_count": 30,
   "id": "fe7f19a9-25ab-413c-8f44-34d56d492646",
   "metadata": {},
   "outputs": [
    {
     "name": "stdout",
     "output_type": "stream",
     "text": [
      "Dog barks\n",
      "Cat meows\n"
     ]
    }
   ],
   "source": [
    "#4. Explain the concept of method overriding in inheritance. Provide a practical example.\n",
    "\n",
    "#ans \n",
    "\n",
    "class Animal:\n",
    "    def speak(self):\n",
    "        return \"Animal speaks\"\n",
    "\n",
    "class Dog(Animal):\n",
    "    def speak(self):\n",
    "        # Override the speak method with a specific implementation for Dog\n",
    "        return \"Dog barks\"\n",
    "\n",
    "class Cat(Animal):\n",
    "    def speak(self):\n",
    "        # Override the speak method with a specific implementation for Cat\n",
    "        return \"Cat meows\"\n",
    "\n",
    "# Creating instances of the subclasses\n",
    "dog_instance = Dog()\n",
    "cat_instance = Cat()\n",
    "\n",
    "# Calling the overridden speak method for each subclass\n",
    "print(dog_instance.speak())  # Output: Dog barks\n",
    "print(cat_instance.speak())  # Output: Cat meows\n"
   ]
  },
  {
   "cell_type": "code",
   "execution_count": 31,
   "id": "9ae1500c-d04f-41c6-ac89-6c7ade7b0190",
   "metadata": {},
   "outputs": [
    {
     "name": "stdout",
     "output_type": "stream",
     "text": [
      "Species: Canine\n",
      "Breed: Golden Retriever\n",
      "Sound: Dog barks and also: Generic animal sound\n"
     ]
    }
   ],
   "source": [
    "#5. How can you access the methods and attributes of a parent class from a child class in Python? Give an\n",
    "#example.\n",
    "\n",
    "#ams \n",
    "\n",
    "class Animal:\n",
    "    def __init__(self, species):\n",
    "        self.species = species\n",
    "\n",
    "    def make_sound(self):\n",
    "        return \"Generic animal sound\"\n",
    "\n",
    "class Dog(Animal):\n",
    "    def __init__(self, species, breed):\n",
    "        # Call the constructor of the parent class using super()\n",
    "        super().__init__(species)\n",
    "\n",
    "        # Initialize the additional attribute specific to the Dog class\n",
    "        self.breed = breed\n",
    "\n",
    "    def make_sound(self):\n",
    "        # Call the make_sound method of the parent class using super()\n",
    "        parent_sound = super().make_sound()\n",
    "\n",
    "        # Customize the sound for the Dog class\n",
    "        return f\"Dog barks and also: {parent_sound}\"\n",
    "\n",
    "# Creating an instance of the Dog class\n",
    "dog_instance = Dog(species=\"Canine\", breed=\"Golden Retriever\")\n",
    "\n",
    "# Accessing attributes and calling methods from both Animal and Dog classes\n",
    "print(f\"Species: {dog_instance.species}\")\n",
    "print(f\"Breed: {dog_instance.breed}\")\n",
    "print(f\"Sound: {dog_instance.make_sound()}\")\n"
   ]
  },
  {
   "cell_type": "code",
   "execution_count": 32,
   "id": "dc090018-1991-43eb-a949-b5199bf8f259",
   "metadata": {},
   "outputs": [
    {
     "name": "stdout",
     "output_type": "stream",
     "text": [
      "Species: Canine\n",
      "Breed: Golden Retriever\n",
      "Sound: Dog barks and also: Generic animal sound\n"
     ]
    }
   ],
   "source": [
    "#6. Discuss the use of the `super()` function in Python inheritance. When and why is it used? Provide an\n",
    "#example.\n",
    "\n",
    "#ans \n",
    "\n",
    "class Animal:\n",
    "    def __init__(self, species):\n",
    "        self.species = species\n",
    "\n",
    "    def make_sound(self):\n",
    "        return \"Generic animal sound\"\n",
    "\n",
    "class Dog(Animal):\n",
    "    def __init__(self, species, breed):\n",
    "        # Call the constructor of the parent class using super()\n",
    "        super().__init__(species)\n",
    "\n",
    "        # Initialize the additional attribute specific to the Dog class\n",
    "        self.breed = breed\n",
    "\n",
    "    def make_sound(self):\n",
    "        # Call the make_sound method of the parent class using super()\n",
    "        parent_sound = super().make_sound()\n",
    "\n",
    "        # Customize the sound for the Dog class\n",
    "        return f\"Dog barks and also: {parent_sound}\"\n",
    "\n",
    "# Creating an instance of the Dog class\n",
    "dog_instance = Dog(species=\"Canine\", breed=\"Golden Retriever\")\n",
    "\n",
    "# Accessing attributes and calling methods from both Animal and Dog classes\n",
    "print(f\"Species: {dog_instance.species}\")\n",
    "print(f\"Breed: {dog_instance.breed}\")\n",
    "print(f\"Sound: {dog_instance.make_sound()}\")\n"
   ]
  },
  {
   "cell_type": "code",
   "execution_count": 33,
   "id": "21343330-79c8-4bf5-bf93-6e64f2c3b2d4",
   "metadata": {},
   "outputs": [
    {
     "name": "stdout",
     "output_type": "stream",
     "text": [
      "Woof!\n",
      "Meow!\n"
     ]
    }
   ],
   "source": [
    "#7. Create a Python class called `Animal` with a method `speak()`. Then, create child classes `Dog` and `Cat`\n",
    "\n",
    "#ans \n",
    "\n",
    "class Animal:\n",
    "    def speak(self):\n",
    "        return \"Generic animal sound\"\n",
    "\n",
    "class Dog(Animal):\n",
    "    def speak(self):\n",
    "        return \"Woof!\"\n",
    "\n",
    "class Cat(Animal):\n",
    "    def speak(self):\n",
    "        return \"Meow!\"\n",
    "\n",
    "# Creating instances of the subclasses\n",
    "dog_instance = Dog()\n",
    "cat_instance = Cat()\n",
    "\n",
    "# Calling the speak method for each subclass\n",
    "print(dog_instance.speak())  # Output: Woof!\n",
    "print(cat_instance.speak())  # Output: Meow!\n"
   ]
  },
  {
   "cell_type": "code",
   "execution_count": 34,
   "id": "49104760-c3b2-495f-8a09-a4ed893d9ed8",
   "metadata": {},
   "outputs": [
    {
     "name": "stdout",
     "output_type": "stream",
     "text": [
      "True\n",
      "True\n",
      "True\n"
     ]
    }
   ],
   "source": [
    "#8. Explain the role of the `isinstance()` function in Python and how it relates to inheritance.\n",
    "\n",
    "#ans \n",
    "\n",
    "class Animal:\n",
    "    pass\n",
    "\n",
    "class Mammal(Animal):\n",
    "    pass\n",
    "\n",
    "class Dog(Mammal):\n",
    "    pass\n",
    "\n",
    "dog_instance = Dog()\n",
    "\n",
    "print(isinstance(dog_instance, Animal))   # Output: True\n",
    "print(isinstance(dog_instance, Mammal))   # Output: True\n",
    "print(isinstance(dog_instance, Dog))      # Output: True\n"
   ]
  },
  {
   "cell_type": "code",
   "execution_count": 35,
   "id": "720d0d08-5c57-4199-9579-00be998e0846",
   "metadata": {},
   "outputs": [
    {
     "name": "stdout",
     "output_type": "stream",
     "text": [
      "True\n",
      "True\n",
      "True\n"
     ]
    }
   ],
   "source": [
    "#9. What is the purpose of the `issubclass()` function in Python? Provide an example.\n",
    "\n",
    "#ans \n",
    "\n",
    "class Animal:\n",
    "    pass\n",
    "\n",
    "class Mammal(Animal):\n",
    "    pass\n",
    "\n",
    "class Dog(Mammal):\n",
    "    pass\n",
    "\n",
    "print(issubclass(Dog, Animal))   # Output: True\n",
    "print(issubclass(Dog, Mammal))   # Output: True\n",
    "print(issubclass(Dog, Dog))      # Output: True\n"
   ]
  },
  {
   "cell_type": "code",
   "execution_count": 36,
   "id": "8a1d2e19-7987-4ec0-ac45-dfa1b2cd858c",
   "metadata": {},
   "outputs": [
    {
     "name": "stdout",
     "output_type": "stream",
     "text": [
      "Parent constructor\n",
      "Child constructor\n"
     ]
    }
   ],
   "source": [
    "#10. Discuss the concept of constructor inheritance in Python. How are constructors inherited in child classes?\n",
    "\n",
    "#ans \n",
    "\n",
    "class Parent:\n",
    "    def __init__(self, parent_param):\n",
    "        self.parent_param = parent_param\n",
    "        print(\"Parent constructor\")\n",
    "\n",
    "class Child(Parent):\n",
    "    def __init__(self, parent_param, child_param):\n",
    "        # Call the constructor of the parent class using super()\n",
    "        super().__init__(parent_param)\n",
    "        self.child_param = child_param\n",
    "        print(\"Child constructor\")\n",
    "\n",
    "# Creating an instance of the Child class\n",
    "child_obj = Child(parent_param=\"Hello\", child_param=\"World\")\n"
   ]
  },
  {
   "cell_type": "code",
   "execution_count": 37,
   "id": "8507cefe-fc1b-4b95-a348-f0331db921d1",
   "metadata": {},
   "outputs": [
    {
     "name": "stdout",
     "output_type": "stream",
     "text": [
      "Area of the Circle: 78.54\n",
      "Area of the Rectangle: 24\n"
     ]
    }
   ],
   "source": [
    "#11. Create a Python class called `Shape` with a method `area()` that calculates the area of a shape. Then, create child classes `Circle` and `Rectangle` that inherit from `Shape` and implement the `area()` method\n",
    "#accordingly. Provide an example.\n",
    "\n",
    "#ans \n",
    "\n",
    "import math\n",
    "\n",
    "class Shape:\n",
    "    def area(self):\n",
    "        # Placeholder method for calculating the area of a generic shape\n",
    "        pass\n",
    "\n",
    "class Circle(Shape):\n",
    "    def __init__(self, radius):\n",
    "        self.radius = radius\n",
    "\n",
    "    def area(self):\n",
    "        # Calculate the area of a circle: π * r^2\n",
    "        return math.pi * self.radius**2\n",
    "\n",
    "class Rectangle(Shape):\n",
    "    def __init__(self, length, width):\n",
    "        self.length = length\n",
    "        self.width = width\n",
    "\n",
    "    def area(self):\n",
    "        # Calculate the area of a rectangle: length * width\n",
    "        return self.length * self.width\n",
    "\n",
    "# Creating instances of the Circle and Rectangle classes\n",
    "circle_obj = Circle(radius=5)\n",
    "rectangle_obj = Rectangle(length=4, width=6)\n",
    "\n",
    "# Calling the area() method for each shape\n",
    "print(f\"Area of the Circle: {circle_obj.area():.2f}\")\n",
    "print(f\"Area of the Rectangle: {rectangle_obj.area()}\")\n",
    "\n"
   ]
  },
  {
   "cell_type": "code",
   "execution_count": 38,
   "id": "aca8cddf-9abc-4099-a086-1d80a1d8adf8",
   "metadata": {},
   "outputs": [
    {
     "name": "stdout",
     "output_type": "stream",
     "text": [
      "Area of the Circle: 78.50\n",
      "Area of the Rectangle: 24\n"
     ]
    }
   ],
   "source": [
    "#12. Explain the use of abstract base classes (ABCs) in Python and how they relate to inheritance. Provide an\n",
    "#example using the `abc` module.\n",
    "\n",
    "#ans \n",
    "\n",
    "from abc import ABC, abstractmethod\n",
    "\n",
    "# Define an abstract base class 'Shape'\n",
    "class Shape(ABC):\n",
    "    @abstractmethod\n",
    "    def area(self):\n",
    "        pass\n",
    "\n",
    "# Concrete class 'Circle' inheriting from 'Shape'\n",
    "class Circle(Shape):\n",
    "    def __init__(self, radius):\n",
    "        self.radius = radius\n",
    "\n",
    "    def area(self):\n",
    "        # Calculate the area of a circle: π * r^2\n",
    "        return 3.14 * self.radius**2\n",
    "\n",
    "# Concrete class 'Rectangle' inheriting from 'Shape'\n",
    "class Rectangle(Shape):\n",
    "    def __init__(self, length, width):\n",
    "        self.length = length\n",
    "        self.width = width\n",
    "\n",
    "    def area(self):\n",
    "        # Calculate the area of a rectangle: length * width\n",
    "        return self.length * self.width\n",
    "\n",
    "# Uncommenting the following line will result in an error, as Shape is an abstract class:\n",
    "# shape_obj = Shape()\n",
    "\n",
    "# Creating instances of the Circle and Rectangle classes\n",
    "circle_obj = Circle(radius=5)\n",
    "rectangle_obj = Rectangle(length=4, width=6)\n",
    "\n",
    "# Calling the area() method for each shape\n",
    "print(f\"Area of the Circle: {circle_obj.area():.2f}\")\n",
    "print(f\"Area of the Rectangle: {rectangle_obj.area()}\")\n"
   ]
  },
  {
   "cell_type": "code",
   "execution_count": 39,
   "id": "3b34b90c-5b7f-407f-8949-49e3f19cd042",
   "metadata": {},
   "outputs": [
    {
     "name": "stdout",
     "output_type": "stream",
     "text": [
      "42\n"
     ]
    },
    {
     "ename": "AttributeError",
     "evalue": "'Child' object has no attribute '_Child__mangled_method'",
     "output_type": "error",
     "traceback": [
      "\u001b[1;31m---------------------------------------------------------------------------\u001b[0m",
      "\u001b[1;31mAttributeError\u001b[0m                            Traceback (most recent call last)",
      "Cell \u001b[1;32mIn[39], line 31\u001b[0m\n\u001b[0;32m     28\u001b[0m \u001b[38;5;28mprint\u001b[39m(child_obj\u001b[38;5;241m.\u001b[39m_Parent__mangled_attribute)  \u001b[38;5;66;03m# Output: 99\u001b[39;00m\n\u001b[0;32m     30\u001b[0m \u001b[38;5;66;03m# Calling the mangled method (not recommended)\u001b[39;00m\n\u001b[1;32m---> 31\u001b[0m \u001b[38;5;28mprint\u001b[39m(\u001b[43mchild_obj\u001b[49m\u001b[38;5;241;43m.\u001b[39;49m\u001b[43mcall_mangled_method\u001b[49m\u001b[43m(\u001b[49m\u001b[43m)\u001b[49m)  \u001b[38;5;66;03m# Output: This method is mangled\u001b[39;00m\n",
      "Cell \u001b[1;32mIn[39], line 22\u001b[0m, in \u001b[0;36mChild.call_mangled_method\u001b[1;34m(self)\u001b[0m\n\u001b[0;32m     20\u001b[0m \u001b[38;5;28;01mdef\u001b[39;00m \u001b[38;5;21mcall_mangled_method\u001b[39m(\u001b[38;5;28mself\u001b[39m):\n\u001b[0;32m     21\u001b[0m     \u001b[38;5;66;03m# Attempt to call the mangled method (not recommended)\u001b[39;00m\n\u001b[1;32m---> 22\u001b[0m     \u001b[38;5;28;01mreturn\u001b[39;00m \u001b[38;5;28;43mself\u001b[39;49m\u001b[38;5;241;43m.\u001b[39;49m\u001b[43m__mangled_method\u001b[49m()\n",
      "\u001b[1;31mAttributeError\u001b[0m: 'Child' object has no attribute '_Child__mangled_method'"
     ]
    }
   ],
   "source": [
    "#13. How can you prevent a child class from modifying certain attributes or methods inherited from a parent\n",
    "#class in Python?\n",
    "\n",
    "#ans \n",
    "\n",
    "class Parent:\n",
    "    def __init__(self):\n",
    "        self.__mangled_attribute = 42\n",
    "\n",
    "    def __mangled_method(self):\n",
    "        return \"This method is mangled\"\n",
    "\n",
    "class Child(Parent):\n",
    "    def __init__(self):\n",
    "        super().__init__()\n",
    "\n",
    "        # Attempt to modify the mangled attribute (not recommended)\n",
    "        self.__mangled_attribute = 99\n",
    "\n",
    "    def call_mangled_method(self):\n",
    "        # Attempt to call the mangled method (not recommended)\n",
    "        return self.__mangled_method()\n",
    "\n",
    "# Example usage\n",
    "child_obj = Child()\n",
    "\n",
    "# Accessing the mangled attribute (not recommended)\n",
    "print(child_obj._Parent__mangled_attribute)  # Output: 99\n",
    "\n",
    "# Calling the mangled method (not recommended)\n",
    "print(child_obj.call_mangled_method())  # Output: This method is mangled\n"
   ]
  },
  {
   "cell_type": "code",
   "execution_count": 40,
   "id": "dbbfe09d-de06-4a9c-bf69-3e09dab07019",
   "metadata": {},
   "outputs": [
    {
     "name": "stdout",
     "output_type": "stream",
     "text": [
      "Name: John Doe\n",
      "Salary: $75000\n",
      "Department: Sales\n"
     ]
    }
   ],
   "source": [
    "#14. Create a Python class called `Employee` with attributes `name` and `salary`. Then, create a child class\n",
    "#`Manager` that inherits from `Employee` and adds an attribute `department`. Provide an example.\n",
    "\n",
    "#ans \n",
    "\n",
    "class Employee:\n",
    "    def __init__(self, name, salary):\n",
    "        self.name = name\n",
    "        self.salary = salary\n",
    "\n",
    "class Manager(Employee):\n",
    "    def __init__(self, name, salary, department):\n",
    "        # Call the constructor of the parent class using super()\n",
    "        super().__init__(name, salary)\n",
    "\n",
    "        # Initialize the additional attribute specific to the Manager class\n",
    "        self.department = department\n",
    "\n",
    "# Creating an instance of the Manager class\n",
    "manager_obj = Manager(name=\"John Doe\", salary=75000, department=\"Sales\")\n",
    "\n",
    "# Accessing attributes from both Employee and Manager classes\n",
    "print(f\"Name: {manager_obj.name}\")\n",
    "print(f\"Salary: ${manager_obj.salary}\")\n",
    "print(f\"Department: {manager_obj.department}\")\n"
   ]
  },
  {
   "cell_type": "code",
   "execution_count": 41,
   "id": "7fb5c4b3-6dca-4219-9d96-d39e0df96d86",
   "metadata": {},
   "outputs": [
    {
     "name": "stdout",
     "output_type": "stream",
     "text": [
      "Generic animal sound\n",
      "Woof!\n"
     ]
    }
   ],
   "source": [
    "#15. Discuss the concept of method overloading in Python inheritance. How does it differ from method\n",
    "#overriding?\n",
    "\n",
    "#ans \n",
    "\n",
    "class Animal:\n",
    "    def make_sound(self):\n",
    "        return \"Generic animal sound\"\n",
    "\n",
    "class Dog(Animal):\n",
    "    def make_sound(self):\n",
    "        return \"Woof!\"\n",
    "\n",
    "# Creating instances of the Animal and Dog classes\n",
    "animal_obj = Animal()\n",
    "dog_obj = Dog()\n",
    "\n",
    "# Calling the make_sound method for each object\n",
    "print(animal_obj.make_sound())  # Output: Generic animal sound\n",
    "print(dog_obj.make_sound())     # Output: Woof!\n"
   ]
  },
  {
   "cell_type": "code",
   "execution_count": 42,
   "id": "ea07b2ba-c745-40b8-9883-8f4d7b7d7559",
   "metadata": {},
   "outputs": [
    {
     "name": "stdout",
     "output_type": "stream",
     "text": [
      "Species: Canine\n",
      "Breed: Golden Retriever\n"
     ]
    }
   ],
   "source": [
    "#16. Explain the purpose of the `__init__()` method in Python inheritance and how it is utilized in child classes.\n",
    "\n",
    "#ans \n",
    "\n",
    "class Animal:\n",
    "    def __init__(self, species):\n",
    "        self.species = species\n",
    "\n",
    "class Dog(Animal):\n",
    "    def __init__(self, species, breed):\n",
    "        # Call the constructor of the parent class using super()\n",
    "        super().__init__(species)\n",
    "\n",
    "        # Initialize the additional attribute specific to the Dog class\n",
    "        self.breed = breed\n",
    "\n",
    "# Creating an instance of the Dog class\n",
    "dog_instance = Dog(species=\"Canine\", breed=\"Golden Retriever\")\n",
    "\n",
    "# Accessing attributes from both Animal and Dog classes\n",
    "print(f\"Species: {dog_instance.species}\")\n",
    "print(f\"Breed: {dog_instance.breed}\")\n"
   ]
  },
  {
   "cell_type": "code",
   "execution_count": 43,
   "id": "f7254fd4-efa4-4d22-b800-7932c4a3115a",
   "metadata": {},
   "outputs": [
    {
     "name": "stdout",
     "output_type": "stream",
     "text": [
      "Eagle soaring high in the sky\n",
      "Sparrow flitting through the air\n"
     ]
    }
   ],
   "source": [
    "#17. Create a Python class called `Bird` with a method `fly()`. Then, create child classes `Eagle` and `Sparrow` that inherit from `Bird` and implement the `fly()` method differently. Provide an example of using these\n",
    "#classes.\n",
    "\n",
    "#ans \n",
    "\n",
    "class Bird:\n",
    "    def fly(self):\n",
    "        return \"Generic bird flying\"\n",
    "\n",
    "class Eagle(Bird):\n",
    "    def fly(self):\n",
    "        return \"Eagle soaring high in the sky\"\n",
    "\n",
    "class Sparrow(Bird):\n",
    "    def fly(self):\n",
    "        return \"Sparrow flitting through the air\"\n",
    "\n",
    "# Creating instances of the Eagle and Sparrow classes\n",
    "eagle_obj = Eagle()\n",
    "sparrow_obj = Sparrow()\n",
    "\n",
    "# Calling the fly() method for each bird\n",
    "print(eagle_obj.fly())    # Output: Eagle soaring high in the sky\n",
    "print(sparrow_obj.fly())  # Output: Sparrow flitting through the air\n"
   ]
  },
  {
   "cell_type": "code",
   "execution_count": 44,
   "id": "5d9d045a-9628-40c4-810a-9431dc7fc1dc",
   "metadata": {},
   "outputs": [
    {
     "name": "stdout",
     "output_type": "stream",
     "text": [
      "Method in class B\n",
      "Method in class C\n",
      "Method in class A\n"
     ]
    }
   ],
   "source": [
    "#18. What is the \"diamond problem\" in multiple inheritance, and how does Python address it?\n",
    "\n",
    "#ans \n",
    "\n",
    "class A:\n",
    "    def method(self):\n",
    "        print(\"Method in class A\")\n",
    "\n",
    "class B(A):\n",
    "    def method(self):\n",
    "        print(\"Method in class B\")\n",
    "        super().method()\n",
    "\n",
    "class C(A):\n",
    "    def method(self):\n",
    "        print(\"Method in class C\")\n",
    "        super().method()\n",
    "\n",
    "class D(B, C):\n",
    "    pass\n",
    "\n",
    "# Creating an instance of class D\n",
    "d_instance = D()\n",
    "\n",
    "# Calling the method in class D\n",
    "d_instance.method()\n"
   ]
  },
  {
   "cell_type": "code",
   "execution_count": 45,
   "id": "e8514423-c792-498e-9700-ce61eafcb0fb",
   "metadata": {},
   "outputs": [
    {
     "name": "stdout",
     "output_type": "stream",
     "text": [
      "Engine started\n"
     ]
    }
   ],
   "source": [
    "#19. Discuss the concept of \"is-a\" and \"has-a\" relationships in inheritance, and provide examples of each.\n",
    "\n",
    "# \"has-a\" relationship example\n",
    "class Engine:\n",
    "    def start(self):\n",
    "        return \"Engine started\"\n",
    "\n",
    "class Car:\n",
    "    def __init__(self):\n",
    "        self.engine = Engine()\n",
    "\n",
    "    def start_car(self):\n",
    "        return self.engine.start()\n",
    "\n",
    "# Creating an instance of Car\n",
    "car_instance = Car()\n",
    "\n",
    "# Using \"has-a\" relationship to start the car\n",
    "print(car_instance.start_car())  # Output: Engine started\n"
   ]
  },
  {
   "cell_type": "code",
   "execution_count": 46,
   "id": "27ff4baa-37ec-47cc-aecd-bdf792d919b8",
   "metadata": {},
   "outputs": [
    {
     "name": "stdout",
     "output_type": "stream",
     "text": [
      "Hi, I'm Alice, and I'm 20 years old.\n",
      "Alice is studying Computer Science.\n",
      "Hi, I'm Dr. Smith, and I'm 45 years old.\n",
      "Dr. Smith is teaching in the Mathematics department.\n"
     ]
    }
   ],
   "source": [
    "#20. Create a Python class hierarchy for a university system. Start with a base class `Person` and create child\n",
    "#classes `Student` and `Professor`, each with their own attributes and methods. Provide an example of using\n",
    "#these classes in a university context.\n",
    "\n",
    "#ans \n",
    "\n",
    "class Person:\n",
    "    def __init__(self, name, age):\n",
    "        self.name = name\n",
    "        self.age = age\n",
    "\n",
    "    def introduce(self):\n",
    "        return f\"Hi, I'm {self.name}, and I'm {self.age} years old.\"\n",
    "\n",
    "\n",
    "class Student(Person):\n",
    "    def __init__(self, name, age, student_id, major):\n",
    "        super().__init__(name, age)\n",
    "        self.student_id = student_id\n",
    "        self.major = major\n",
    "\n",
    "    def study(self):\n",
    "        return f\"{self.name} is studying {self.major}.\"\n",
    "\n",
    "\n",
    "class Professor(Person):\n",
    "    def __init__(self, name, age, employee_id, department):\n",
    "        super().__init__(name, age)\n",
    "        self.employee_id = employee_id\n",
    "        self.department = department\n",
    "\n",
    "    def teach(self):\n",
    "        return f\"{self.name} is teaching in the {self.department} department.\"\n",
    "\n",
    "\n",
    "# Example usage in a university context\n",
    "student1 = Student(name=\"Alice\", age=20, student_id=\"S12345\", major=\"Computer Science\")\n",
    "professor1 = Professor(name=\"Dr. Smith\", age=45, employee_id=\"P98765\", department=\"Mathematics\")\n",
    "\n",
    "# Calling methods for each person\n",
    "print(student1.introduce())  # Output: Hi, I'm Alice, and I'm 20 years old.\n",
    "print(student1.study())      # Output: Alice is studying Computer Science.\n",
    "\n",
    "print(professor1.introduce())  # Output: Hi, I'm Dr. Smith, and I'm 45 years old.\n",
    "print(professor1.teach())      # Output: Dr. Smith is teaching in the Mathematics department.\n"
   ]
  },
  {
   "cell_type": "code",
   "execution_count": 47,
   "id": "9ea03062-4bf1-457f-8545-ee2a87e3ad54",
   "metadata": {},
   "outputs": [],
   "source": [
    "#ENCAPSULATION"
   ]
  },
  {
   "cell_type": "code",
   "execution_count": 48,
   "id": "7ef7dd2e-21f0-4a3b-ade0-68efa8d79156",
   "metadata": {},
   "outputs": [
    {
     "name": "stdout",
     "output_type": "stream",
     "text": [
      "1000\n",
      "Deposited $500. New balance: $1500\n",
      "Withdrew $200. New balance: $1300\n"
     ]
    }
   ],
   "source": [
    "#1. Explain the concept of encapsulation in Python. What is its role in object-oriented programming?\n",
    "\n",
    "#ans \n",
    "\n",
    "class BankAccount:\n",
    "    def __init__(self, account_holder, balance):\n",
    "        # Private attributes\n",
    "        self._account_holder = account_holder\n",
    "        self._balance = balance\n",
    "\n",
    "    # Public methods to interact with the encapsulated data\n",
    "    def get_balance(self):\n",
    "        return self._balance\n",
    "\n",
    "    def deposit(self, amount):\n",
    "        if amount > 0:\n",
    "            self._balance += amount\n",
    "            return f\"Deposited ${amount}. New balance: ${self._balance}\"\n",
    "        else:\n",
    "            return \"Invalid deposit amount.\"\n",
    "\n",
    "    def withdraw(self, amount):\n",
    "        if amount > 0 and amount <= self._balance:\n",
    "            self._balance -= amount\n",
    "            return f\"Withdrew ${amount}. New balance: ${self._balance}\"\n",
    "        else:\n",
    "            return \"Invalid withdrawal amount.\"\n",
    "\n",
    "# Example usage\n",
    "account = BankAccount(account_holder=\"John Doe\", balance=1000)\n",
    "\n",
    "print(account.get_balance())  # Output: 1000\n",
    "print(account.deposit(500))   # Output: Deposited $500. New balance: $1500\n",
    "print(account.withdraw(200))  # Output: Withdrew $200. New balance: $1300\n"
   ]
  },
  {
   "cell_type": "code",
   "execution_count": 49,
   "id": "67fddd9a-f5c7-4448-98e8-156a0a040696",
   "metadata": {},
   "outputs": [
    {
     "name": "stdout",
     "output_type": "stream",
     "text": [
      "1000\n",
      "Deposited $500. New balance: $1500\n"
     ]
    }
   ],
   "source": [
    "#2. Describe the key principles of encapsulation, including access control and data hiding.\n",
    "\n",
    "#qans \n",
    "\n",
    "class BankAccount:\n",
    "    def __init__(self, account_holder, balance):\n",
    "        # Private attributes\n",
    "        self._account_holder = account_holder\n",
    "        self.__balance = balance\n",
    "\n",
    "    # Public methods for external interaction\n",
    "    def get_balance(self):\n",
    "        # Accessing private attribute\n",
    "        return self.__balance\n",
    "\n",
    "    def deposit(self, amount):\n",
    "        # Modifying private attribute through a controlled method\n",
    "        if amount > 0:\n",
    "            self.__balance += amount\n",
    "            return f\"Deposited ${amount}. New balance: ${self.__balance}\"\n",
    "        else:\n",
    "            return \"Invalid deposit amount.\"\n",
    "\n",
    "# Example usage\n",
    "account = BankAccount(account_holder=\"John Doe\", balance=1000)\n",
    "\n",
    "# Accessing private attribute through a public method\n",
    "print(account.get_balance())  # Output: 1000\n",
    "\n",
    "# Attempting to directly access a private attribute (raises an error)\n",
    "# print(account.__balance)  # Uncommenting this line will result in an AttributeError\n",
    "\n",
    "# Modifying private attribute through a controlled method\n",
    "print(account.deposit(500))  # Output: Deposited $500. New balance: $1500\n"
   ]
  },
  {
   "cell_type": "code",
   "execution_count": 50,
   "id": "cd2f3673-0522-4bd8-aa19-ac30c4e4420f",
   "metadata": {},
   "outputs": [
    {
     "name": "stdout",
     "output_type": "stream",
     "text": [
      "John Doe\n",
      "1000\n",
      "Deposited $500. New balance: $1500\n"
     ]
    }
   ],
   "source": [
    "#3. How can you achieve encapsulation in Python classes? Provide an example.\n",
    "\n",
    "#ans \n",
    "\n",
    "class BankAccount:\n",
    "    def __init__(self, account_holder, balance):\n",
    "        # Public attribute\n",
    "        self.account_holder = account_holder\n",
    "        # Private attribute\n",
    "        self._balance = balance\n",
    "\n",
    "    # Public method\n",
    "    def get_balance(self):\n",
    "        return self._balance\n",
    "\n",
    "    # Public method\n",
    "    def deposit(self, amount):\n",
    "        if amount > 0:\n",
    "            self._balance += amount\n",
    "            return f\"Deposited ${amount}. New balance: ${self._balance}\"\n",
    "        else:\n",
    "            return \"Invalid deposit amount.\"\n",
    "\n",
    "# Example usage\n",
    "account = BankAccount(account_holder=\"John Doe\", balance=1000)\n",
    "\n",
    "# Accessing public attribute directly\n",
    "print(account.account_holder)  # Output: John Doe\n",
    "\n",
    "# Attempting to access private attribute directly (underscore convention is a signal, not a strict restriction)\n",
    "# print(account._balance)  # Uncommenting this line is allowed, but it goes against the convention\n",
    "\n",
    "# Accessing private attribute through a public method\n",
    "print(account.get_balance())  # Output: 1000\n",
    "\n",
    "# Modifying private attribute through a controlled method\n",
    "print(account.deposit(500))  # Output: Deposited $500. New balance: $1500\n"
   ]
  },
  {
   "cell_type": "code",
   "execution_count": 51,
   "id": "aa3cd451-dc03-462f-ad51-16aad3ce94cc",
   "metadata": {},
   "outputs": [],
   "source": [
    "#4. Discuss the difference between public, private, and protected access modifiers in Python.\n",
    "\n",
    "#ans \n",
    "\n",
    "class MyBaseClass:\n",
    "    def __init__(self):\n",
    "        # Protected attribute\n",
    "        self.__protected_variable = 42\n",
    "\n",
    "    def __protected_method(self):\n",
    "        # Protected method\n",
    "        pass\n",
    "\n",
    "class MyDerivedClass(MyBaseClass):\n",
    "    def access_protected(self):\n",
    "        # Accessing protected attribute and method from the base class\n",
    "        print(self.__protected_variable)\n",
    "        self.__protected_method()\n"
   ]
  },
  {
   "cell_type": "code",
   "execution_count": 52,
   "id": "fc198f0e-33a9-4ee3-a057-1e278a156f66",
   "metadata": {},
   "outputs": [
    {
     "data": {
      "text/plain": [
       "' Public members are accessible from anywhere, private members are not directly accessible outside the class (conventionally marked with a single leading underscore), and protected members are accessible within the class and its subclasses (conventionally marked with a double leading underscore).'"
      ]
     },
     "execution_count": 52,
     "metadata": {},
     "output_type": "execute_result"
    }
   ],
   "source": [
    "#4. Discuss the difference between public, private, and protected access modifiers in Python.\n",
    "\n",
    "#ans \n",
    "\n",
    "''' Public members are accessible from anywhere, private members are not directly accessible outside the class (conventionally marked with a single leading underscore), and protected members are accessible within the class and its subclasses (conventionally marked with a double leading underscore).'''"
   ]
  },
  {
   "cell_type": "code",
   "execution_count": 53,
   "id": "dfb59250-7c82-4e27-9355-1ebc0d5b8fe8",
   "metadata": {},
   "outputs": [
    {
     "name": "stdout",
     "output_type": "stream",
     "text": [
      "John Doe\n",
      "Jane Doe\n"
     ]
    }
   ],
   "source": [
    "#5. Create a Python class called `Person` with a private attribute `__name`. Provide methods to get and set the\n",
    "#name attribute.\n",
    "\n",
    "#ans \n",
    "\n",
    "class Person:\n",
    "    def __init__(self, name):\n",
    "        self.__name = name\n",
    "\n",
    "    def get_name(self):\n",
    "        return self.__name\n",
    "\n",
    "    def set_name(self, new_name):\n",
    "        self.__name = new_name\n",
    "\n",
    "# Example usage\n",
    "person_instance = Person(name=\"John Doe\")\n",
    "\n",
    "# Accessing the name attribute using the get_name method\n",
    "print(person_instance.get_name())  # Output: John Doe\n",
    "\n",
    "# Setting a new name using the set_name method\n",
    "person_instance.set_name(\"Jane Doe\")\n",
    "\n",
    "# Accessing the updated name\n",
    "print(person_instance.get_name())  # Output: Jane Doe\n",
    "\n"
   ]
  },
  {
   "cell_type": "code",
   "execution_count": 54,
   "id": "287283d9-ad47-4575-a6a1-a2a125a2521c",
   "metadata": {},
   "outputs": [],
   "source": [
    "#6. Explain the purpose of getter and setter methods in encapsulation. Provide examples.\n",
    "\n",
    "#ans \n",
    "\n",
    "#Getter methods retrieve the value of private attributes, while setter methods modify them, ensuring controlled access, validation, and encapsulation in object-oriented programming."
   ]
  },
  {
   "cell_type": "code",
   "execution_count": 55,
   "id": "36c9dbfe-ff7b-4cd7-bf04-5c998e616813",
   "metadata": {},
   "outputs": [
    {
     "ename": "AttributeError",
     "evalue": "'MyClass' object has no attribute '__private_attribute'",
     "output_type": "error",
     "traceback": [
      "\u001b[1;31m---------------------------------------------------------------------------\u001b[0m",
      "\u001b[1;31mAttributeError\u001b[0m                            Traceback (most recent call last)",
      "Cell \u001b[1;32mIn[55], line 12\u001b[0m\n\u001b[0;32m     10\u001b[0m obj \u001b[38;5;241m=\u001b[39m MyClass()\n\u001b[0;32m     11\u001b[0m \u001b[38;5;66;03m# This does not work as expected, as the attribute name has been mangled\u001b[39;00m\n\u001b[1;32m---> 12\u001b[0m \u001b[38;5;28mprint\u001b[39m(\u001b[43mobj\u001b[49m\u001b[38;5;241;43m.\u001b[39;49m\u001b[43m__private_attribute\u001b[49m)  \u001b[38;5;66;03m# Raises AttributeError\u001b[39;00m\n\u001b[0;32m     14\u001b[0m \u001b[38;5;66;03m# Accessing the mangled attribute using the modified name\u001b[39;00m\n\u001b[0;32m     15\u001b[0m \u001b[38;5;28mprint\u001b[39m(obj\u001b[38;5;241m.\u001b[39m_MyClass__private_attribute)  \u001b[38;5;66;03m# Output: 42\u001b[39;00m\n",
      "\u001b[1;31mAttributeError\u001b[0m: 'MyClass' object has no attribute '__private_attribute'"
     ]
    }
   ],
   "source": [
    "#7. What is name mangling in Python, and how does it affect encapsulation?\n",
    "\n",
    "#ans \n",
    "\n",
    "class MyClass:\n",
    "    def __init__(self):\n",
    "        self.__private_attribute = 42\n",
    "\n",
    "# Accessing the name-mangled attribute from outside the class\n",
    "obj = MyClass()\n",
    "# This does not work as expected, as the attribute name has been mangled\n",
    "print(obj.__private_attribute)  # Raises AttributeError\n",
    "\n",
    "# Accessing the mangled attribute using the modified name\n",
    "print(obj._MyClass__private_attribute)  # Output: 42\n"
   ]
  },
  {
   "cell_type": "code",
   "execution_count": 56,
   "id": "201ccaa1-9bd9-401e-bf40-2cec5d5c7412",
   "metadata": {},
   "outputs": [
    {
     "name": "stdout",
     "output_type": "stream",
     "text": [
      "Account Holder: John Doe\n",
      "Initial Balance: $1000.0\n",
      "Deposited $500. New balance: $1500.0\n",
      "Withdrew $200. New balance: $1300.0\n",
      "Invalid withdrawal amount.\n",
      "Updated Balance: $1300.0\n"
     ]
    }
   ],
   "source": [
    "#8. Create a Python class called `BankAccount` with private attributes for the account balance (`__balance`)\n",
    "\n",
    "#amns \n",
    "\n",
    "class BankAccount:\n",
    "    def __init__(self, account_holder, initial_balance=0.0):\n",
    "        self.__account_holder = account_holder\n",
    "        self.__balance = initial_balance\n",
    "\n",
    "    def get_balance(self):\n",
    "        return self.__balance\n",
    "\n",
    "    def deposit(self, amount):\n",
    "        if amount > 0:\n",
    "            self.__balance += amount\n",
    "            return f\"Deposited ${amount}. New balance: ${self.__balance}\"\n",
    "        else:\n",
    "            return \"Invalid deposit amount.\"\n",
    "\n",
    "    def withdraw(self, amount):\n",
    "        if 0 < amount <= self.__balance:\n",
    "            self.__balance -= amount\n",
    "            return f\"Withdrew ${amount}. New balance: ${self.__balance}\"\n",
    "        else:\n",
    "            return \"Invalid withdrawal amount.\"\n",
    "\n",
    "    def get_account_holder(self):\n",
    "        return self.__account_holder\n",
    "\n",
    "# Example usage\n",
    "account = BankAccount(account_holder=\"John Doe\", initial_balance=1000.0)\n",
    "\n",
    "# Accessing the private attributes using getter methods\n",
    "print(f\"Account Holder: {account.get_account_holder()}\")  # Output: John Doe\n",
    "print(f\"Initial Balance: ${account.get_balance()}\")         # Output: 1000.0\n",
    "\n",
    "# Depositing and withdrawing using methods\n",
    "print(account.deposit(500))    # Output: Deposited $500. New balance: $1500.0\n",
    "print(account.withdraw(200))   # Output: Withdrew $200. New balance: $1300.0\n",
    "print(account.withdraw(2000))  # Output: Invalid withdrawal amount.\n",
    "\n",
    "# Accessing the updated balance\n",
    "print(f\"Updated Balance: ${account.get_balance()}\")  # Output: 1300.0\n"
   ]
  },
  {
   "cell_type": "code",
   "execution_count": 57,
   "id": "7e3e104b-3a8c-40d4-9c75-38eddf67b181",
   "metadata": {},
   "outputs": [
    {
     "data": {
      "text/plain": [
       "\" Encapsulation in object-oriented programming offers several advantages, particularly in terms of code maintainability and security. Here are key benefits associated with encapsulation:\\n\\n### Advantages of Encapsulation:\\n\\n1. **Modularity:**\\n   - Encapsulation allows breaking down a complex system into smaller, manageable modules (classes).\\n   - Each class encapsulates its own data and behavior, promoting modularity and ease of understanding.\\n\\n2. **Code Organization:**\\n   - Encapsulation helps organize code by providing a clear separation between the internal implementation details and the external interface.\\n   - Users of a class interact with it through a well-defined set of methods, hiding the complexity of the underlying implementation.\\n\\n3. **Code Maintenance:**\\n   - Changes to the internal implementation of a class do not affect the external code using that class as long as the public interface remains consistent.\\n   - This reduces the likelihood of introducing bugs during maintenance and makes it easier to update or extend the code.\\n\\n4. **Flexibility and Adaptability:**\\n   - Encapsulation provides flexibility to change the internal representation of data or the implementation of methods without affecting external code.\\n   - It allows for easier adaptation to new requirements and technologies.\\n\\n5. **Security:**\\n   - By encapsulating data within a class and restricting direct access from external code, encapsulation enhances security.\\n   - It reduces the risk of unintended modifications to internal data, preventing potential bugs and security vulnerabilities.\\n\\n6. **Controlled Access:**\\n   - Encapsulation allows controlling access to the internal state of an object through methods (getters and setters).\\n   - This control helps enforce validation checks, ensuring that data is consistent and preventing unauthorized modifications.\\n\\n7. **Information Hiding:**\\n   - Encapsulation hides the internal details of a class, exposing only what is necessary for external interaction.\\n   - It protects the integrity of the object's state by limiting direct access to its attributes.\\n\\n8. **Ease of Testing:**\\n   - Encapsulation facilitates unit testing, as the internal behavior of a class can be tested independently of the rest of the system.\\n   - Test cases can focus on the public methods and their expected outcomes without worrying about the internal details.\\n\\n9. **Enhanced Collaboration:**\\n   - Encapsulation supports collaborative development by allowing different developers to work on different parts of the system without interfering with each other's code.\\n   - Developers can focus on the interfaces and contracts provided by classes rather than the implementation details.\\n\\n10. **Maintenance of Invariants:**\\n    - Encapsulation helps maintain invariants (conditions that should always be true) within a class.\\n    - By encapsulating access to attributes and providing controlled modification through methods, it becomes easier to enforce and preserve invariants.\\n\\nIn summary, encapsulation provides a structured approach to code organization, maintenance, and security. It fosters modularity, flexibility, and controlled access, contributing to the overall reliability and maintainability of software systems.\""
      ]
     },
     "execution_count": 57,
     "metadata": {},
     "output_type": "execute_result"
    }
   ],
   "source": [
    "#9. Discuss the advantages of encapsulation in terms of code maintainability and security.\n",
    "\n",
    "#ans \n",
    "\n",
    "''' Encapsulation in object-oriented programming offers several advantages, particularly in terms of code maintainability and security. Here are key benefits associated with encapsulation:\n",
    "\n",
    "### Advantages of Encapsulation:\n",
    "\n",
    "1. **Modularity:**\n",
    "   - Encapsulation allows breaking down a complex system into smaller, manageable modules (classes).\n",
    "   - Each class encapsulates its own data and behavior, promoting modularity and ease of understanding.\n",
    "\n",
    "2. **Code Organization:**\n",
    "   - Encapsulation helps organize code by providing a clear separation between the internal implementation details and the external interface.\n",
    "   - Users of a class interact with it through a well-defined set of methods, hiding the complexity of the underlying implementation.\n",
    "\n",
    "3. **Code Maintenance:**\n",
    "   - Changes to the internal implementation of a class do not affect the external code using that class as long as the public interface remains consistent.\n",
    "   - This reduces the likelihood of introducing bugs during maintenance and makes it easier to update or extend the code.\n",
    "\n",
    "4. **Flexibility and Adaptability:**\n",
    "   - Encapsulation provides flexibility to change the internal representation of data or the implementation of methods without affecting external code.\n",
    "   - It allows for easier adaptation to new requirements and technologies.\n",
    "\n",
    "5. **Security:**\n",
    "   - By encapsulating data within a class and restricting direct access from external code, encapsulation enhances security.\n",
    "   - It reduces the risk of unintended modifications to internal data, preventing potential bugs and security vulnerabilities.\n",
    "\n",
    "6. **Controlled Access:**\n",
    "   - Encapsulation allows controlling access to the internal state of an object through methods (getters and setters).\n",
    "   - This control helps enforce validation checks, ensuring that data is consistent and preventing unauthorized modifications.\n",
    "\n",
    "7. **Information Hiding:**\n",
    "   - Encapsulation hides the internal details of a class, exposing only what is necessary for external interaction.\n",
    "   - It protects the integrity of the object's state by limiting direct access to its attributes.\n",
    "\n",
    "8. **Ease of Testing:**\n",
    "   - Encapsulation facilitates unit testing, as the internal behavior of a class can be tested independently of the rest of the system.\n",
    "   - Test cases can focus on the public methods and their expected outcomes without worrying about the internal details.\n",
    "\n",
    "9. **Enhanced Collaboration:**\n",
    "   - Encapsulation supports collaborative development by allowing different developers to work on different parts of the system without interfering with each other's code.\n",
    "   - Developers can focus on the interfaces and contracts provided by classes rather than the implementation details.\n",
    "\n",
    "10. **Maintenance of Invariants:**\n",
    "    - Encapsulation helps maintain invariants (conditions that should always be true) within a class.\n",
    "    - By encapsulating access to attributes and providing controlled modification through methods, it becomes easier to enforce and preserve invariants.\n",
    "\n",
    "In summary, encapsulation provides a structured approach to code organization, maintenance, and security. It fosters modularity, flexibility, and controlled access, contributing to the overall reliability and maintainability of software systems.'''"
   ]
  },
  {
   "cell_type": "code",
   "execution_count": 58,
   "id": "3d900255-71eb-45c5-87cc-c424534256f8",
   "metadata": {},
   "outputs": [
    {
     "name": "stdout",
     "output_type": "stream",
     "text": [
      "42\n"
     ]
    }
   ],
   "source": [
    "#10. How can you access private attributes in Python? Provide an example demonstrating the use of name\n",
    "#mangling.\n",
    "\n",
    "#ans \n",
    "\n",
    "class MyClass:\n",
    "    def __init__(self):\n",
    "        # Private attribute with name mangling\n",
    "        self.__private_attribute = 42\n",
    "\n",
    "    def access_private_attribute(self):\n",
    "        # Accessing the private attribute within the class\n",
    "        return self.__private_attribute\n",
    "\n",
    "# Example usage\n",
    "obj = MyClass()\n",
    "\n",
    "# Attempting to access the private attribute directly from outside the class (raises an error)\n",
    "# print(obj.__private_attribute)  # Uncommenting this line will raise an AttributeError\n",
    "\n",
    "# Accessing the private attribute using a method within the class\n",
    "print(obj.access_private_attribute())  # Output: 42\n"
   ]
  },
  {
   "cell_type": "code",
   "execution_count": 59,
   "id": "9a7121ba-3a05-405a-add1-777b3bf9ed57",
   "metadata": {},
   "outputs": [
    {
     "name": "stdout",
     "output_type": "stream",
     "text": [
      "Student Alice is enrolled in courses: [<__main__.Course object at 0x00000231C559C290>, <__main__.Course object at 0x00000231C559D310>]\n",
      "Teacher Mr. Smith is assigned to courses: [<__main__.Course object at 0x00000231C559C290>, <__main__.Course object at 0x00000231C559D310>]\n"
     ]
    }
   ],
   "source": [
    "#11. Create a Python class hierarchy for a school system, including classes for students, teachers, and courses,\n",
    "#and implement encapsulation principles to protect sensitive information.\n",
    "\n",
    "#ans \n",
    "\n",
    "class Person:\n",
    "    def __init__(self, name, age, address):\n",
    "        self.__name = name\n",
    "        self.__age = age\n",
    "        self.__address = address\n",
    "\n",
    "    def get_name(self):\n",
    "        return self.__name\n",
    "\n",
    "    def get_age(self):\n",
    "        return self.__age\n",
    "\n",
    "    def get_address(self):\n",
    "        return self.__address\n",
    "\n",
    "\n",
    "class Student(Person):\n",
    "    def __init__(self, name, age, address, student_id):\n",
    "        super().__init__(name, age, address)\n",
    "        self.__student_id = student_id\n",
    "        self.__courses_enrolled = []\n",
    "\n",
    "    def get_student_id(self):\n",
    "        return self.__student_id\n",
    "\n",
    "    def enroll_course(self, course):\n",
    "        self.__courses_enrolled.append(course)\n",
    "\n",
    "    def get_enrolled_courses(self):\n",
    "        return self.__courses_enrolled\n",
    "\n",
    "\n",
    "class Teacher(Person):\n",
    "    def __init__(self, name, age, address, employee_id):\n",
    "        super().__init__(name, age, address)\n",
    "        self.__employee_id = employee_id\n",
    "        self.__courses_taught = []\n",
    "\n",
    "    def get_employee_id(self):\n",
    "        return self.__employee_id\n",
    "\n",
    "    def assign_course(self, course):\n",
    "        self.__courses_taught.append(course)\n",
    "\n",
    "    def get_assigned_courses(self):\n",
    "        return self.__courses_taught\n",
    "\n",
    "\n",
    "class Course:\n",
    "    def __init__(self, course_code, course_name):\n",
    "        self.__course_code = course_code\n",
    "        self.__course_name = course_name\n",
    "\n",
    "    def get_course_code(self):\n",
    "        return self.__course_code\n",
    "\n",
    "    def get_course_name(self):\n",
    "        return self.__course_name\n",
    "\n",
    "\n",
    "# Example usage\n",
    "student1 = Student(name=\"Alice\", age=18, address=\"123 Main St\", student_id=\"S12345\")\n",
    "teacher1 = Teacher(name=\"Mr. Smith\", age=35, address=\"456 Oak St\", employee_id=\"T98765\")\n",
    "\n",
    "math_course = Course(course_code=\"MATH101\", course_name=\"Mathematics\")\n",
    "physics_course = Course(course_code=\"PHYS202\", course_name=\"Physics\")\n",
    "\n",
    "# Enrolling student in courses\n",
    "student1.enroll_course(math_course)\n",
    "student1.enroll_course(physics_course)\n",
    "\n",
    "# Assigning courses to a teacher\n",
    "teacher1.assign_course(math_course)\n",
    "teacher1.assign_course(physics_course)\n",
    "\n",
    "# Accessing information through methods to ensure encapsulation\n",
    "print(f\"Student {student1.get_name()} is enrolled in courses: {student1.get_enrolled_courses()}\")\n",
    "print(f\"Teacher {teacher1.get_name()} is assigned to courses: {teacher1.get_assigned_courses()}\")\n"
   ]
  },
  {
   "cell_type": "code",
   "execution_count": 60,
   "id": "b751433a-68c0-4b72-9d3d-2a991bf0c037",
   "metadata": {},
   "outputs": [
    {
     "ename": "IndentationError",
     "evalue": "unexpected indent (4050250492.py, line 2)",
     "output_type": "error",
     "traceback": [
      "\u001b[1;36m  Cell \u001b[1;32mIn[60], line 2\u001b[1;36m\u001b[0m\n\u001b[1;33m    def __init__(self, name, age, address):\u001b[0m\n\u001b[1;37m    ^\u001b[0m\n\u001b[1;31mIndentationError\u001b[0m\u001b[1;31m:\u001b[0m unexpected indent\n"
     ]
    }
   ],
   "source": [
    "#class Person:\n",
    "    def __init__(self, name, age, address):\n",
    "        self.__name = name\n",
    "        self.__age = age\n",
    "        self.__address = address\n",
    "\n",
    "    def get_name(self):\n",
    "        return self.__name\n",
    "\n",
    "    def get_age(self):\n",
    "        return self.__age\n",
    "\n",
    "    def get_address(self):\n",
    "        return self.__address\n",
    "\n",
    "\n",
    "class Student(Person):\n",
    "    def __init__(self, name, age, address, student_id):\n",
    "        super().__init__(name, age, address)\n",
    "        self.__student_id = student_id\n",
    "        self.__courses_enrolled = []\n",
    "\n",
    "    def get_student_id(self):\n",
    "        return self.__student_id\n",
    "\n",
    "    def enroll_course(self, course):\n",
    "        self.__courses_enrolled.append(course)\n",
    "\n",
    "    def get_enrolled_courses(self):\n",
    "        return self.__courses_enrolled\n",
    "\n",
    "\n",
    "class Teacher(Person):\n",
    "    def __init__(self, name, age, address, employee_id):\n",
    "        super().__init__(name, age, address)\n",
    "        self.__employee_id = employee_id\n",
    "        self.__courses_taught = []\n",
    "\n",
    "    def get_employee_id(self):\n",
    "        return self.__employee_id\n",
    "\n",
    "    def assign_course(self, course):\n",
    "        self.__courses_taught.append(course)\n",
    "\n",
    "    def get_assigned_courses(self):\n",
    "        return self.__courses_taught\n",
    "\n",
    "\n",
    "class Course:\n",
    "    def __init__(self, course_code, course_name):\n",
    "        self.__course_code = course_code\n",
    "        self.__course_name = course_name\n",
    "\n",
    "    def get_course_code(self):\n",
    "        return self.__course_code\n",
    "\n",
    "    def get_course_name(self):\n",
    "        return self.__course_name\n",
    "\n",
    "\n",
    "# Example usage\n",
    "student1 = Student(name=\"Alice\", age=18, address=\"123 Main St\", student_id=\"S12345\")\n",
    "teacher1 = Teacher(name=\"Mr. Smith\", age=35, address=\"456 Oak St\", employee_id=\"T98765\")\n",
    "\n",
    "math_course = Course(course_code=\"MATH101\", course_name=\"Mathematics\")\n",
    "physics_course = Course(course_code=\"PHYS202\", course_name=\"Physics\")\n",
    "\n",
    "# Enrolling student in courses\n",
    "student1.enroll_course(math_course)\n",
    "student1.enroll_course(physics_course)\n",
    "\n",
    "# Assigning courses to a teacher\n",
    "teacher1.assign_course(math_course)\n",
    "teacher1.assign_course(physics_course)\n",
    "\n",
    "# Accessing information through methods to ensure encapsulation\n",
    "print(f\"Student {student1.get_name()} is enrolled in courses: {student1.get_enrolled_courses()}\")\n",
    "print(f\"Teacher {teacher1.get_name()} is assigned to courses: {teacher1.get_assigned_courses()}\")\n"
   ]
  },
  {
   "cell_type": "code",
   "execution_count": 61,
   "id": "5168e4df-4586-4dea-b8aa-ce3a71ffdd21",
   "metadata": {},
   "outputs": [
    {
     "data": {
      "text/plain": [
       "' Property decorators in Python, marked with `@property`, `@<attribute>.setter`, and `@<attribute>.deleter`, enable controlled access and modification of class attributes, promoting encapsulation by providing a clean and consistent interface.'"
      ]
     },
     "execution_count": 61,
     "metadata": {},
     "output_type": "execute_result"
    }
   ],
   "source": [
    "#12. Explain the concept of property decorators in Python and how they relate to encapsulation.\n",
    "\n",
    "#ans \n",
    "\n",
    "''' Property decorators in Python, marked with `@property`, `@<attribute>.setter`, and `@<attribute>.deleter`, enable controlled access and modification of class attributes, promoting encapsulation by providing a clean and consistent interface.'''"
   ]
  },
  {
   "cell_type": "code",
   "execution_count": 62,
   "id": "054a4d5c-bb59-444f-8000-701e2d8c334b",
   "metadata": {},
   "outputs": [
    {
     "data": {
      "text/plain": [
       "'Data hiding in encapsulation involves restricting direct access to internal attributes, enhancing security and preventing unintended modifications; e.g., using private attributes in classes with getter and setter methods.'"
      ]
     },
     "execution_count": 62,
     "metadata": {},
     "output_type": "execute_result"
    }
   ],
   "source": [
    "#13. What is data hiding, and why is it important in encapsulation? Provide examples.\n",
    "\n",
    "#ans \n",
    "\n",
    "'''Data hiding in encapsulation involves restricting direct access to internal attributes, enhancing security and preventing unintended modifications; e.g., using private attributes in classes with getter and setter methods.'''"
   ]
  },
  {
   "cell_type": "code",
   "execution_count": 63,
   "id": "bd73dcf9-c00b-42ef-a86d-a6d9c019d371",
   "metadata": {},
   "outputs": [
    {
     "name": "stdout",
     "output_type": "stream",
     "text": [
      "Employee ID: E12345\n",
      "Employee Name: John Doe\n",
      "Employee Salary: $50000\n"
     ]
    }
   ],
   "source": [
    "#14. Create a Python class called `Employee` with private attributes\n",
    "\n",
    "#an s\n",
    "\n",
    "class Employee:\n",
    "    def __init__(self, emp_id, name, salary):\n",
    "        self.__emp_id = emp_id\n",
    "        self.__name = name\n",
    "        self.__salary = salary\n",
    "\n",
    "    def get_emp_id(self):\n",
    "        return self.__emp_id\n",
    "\n",
    "    def get_name(self):\n",
    "        return self.__name\n",
    "\n",
    "    def get_salary(self):\n",
    "        return self.__salary\n",
    "\n",
    "# Example usage\n",
    "employee = Employee(emp_id=\"E12345\", name=\"John Doe\", salary=50000)\n",
    "\n",
    "# Accessing private attributes through getter methods\n",
    "print(f\"Employee ID: {employee.get_emp_id()}\")\n",
    "print(f\"Employee Name: {employee.get_name()}\")\n",
    "print(f\"Employee Salary: ${employee.get_salary()}\")\n"
   ]
  },
  {
   "cell_type": "code",
   "execution_count": 64,
   "id": "cb9fa9cd-1545-498e-b7df-ca6f40bcdba4",
   "metadata": {},
   "outputs": [
    {
     "data": {
      "text/plain": [
       "'Accessors (getters) provide controlled read access, while mutators (setters) offer controlled write access, ensuring encapsulation by maintaining control over attribute access in Python classes.'"
      ]
     },
     "execution_count": 64,
     "metadata": {},
     "output_type": "execute_result"
    }
   ],
   "source": [
    "#15. Discuss the use of accessors and mutators in encapsulation. How do they help maintain control over\n",
    "#attribute access?\n",
    "\n",
    "#an s\n",
    "\n",
    "'''Accessors (getters) provide controlled read access, while mutators (setters) offer controlled write access, ensuring encapsulation by maintaining control over attribute access in Python classes.'''"
   ]
  },
  {
   "cell_type": "code",
   "execution_count": 65,
   "id": "6659f4b6-c69c-4997-995d-98a6321524aa",
   "metadata": {},
   "outputs": [
    {
     "data": {
      "text/plain": [
       "' While encapsulation in Python offers numerous benefits, there are some potential drawbacks:\\n\\n1. **Complexity:** Introducing getter and setter methods can increase code complexity, especially in simple classes where direct attribute access may be sufficient.\\n\\n2. **Overhead:** The use of getter and setter methods introduces additional method calls, potentially leading to a slight performance overhead compared to direct attribute access.\\n\\n3. **Verbosity:** Encapsulation can make the code more verbose, especially when dealing with a large number of attributes, leading to increased boilerplate code.\\n\\n4. **Flexibility Trade-off:** Strict encapsulation can limit flexibility, making it harder to change the internal implementation of a class without affecting external code.\\n\\n5. **Misuse of Accessors:** Overreliance on accessors might lead to unnecessary method calls, and developers may bypass encapsulation principles, defeating the purpose.\\n\\n6. **Learning Curve:** For developers new to object-oriented programming or Python, understanding and adhering to encapsulation principles might initially pose a learning curve.\\n\\n7. **Potential for Code Duplication:** The need for similar getter and setter methods across multiple classes may lead to code duplication, especially when dealing with common attributes.\\n\\n8. **Encapsulation Overhead:** In some cases, the benefits of strict encapsulation may not outweigh the overhead, especially in smaller projects where simplicity is prioritized.\\n\\nDespite these potential drawbacks, the advantages of encapsulation, such as improved code organization, maintenance, and security, often outweigh the disadvantages. The drawbacks can be mitigated by careful design and balancing encapsulation with simplicity when appropriate.'"
      ]
     },
     "execution_count": 65,
     "metadata": {},
     "output_type": "execute_result"
    }
   ],
   "source": [
    "#16. What are the potential drawbacks or disadvantages of using encapsulation in Python?\n",
    "\n",
    "#ans \n",
    "\n",
    "''' While encapsulation in Python offers numerous benefits, there are some potential drawbacks:\n",
    "\n",
    "1. **Complexity:** Introducing getter and setter methods can increase code complexity, especially in simple classes where direct attribute access may be sufficient.\n",
    "\n",
    "2. **Overhead:** The use of getter and setter methods introduces additional method calls, potentially leading to a slight performance overhead compared to direct attribute access.\n",
    "\n",
    "3. **Verbosity:** Encapsulation can make the code more verbose, especially when dealing with a large number of attributes, leading to increased boilerplate code.\n",
    "\n",
    "4. **Flexibility Trade-off:** Strict encapsulation can limit flexibility, making it harder to change the internal implementation of a class without affecting external code.\n",
    "\n",
    "5. **Misuse of Accessors:** Overreliance on accessors might lead to unnecessary method calls, and developers may bypass encapsulation principles, defeating the purpose.\n",
    "\n",
    "6. **Learning Curve:** For developers new to object-oriented programming or Python, understanding and adhering to encapsulation principles might initially pose a learning curve.\n",
    "\n",
    "7. **Potential for Code Duplication:** The need for similar getter and setter methods across multiple classes may lead to code duplication, especially when dealing with common attributes.\n",
    "\n",
    "8. **Encapsulation Overhead:** In some cases, the benefits of strict encapsulation may not outweigh the overhead, especially in smaller projects where simplicity is prioritized.\n",
    "\n",
    "Despite these potential drawbacks, the advantages of encapsulation, such as improved code organization, maintenance, and security, often outweigh the disadvantages. The drawbacks can be mitigated by careful design and balancing encapsulation with simplicity when appropriate.'''"
   ]
  },
  {
   "cell_type": "code",
   "execution_count": 66,
   "id": "d52f0e40-66be-4e8d-9694-f56432dfa1bf",
   "metadata": {},
   "outputs": [
    {
     "name": "stdout",
     "output_type": "stream",
     "text": [
      "Book Title: The Great Gatsby\n",
      "Book Author: F. Scott Fitzgerald\n",
      "Is Available: True\n",
      "Book 'The Great Gatsby' by F. Scott Fitzgerald has been borrowed.\n",
      "Book 'The Great Gatsby' by F. Scott Fitzgerald has been returned.\n",
      "Book 'To Kill a Mockingbird' by Harper Lee is currently not available.\n",
      "Book 'To Kill a Mockingbird' by Harper Lee has been returned.\n"
     ]
    }
   ],
   "source": [
    "#17. Create a Python class for a library system that encapsulates book information, including titles, authors,\n",
    "#and availability status.\n",
    "\n",
    "#ans \n",
    "\n",
    "class Book:\n",
    "    def __init__(self, title, author, is_available=True):\n",
    "        self.__title = title\n",
    "        self.__author = author\n",
    "        self.__is_available = is_available\n",
    "\n",
    "    def get_title(self):\n",
    "        return self.__title\n",
    "\n",
    "    def get_author(self):\n",
    "        return self.__author\n",
    "\n",
    "    def is_available(self):\n",
    "        return self.__is_available\n",
    "\n",
    "    def borrow_book(self):\n",
    "        if self.__is_available:\n",
    "            self.__is_available = False\n",
    "            return f\"Book '{self.__title}' by {self.__author} has been borrowed.\"\n",
    "        else:\n",
    "            return f\"Book '{self.__title}' by {self.__author} is currently not available.\"\n",
    "\n",
    "    def return_book(self):\n",
    "        if not self.__is_available:\n",
    "            self.__is_available = True\n",
    "            return f\"Book '{self.__title}' by {self.__author} has been returned.\"\n",
    "        else:\n",
    "            return f\"The book '{self.__title}' by {self.__author} is already available.\"\n",
    "\n",
    "# Example usage\n",
    "book1 = Book(title=\"The Great Gatsby\", author=\"F. Scott Fitzgerald\")\n",
    "book2 = Book(title=\"To Kill a Mockingbird\", author=\"Harper Lee\", is_available=False)\n",
    "\n",
    "# Accessing book information through getter methods\n",
    "print(f\"Book Title: {book1.get_title()}\")\n",
    "print(f\"Book Author: {book1.get_author()}\")\n",
    "print(f\"Is Available: {book1.is_available()}\")\n",
    "\n",
    "# Borrowing and returning books through methods\n",
    "print(book1.borrow_book())  # Output: Book 'The Great Gatsby' by F. Scott Fitzgerald has been borrowed.\n",
    "print(book1.return_book())  # Output: Book 'The Great Gatsby' by F. Scott Fitzgerald has been returned.\n",
    "\n",
    "print(book2.borrow_book())  # Output: Book 'To Kill a Mockingbird' by Harper Lee is currently not available.\n",
    "print(book2.return_book())  # Output: Book 'To Kill a Mockingbird' by Harper Lee has been returned.\n"
   ]
  },
  {
   "cell_type": "code",
   "execution_count": 67,
   "id": "92c20be5-bad8-4fc6-832b-1f21cf43e04d",
   "metadata": {},
   "outputs": [
    {
     "data": {
      "text/plain": [
       "'Encapsulation in Python enhances code reusability and modularity by providing a well-defined interface, hiding internal details, and enabling independent development and maintenance of encapsulated components.'"
      ]
     },
     "execution_count": 67,
     "metadata": {},
     "output_type": "execute_result"
    }
   ],
   "source": [
    "#18. Explain how encapsulation enhances code reusability and modularity in Python programs.\n",
    "\n",
    "#ans \n",
    "\n",
    "'''Encapsulation in Python enhances code reusability and modularity by providing a well-defined interface, hiding internal details, and enabling independent development and maintenance of encapsulated components.'''"
   ]
  },
  {
   "cell_type": "code",
   "execution_count": 68,
   "id": "bf867503-9dbb-46e8-849a-66030c21ed7f",
   "metadata": {},
   "outputs": [
    {
     "data": {
      "text/plain": [
       "'Information hiding in encapsulation conceals internal details of a class, exposing only essential interfaces, essential for simplifying complexity, enhancing security, and facilitating independent development and maintenance in software development.'"
      ]
     },
     "execution_count": 68,
     "metadata": {},
     "output_type": "execute_result"
    }
   ],
   "source": [
    "#19. Describe the concept of information hiding in encapsulation. Why is it essential in software development?\n",
    "\n",
    "#ans \n",
    "\n",
    "'''Information hiding in encapsulation conceals internal details of a class, exposing only essential interfaces, essential for simplifying complexity, enhancing security, and facilitating independent development and maintenance in software development.'''"
   ]
  },
  {
   "cell_type": "code",
   "execution_count": 69,
   "id": "636c1bd4-b036-426c-a323-2b6ca1179166",
   "metadata": {},
   "outputs": [
    {
     "name": "stdout",
     "output_type": "stream",
     "text": [
      "Customer ID: C12345\n",
      "Customer Name: John Doe\n",
      "Customer Address: 123 Main St\n",
      "Contact Number: 555-1234\n",
      "Customer Address (Updated): 456 Oak St\n",
      "Contact Number (Updated): 555-5678\n"
     ]
    }
   ],
   "source": [
    "#20. Create a Python class called `Customer` with private attributes for customer details like name, address,\n",
    "#and contact information. Implement encapsulation to ensure data integrity and security.\n",
    "\n",
    "#ans \n",
    "\n",
    "class Customer:\n",
    "    def __init__(self, customer_id, name, address, contact_number):\n",
    "        self.__customer_id = customer_id\n",
    "        self.__name = name\n",
    "        self.__address = address\n",
    "        self.__contact_number = contact_number\n",
    "\n",
    "    def get_customer_id(self):\n",
    "        return self.__customer_id\n",
    "\n",
    "    def get_name(self):\n",
    "        return self.__name\n",
    "\n",
    "    def get_address(self):\n",
    "        return self.__address\n",
    "\n",
    "    def get_contact_number(self):\n",
    "        return self.__contact_number\n",
    "\n",
    "    def update_address(self, new_address):\n",
    "        self.__address = new_address\n",
    "\n",
    "    def update_contact_number(self, new_contact_number):\n",
    "        self.__contact_number = new_contact_number\n",
    "\n",
    "# Example usage\n",
    "customer1 = Customer(customer_id=\"C12345\", name=\"John Doe\", address=\"123 Main St\", contact_number=\"555-1234\")\n",
    "\n",
    "# Accessing customer information through getter methods\n",
    "print(f\"Customer ID: {customer1.get_customer_id()}\")\n",
    "print(f\"Customer Name: {customer1.get_name()}\")\n",
    "print(f\"Customer Address: {customer1.get_address()}\")\n",
    "print(f\"Contact Number: {customer1.get_contact_number()}\")\n",
    "\n",
    "# Modifying customer information through methods\n",
    "customer1.update_address(\"456 Oak St\")\n",
    "customer1.update_contact_number(\"555-5678\")\n",
    "\n",
    "# Accessing updated customer information\n",
    "print(f\"Customer Address (Updated): {customer1.get_address()}\")\n",
    "print(f\"Contact Number (Updated): {customer1.get_contact_number()}\")\n"
   ]
  },
  {
   "cell_type": "code",
   "execution_count": 71,
   "id": "229824d5-62d9-4be5-81b1-325f785e30ac",
   "metadata": {},
   "outputs": [],
   "source": [
    "#POLYmorphism"
   ]
  },
  {
   "cell_type": "code",
   "execution_count": 72,
   "id": "88ce8528-0c75-43a8-b400-e9901f37c082",
   "metadata": {},
   "outputs": [
    {
     "data": {
      "text/plain": [
       "' Polymorphism in Python allows objects of different types to be treated as objects of a common type, facilitating code flexibility and adhering to the object-oriented programming principle of abstraction.'"
      ]
     },
     "execution_count": 72,
     "metadata": {},
     "output_type": "execute_result"
    }
   ],
   "source": [
    "#1. What is polymorphism in Python? Explain how it is related to object-oriented programming.\n",
    "\n",
    "#ans \n",
    "\n",
    "''' Polymorphism in Python allows objects of different types to be treated as objects of a common type, facilitating code flexibility and adhering to the object-oriented programming principle of abstraction.'''"
   ]
  },
  {
   "cell_type": "code",
   "execution_count": 73,
   "id": "37fc6bf1-fcf5-4d37-b0bb-0dc82d1b19f8",
   "metadata": {},
   "outputs": [
    {
     "data": {
      "text/plain": [
       "'Compile-time polymorphism in Python is achieved through method overloading, resolved during compilation, while runtime polymorphism is achieved through method overriding, resolved dynamically during program execution.'"
      ]
     },
     "execution_count": 73,
     "metadata": {},
     "output_type": "execute_result"
    }
   ],
   "source": [
    "#2. Describe the difference between compile-time polymorphism and runtime polymorphism in Python.\n",
    "\n",
    "#ans \n",
    "\n",
    "'''Compile-time polymorphism in Python is achieved through method overloading, resolved during compilation, while runtime polymorphism is achieved through method overriding, resolved dynamically during program execution.'''"
   ]
  },
  {
   "cell_type": "code",
   "execution_count": 74,
   "id": "4c2ab901-3f59-4f81-bab1-f5ac6abb02db",
   "metadata": {},
   "outputs": [
    {
     "name": "stdout",
     "output_type": "stream",
     "text": [
      "Area of Circle: 78.53981633974483\n",
      "Area of Square: 16\n",
      "Area of Triangle: 9.0\n"
     ]
    }
   ],
   "source": [
    "#3. Create a Python class hierarchy for shapes (e.g., circle, square, triangle) and demonstrate polymorphism\n",
    "#through a common method, such as `calculate_area()`.\n",
    "\n",
    "#ans \n",
    "\n",
    "import math\n",
    "\n",
    "class Shape:\n",
    "    def calculate_area(self):\n",
    "        pass  # To be overridden by subclasses\n",
    "\n",
    "class Circle(Shape):\n",
    "    def __init__(self, radius):\n",
    "        self.radius = radius\n",
    "\n",
    "    def calculate_area(self):\n",
    "        return math.pi * self.radius ** 2\n",
    "\n",
    "class Square(Shape):\n",
    "    def __init__(self, side_length):\n",
    "        self.side_length = side_length\n",
    "\n",
    "    def calculate_area(self):\n",
    "        return self.side_length ** 2\n",
    "\n",
    "class Triangle(Shape):\n",
    "    def __init__(self, base, height):\n",
    "        self.base = base\n",
    "        self.height = height\n",
    "\n",
    "    def calculate_area(self):\n",
    "        return 0.5 * self.base * self.height\n",
    "\n",
    "# Example usage demonstrating polymorphism\n",
    "shapes = [Circle(radius=5), Square(side_length=4), Triangle(base=6, height=3)]\n",
    "\n",
    "for shape in shapes:\n",
    "    print(f\"Area of {shape.__class__.__name__}: {shape.calculate_area()}\")\n"
   ]
  },
  {
   "cell_type": "code",
   "execution_count": 75,
   "id": "d2205c89-ed31-4c25-b965-cdf9646b9dae",
   "metadata": {},
   "outputs": [
    {
     "data": {
      "text/plain": [
       "'Method overriding in polymorphism allows a subclass to provide its own implementation for a method already defined in its superclass, ensuring dynamic method resolution during runtime.'"
      ]
     },
     "execution_count": 75,
     "metadata": {},
     "output_type": "execute_result"
    }
   ],
   "source": [
    "#4. Explain the concept of method overriding in polymorphism. Provide an example. in one line\n",
    "\n",
    "#ans \n",
    "\n",
    "'''Method overriding in polymorphism allows a subclass to provide its own implementation for a method already defined in its superclass, ensuring dynamic method resolution during runtime.'''"
   ]
  },
  {
   "cell_type": "code",
   "execution_count": 76,
   "id": "c4cda299-5309-44e2-b6bc-71f4b70ba4a3",
   "metadata": {},
   "outputs": [
    {
     "data": {
      "text/plain": [
       "' Polymorphism and method overloading are related concepts but differ in their implementations:\\n\\n1. **Polymorphism:**\\n   - Polymorphism allows objects of different types to be treated as objects of a common type, enabling flexibility in code design.\\n   - Achieved through method overriding, where a subclass provides a specific implementation for a method already defined in its superclass.\\n   - The decision of which method to call is made dynamically at runtime based on the actual type of the object.\\n   \\n   Example:\\n   ```python\\n   class Animal:\\n       def speak(self):\\n           return \"Generic animal sound\"\\n   \\n   class Dog(Animal):\\n       def speak(self):\\n           return \"Woof, woof!\"\\n   \\n   class Cat(Animal):\\n       def speak(self):\\n           return \"Meow, meow!\"\\n   \\n   # Polymorphic behavior\\n   animals = [Animal(), Dog(), Cat()]\\n   for animal in animals:\\n       print(animal.speak())\\n   ```\\n\\n2. **Method Overloading:**\\n   - Method overloading involves defining multiple methods in the same class with the same name but different parameter lists.\\n   - The decision of which method to call is made during compilation based on the number or types of arguments provided.\\n   \\n   Example:\\n   ```python\\n   class MathOperations:\\n       def add(self, a, b):\\n           return a + b\\n   \\n       def add(self, a, b, c):\\n           return a + b + c\\n   \\n   # Method overloading\\n   math_operations = MathOperations()\\n   result1 = math_operations.add(2, 3)          # Calls the first add method\\n   result2 = math_operations.add(2, 3, 5)       # Calls the second add method\\n   ```\\n\\n   Note: Python does not support traditional method overloading with different parameter types in the same way as some other languages. The example above showcases method overloading based on the number of parameters.\\n\\nIn summary, polymorphism focuses on dynamic dispatch based on the actual type of objects, while method overloading involves defining multiple methods with the same name but different parameter lists, with the decision made at compile-time.'"
      ]
     },
     "execution_count": 76,
     "metadata": {},
     "output_type": "execute_result"
    }
   ],
   "source": [
    "#5. How is polymorphism different from method overloading in Python? Provide examples for both.\n",
    "\n",
    "#ans \n",
    "\n",
    "\n",
    "''' Polymorphism and method overloading are related concepts but differ in their implementations:\n",
    "\n",
    "1. **Polymorphism:**\n",
    "   - Polymorphism allows objects of different types to be treated as objects of a common type, enabling flexibility in code design.\n",
    "   - Achieved through method overriding, where a subclass provides a specific implementation for a method already defined in its superclass.\n",
    "   - The decision of which method to call is made dynamically at runtime based on the actual type of the object.\n",
    "   \n",
    "   Example:\n",
    "   ```python\n",
    "   class Animal:\n",
    "       def speak(self):\n",
    "           return \"Generic animal sound\"\n",
    "   \n",
    "   class Dog(Animal):\n",
    "       def speak(self):\n",
    "           return \"Woof, woof!\"\n",
    "   \n",
    "   class Cat(Animal):\n",
    "       def speak(self):\n",
    "           return \"Meow, meow!\"\n",
    "   \n",
    "   # Polymorphic behavior\n",
    "   animals = [Animal(), Dog(), Cat()]\n",
    "   for animal in animals:\n",
    "       print(animal.speak())\n",
    "   ```\n",
    "\n",
    "2. **Method Overloading:**\n",
    "   - Method overloading involves defining multiple methods in the same class with the same name but different parameter lists.\n",
    "   - The decision of which method to call is made during compilation based on the number or types of arguments provided.\n",
    "   \n",
    "   Example:\n",
    "   ```python\n",
    "   class MathOperations:\n",
    "       def add(self, a, b):\n",
    "           return a + b\n",
    "   \n",
    "       def add(self, a, b, c):\n",
    "           return a + b + c\n",
    "   \n",
    "   # Method overloading\n",
    "   math_operations = MathOperations()\n",
    "   result1 = math_operations.add(2, 3)          # Calls the first add method\n",
    "   result2 = math_operations.add(2, 3, 5)       # Calls the second add method\n",
    "   ```\n",
    "\n",
    "   Note: Python does not support traditional method overloading with different parameter types in the same way as some other languages. The example above showcases method overloading based on the number of parameters.\n",
    "\n",
    "In summary, polymorphism focuses on dynamic dispatch based on the actual type of objects, while method overloading involves defining multiple methods with the same name but different parameter lists, with the decision made at compile-time.'''"
   ]
  },
  {
   "cell_type": "code",
   "execution_count": 77,
   "id": "354993db-d053-4802-b6a5-0e622a837e2c",
   "metadata": {},
   "outputs": [
    {
     "name": "stdout",
     "output_type": "stream",
     "text": [
      "Animal says: Generic animal sound\n",
      "Dog says: Woof, woof!\n",
      "Cat says: Meow, meow!\n",
      "Bird says: Tweet, tweet!\n"
     ]
    }
   ],
   "source": [
    "# 6. Create a Python class called `Animal` with a method `speak()`. Then, create child classes like `Dog`, `Cat`, and `Bird`, each with their own `speak()` method. Demonstrate polymorphism by calling the `speak()` method\n",
    "#on objects of different subclasses.\n",
    "\n",
    "#ans \n",
    "\n",
    "class Animal:\n",
    "    def speak(self):\n",
    "        return \"Generic animal sound\"\n",
    "\n",
    "class Dog(Animal):\n",
    "    def speak(self):\n",
    "        return \"Woof, woof!\"\n",
    "\n",
    "class Cat(Animal):\n",
    "    def speak(self):\n",
    "        return \"Meow, meow!\"\n",
    "\n",
    "class Bird(Animal):\n",
    "    def speak(self):\n",
    "        return \"Tweet, tweet!\"\n",
    "\n",
    "# Demonstrate polymorphism\n",
    "animals = [Animal(), Dog(), Cat(), Bird()]\n",
    "\n",
    "for animal in animals:\n",
    "    print(f\"{animal.__class__.__name__} says: {animal.speak()}\")\n"
   ]
  },
  {
   "cell_type": "code",
   "execution_count": 78,
   "id": "f966bb08-6013-4eaf-ab7a-6832dcf252f5",
   "metadata": {},
   "outputs": [
    {
     "name": "stdout",
     "output_type": "stream",
     "text": [
      "Area of Circle: 78.5\n",
      "Area of Square: 16\n"
     ]
    }
   ],
   "source": [
    "#7. Discuss the use of abstract methods and classes in achieving polymorphism in Python. Provide an example\n",
    "#using the `abc` module.\n",
    "\n",
    "#ans \n",
    "\n",
    "from abc import ABC, abstractmethod\n",
    "\n",
    "class Shape(ABC):\n",
    "    @abstractmethod\n",
    "    def calculate_area(self):\n",
    "        pass\n",
    "\n",
    "class Circle(Shape):\n",
    "    def __init__(self, radius):\n",
    "        self.radius = radius\n",
    "\n",
    "    def calculate_area(self):\n",
    "        return 3.14 * self.radius ** 2\n",
    "\n",
    "class Square(Shape):\n",
    "    def __init__(self, side_length):\n",
    "        self.side_length = side_length\n",
    "\n",
    "    def calculate_area(self):\n",
    "        return self.side_length ** 2\n",
    "\n",
    "# Creating objects and demonstrating polymorphism\n",
    "shapes = [Circle(radius=5), Square(side_length=4)]\n",
    "\n",
    "for shape in shapes:\n",
    "    print(f\"Area of {shape.__class__.__name__}: {shape.calculate_area()}\")\n"
   ]
  },
  {
   "cell_type": "code",
   "execution_count": 79,
   "id": "fc359e98-e3a3-4d4f-8eb2-292e94dbaf27",
   "metadata": {},
   "outputs": [
    {
     "name": "stdout",
     "output_type": "stream",
     "text": [
      "Toyota Camry car engine started.\n",
      "Toyota Camry car engine stopped.\n",
      "Toyota Camry car is on the move.\n",
      "\n",
      "Schwinn Mountain Bike bicycle doesn't have an engine.\n",
      "Schwinn Mountain Bike bicycle doesn't have an engine.\n",
      "Schwinn Mountain Bike bicycle is pedaling.\n",
      "\n",
      "Sea Ray Speedboat boat engine started.\n",
      "Sea Ray Speedboat boat engine stopped.\n",
      "Sea Ray Speedboat boat is sailing.\n",
      "\n"
     ]
    }
   ],
   "source": [
    "#8. Create a Python class hierarchy for a vehicle system (e.g., car, bicycle, boat) and\n",
    "\n",
    "#ans \n",
    "\n",
    "from abc import ABC, abstractmethod\n",
    "\n",
    "class Vehicle(ABC):\n",
    "    def __init__(self, brand, model):\n",
    "        self.brand = brand\n",
    "        self.model = model\n",
    "\n",
    "    @abstractmethod\n",
    "    def start_engine(self):\n",
    "        pass\n",
    "\n",
    "    @abstractmethod\n",
    "    def stop_engine(self):\n",
    "        pass\n",
    "\n",
    "class Car(Vehicle):\n",
    "    def start_engine(self):\n",
    "        return f\"{self.brand} {self.model} car engine started.\"\n",
    "\n",
    "    def stop_engine(self):\n",
    "        return f\"{self.brand} {self.model} car engine stopped.\"\n",
    "\n",
    "    def drive(self):\n",
    "        return f\"{self.brand} {self.model} car is on the move.\"\n",
    "\n",
    "class Bicycle(Vehicle):\n",
    "    def start_engine(self):\n",
    "        return f\"{self.brand} {self.model} bicycle doesn't have an engine.\"\n",
    "\n",
    "    def stop_engine(self):\n",
    "        return f\"{self.brand} {self.model} bicycle doesn't have an engine.\"\n",
    "\n",
    "    def pedal(self):\n",
    "        return f\"{self.brand} {self.model} bicycle is pedaling.\"\n",
    "\n",
    "class Boat(Vehicle):\n",
    "    def start_engine(self):\n",
    "        return f\"{self.brand} {self.model} boat engine started.\"\n",
    "\n",
    "    def stop_engine(self):\n",
    "        return f\"{self.brand} {self.model} boat engine stopped.\"\n",
    "\n",
    "    def sail(self):\n",
    "        return f\"{self.brand} {self.model} boat is sailing.\"\n",
    "\n",
    "# Example usage\n",
    "car1 = Car(brand=\"Toyota\", model=\"Camry\")\n",
    "bicycle1 = Bicycle(brand=\"Schwinn\", model=\"Mountain Bike\")\n",
    "boat1 = Boat(brand=\"Sea Ray\", model=\"Speedboat\")\n",
    "\n",
    "vehicles = [car1, bicycle1, boat1]\n",
    "\n",
    "for vehicle in vehicles:\n",
    "    print(f\"{vehicle.start_engine()}\")\n",
    "    print(f\"{vehicle.stop_engine()}\")\n",
    "\n",
    "    if isinstance(vehicle, Car):\n",
    "        print(vehicle.drive())\n",
    "    elif isinstance(vehicle, Bicycle):\n",
    "        print(vehicle.pedal())\n",
    "    elif isinstance(vehicle, Boat):\n",
    "        print(vehicle.sail())\n",
    "\n",
    "    print()\n"
   ]
  },
  {
   "cell_type": "code",
   "execution_count": 80,
   "id": "125eb6ec-6b8a-4eed-8b29-223d971e620d",
   "metadata": {},
   "outputs": [
    {
     "data": {
      "text/plain": [
       "' The `isinstance()` function checks if an object is an instance of a particular class, while `issubclass()` checks if a class is a subclass of another, facilitating dynamic type checking essential for polymorphic behavior in Python.'"
      ]
     },
     "execution_count": 80,
     "metadata": {},
     "output_type": "execute_result"
    }
   ],
   "source": [
    "#9. Explain the significance of the `isinstance()` and `issubclass()` functions in Python polymorphism.\n",
    "\n",
    "#ans \n",
    "\n",
    "''' The `isinstance()` function checks if an object is an instance of a particular class, while `issubclass()` checks if a class is a subclass of another, facilitating dynamic type checking essential for polymorphic behavior in Python.'''"
   ]
  },
  {
   "cell_type": "code",
   "execution_count": 81,
   "id": "c991cfd9-c680-4b40-aec3-940697b42a2e",
   "metadata": {},
   "outputs": [
    {
     "data": {
      "text/plain": [
       "'The `@abstractmethod` decorator in Python, used in conjunction with the `ABC` (Abstract Base Class) module, marks a method as abstract, ensuring that it must be implemented by any concrete subclass. This enforces a common interface, facilitating polymorphism.\\n\\nExample:\\n\\n```python\\nfrom abc import ABC, abstractmethod\\n\\nclass Shape(ABC):\\n    @abstractmethod\\n    def calculate_area(self):\\n        pass\\n\\nclass Circle(Shape):\\n    def __init__(self, radius):\\n        self.radius = radius\\n\\n    def calculate_area(self):\\n        return 3.14 * self.radius ** 2\\n\\nclass Square(Shape):\\n    def __init__(self, side_length):\\n        self.side_length = side_length\\n\\n    def calculate_area(self):\\n        return self.side_length ** 2\\n\\n# Attempting to create an object from an abstract class will result in an error\\n# shape = Shape()  # This line will raise a TypeError\\n\\n# Creating objects from concrete subclasses\\ncircle = Circle(radius=5)\\nsquare = Square(side_length=4)\\n\\n# Demonstrate polymorphism\\nshapes = [circle, square]\\n\\nfor shape in shapes:\\n    print(f\"Area of {shape.__class__.__name__}: {shape.calculate_area()}\")\\n```\\n\\nIn this example:\\n\\n- The `Shape` class is an abstract class with an abstract method `calculate_area()`.\\n- Concrete subclasses (`Circle` and `Square`) inherit from `Shape` and provide specific implementations for the abstract method.\\n- Attempting to create an object directly from an abstract class (`Shape`) raises a `TypeError`, enforcing the implementation of abstract methods in concrete subclasses.\\n- The `@abstractmethod` decorator ensures that all subclasses must implement the specified method, guaranteeing a common interface for achieving polymorphism.'"
      ]
     },
     "execution_count": 81,
     "metadata": {},
     "output_type": "execute_result"
    }
   ],
   "source": [
    "#10. What is the role of the `@abstractmethod` decorator in achieving polymorphism in Python? Provide an\n",
    "#example.\n",
    "\n",
    "#ans \n",
    "\n",
    "'''The `@abstractmethod` decorator in Python, used in conjunction with the `ABC` (Abstract Base Class) module, marks a method as abstract, ensuring that it must be implemented by any concrete subclass. This enforces a common interface, facilitating polymorphism.\n",
    "\n",
    "Example:\n",
    "\n",
    "```python\n",
    "from abc import ABC, abstractmethod\n",
    "\n",
    "class Shape(ABC):\n",
    "    @abstractmethod\n",
    "    def calculate_area(self):\n",
    "        pass\n",
    "\n",
    "class Circle(Shape):\n",
    "    def __init__(self, radius):\n",
    "        self.radius = radius\n",
    "\n",
    "    def calculate_area(self):\n",
    "        return 3.14 * self.radius ** 2\n",
    "\n",
    "class Square(Shape):\n",
    "    def __init__(self, side_length):\n",
    "        self.side_length = side_length\n",
    "\n",
    "    def calculate_area(self):\n",
    "        return self.side_length ** 2\n",
    "\n",
    "# Attempting to create an object from an abstract class will result in an error\n",
    "# shape = Shape()  # This line will raise a TypeError\n",
    "\n",
    "# Creating objects from concrete subclasses\n",
    "circle = Circle(radius=5)\n",
    "square = Square(side_length=4)\n",
    "\n",
    "# Demonstrate polymorphism\n",
    "shapes = [circle, square]\n",
    "\n",
    "for shape in shapes:\n",
    "    print(f\"Area of {shape.__class__.__name__}: {shape.calculate_area()}\")\n",
    "```\n",
    "\n",
    "In this example:\n",
    "\n",
    "- The `Shape` class is an abstract class with an abstract method `calculate_area()`.\n",
    "- Concrete subclasses (`Circle` and `Square`) inherit from `Shape` and provide specific implementations for the abstract method.\n",
    "- Attempting to create an object directly from an abstract class (`Shape`) raises a `TypeError`, enforcing the implementation of abstract methods in concrete subclasses.\n",
    "- The `@abstractmethod` decorator ensures that all subclasses must implement the specified method, guaranteeing a common interface for achieving polymorphism.'''"
   ]
  },
  {
   "cell_type": "code",
   "execution_count": 82,
   "id": "78affec7-994d-4076-9291-4cf11bcfc219",
   "metadata": {},
   "outputs": [
    {
     "name": "stdout",
     "output_type": "stream",
     "text": [
      "Drawing a circle\n",
      "Drawing a square\n",
      "Drawing a triangle\n"
     ]
    }
   ],
   "source": [
    "#11. Create a Python class called `Shape` with a polymorphic\n",
    "\n",
    "#ans \n",
    "\n",
    "class Shape:\n",
    "    def draw(self):\n",
    "        raise NotImplementedError(\"draw() method must be implemented by subclasses for polymorphism\")\n",
    "\n",
    "class Circle(Shape):\n",
    "    def draw(self):\n",
    "        return \"Drawing a circle\"\n",
    "\n",
    "class Square(Shape):\n",
    "    def draw(self):\n",
    "        return \"Drawing a square\"\n",
    "\n",
    "class Triangle(Shape):\n",
    "    def draw(self):\n",
    "        return \"Drawing a triangle\"\n",
    "\n",
    "# Demonstrate polymorphism\n",
    "shapes = [Circle(), Square(), Triangle()]\n",
    "\n",
    "for shape in shapes:\n",
    "    print(shape.draw())\n"
   ]
  },
  {
   "cell_type": "code",
   "execution_count": 84,
   "id": "bafd01f4-63cd-4a2f-92ed-7bb583a4b82f",
   "metadata": {},
   "outputs": [
    {
     "data": {
      "text/plain": [
       "' Polymorphism in Python enhances code reusability and flexibility by allowing objects of different types to be treated uniformly through a common interface, promoting modular and extensible design.'"
      ]
     },
     "execution_count": 84,
     "metadata": {},
     "output_type": "execute_result"
    }
   ],
   "source": [
    "# 12. Discuss the benefits of polymorphism in terms of code reusability and flexibility in Python programs.\n",
    "\n",
    "#ans \n",
    "\n",
    "''' Polymorphism in Python enhances code reusability and flexibility by allowing objects of different types to be treated uniformly through a common interface, promoting modular and extensible design.'''"
   ]
  },
  {
   "cell_type": "code",
   "execution_count": 85,
   "id": "703d6673-4998-4590-ae65-f9c030c9c041",
   "metadata": {},
   "outputs": [
    {
     "data": {
      "text/plain": [
       "' The `super()` function in Python polymorphism is used to call methods of the parent class. It helps navigate and invoke methods from the parent class in the method overriding scenario, ensuring that both the child and parent class methods are executed. This promotes code reuse and maintains the polymorphic behavior.\\n\\nExample:\\n\\n```python\\nclass Animal:\\n    def speak(self):\\n        return \"Generic animal sound\"\\n\\nclass Dog(Animal):\\n    def speak(self):\\n        return super().speak() + \" Woof, woof!\"\\n\\n# Demonstrate polymorphism with super()\\ndog = Dog()\\nprint(dog.speak())  # Output: \"Generic animal sound Woof, woof!\"\\n```\\n\\nIn this example:\\n\\n- The `Dog` class overrides the `speak()` method but uses `super().speak()` to invoke the `speak()` method from the `Animal` parent class.\\n- `super()` helps maintain the functionality of the parent class while extending or modifying it in the child class.\\n- This approach ensures that changes to the parent class behavior are automatically reflected in the child class, promoting code maintainability.'"
      ]
     },
     "execution_count": 85,
     "metadata": {},
     "output_type": "execute_result"
    }
   ],
   "source": [
    "#13. Explain the use of the `super()` function in Python polymorphism. How does it help call methods of parent\n",
    "#classes?\n",
    "\n",
    "#ans \n",
    "\n",
    "''' The `super()` function in Python polymorphism is used to call methods of the parent class. It helps navigate and invoke methods from the parent class in the method overriding scenario, ensuring that both the child and parent class methods are executed. This promotes code reuse and maintains the polymorphic behavior.\n",
    "\n",
    "Example:\n",
    "\n",
    "```python\n",
    "class Animal:\n",
    "    def speak(self):\n",
    "        return \"Generic animal sound\"\n",
    "\n",
    "class Dog(Animal):\n",
    "    def speak(self):\n",
    "        return super().speak() + \" Woof, woof!\"\n",
    "\n",
    "# Demonstrate polymorphism with super()\n",
    "dog = Dog()\n",
    "print(dog.speak())  # Output: \"Generic animal sound Woof, woof!\"\n",
    "```\n",
    "\n",
    "In this example:\n",
    "\n",
    "- The `Dog` class overrides the `speak()` method but uses `super().speak()` to invoke the `speak()` method from the `Animal` parent class.\n",
    "- `super()` helps maintain the functionality of the parent class while extending or modifying it in the child class.\n",
    "- This approach ensures that changes to the parent class behavior are automatically reflected in the child class, promoting code maintainability.'''"
   ]
  },
  {
   "cell_type": "code",
   "execution_count": 86,
   "id": "4621afc0-8274-4d6d-af01-0ec4e573fa5d",
   "metadata": {},
   "outputs": [
    {
     "name": "stdout",
     "output_type": "stream",
     "text": [
      "Savings Account Balance: $1310.0\n",
      "Current Account Balance: $700\n"
     ]
    }
   ],
   "source": [
    "#14. Create a Python class hierarchy for a banking system with various account types (e.g., savings,\n",
    "\n",
    "#ans \n",
    "\n",
    "from abc import ABC, abstractmethod\n",
    "\n",
    "class BankAccount(ABC):\n",
    "    def __init__(self, account_number, account_holder, balance=0):\n",
    "        self.account_number = account_number\n",
    "        self.account_holder = account_holder\n",
    "        self.balance = balance\n",
    "\n",
    "    @abstractmethod\n",
    "    def deposit(self, amount):\n",
    "        pass\n",
    "\n",
    "    @abstractmethod\n",
    "    def withdraw(self, amount):\n",
    "        pass\n",
    "\n",
    "    def get_balance(self):\n",
    "        return self.balance\n",
    "\n",
    "class SavingsAccount(BankAccount):\n",
    "    interest_rate = 0.02\n",
    "\n",
    "    def deposit(self, amount):\n",
    "        self.balance += amount + amount * self.interest_rate\n",
    "\n",
    "    def withdraw(self, amount):\n",
    "        if self.balance >= amount:\n",
    "            self.balance -= amount\n",
    "        else:\n",
    "            print(\"Insufficient funds. Withdrawal not allowed.\")\n",
    "\n",
    "class CurrentAccount(BankAccount):\n",
    "    overdraft_limit = 1000\n",
    "\n",
    "    def deposit(self, amount):\n",
    "        self.balance += amount\n",
    "\n",
    "    def withdraw(self, amount):\n",
    "        if self.balance + self.overdraft_limit >= amount:\n",
    "            self.balance -= amount\n",
    "        else:\n",
    "            print(\"Transaction not allowed. Exceeds overdraft limit.\")\n",
    "\n",
    "# Example usage\n",
    "savings_account = SavingsAccount(account_number=\"SA123\", account_holder=\"John Doe\", balance=1000)\n",
    "current_account = CurrentAccount(account_number=\"CA456\", account_holder=\"Jane Doe\", balance=500)\n",
    "\n",
    "# Deposit and withdraw from savings account\n",
    "savings_account.deposit(500)\n",
    "savings_account.withdraw(200)\n",
    "\n",
    "# Deposit and withdraw from current account\n",
    "current_account.deposit(1000)\n",
    "current_account.withdraw(800)\n",
    "\n",
    "# Print balances\n",
    "print(f\"Savings Account Balance: ${savings_account.get_balance()}\")\n",
    "print(f\"Current Account Balance: ${current_account.get_balance()}\")\n"
   ]
  },
  {
   "cell_type": "code",
   "execution_count": 87,
   "id": "31cce002-1fb3-4cac-a9bb-f29ffac6206e",
   "metadata": {},
   "outputs": [
    {
     "data": {
      "text/plain": [
       "'Operator overloading in Python allows the definition of custom behaviors for standard operators depending on the operands\\' types. It relates to polymorphism by enabling the same operator to exhibit different behaviors for different data types, promoting a more natural and intuitive use of operators in diverse contexts.\\n\\nHere\\'s an example using the `+` operator for custom classes:\\n\\n```python\\nclass Point:\\n    def __init__(self, x, y):\\n        self.x = x\\n        self.y = y\\n\\n    def __add__(self, other):\\n        if isinstance(other, Point):\\n            # Addition for Point objects\\n            return Point(self.x + other.x, self.y + other.y)\\n        elif isinstance(other, int):\\n            # Addition for Point and integer\\n            return Point(self.x + other, self.y + other)\\n        else:\\n            # Raise an exception for unsupported types\\n            raise TypeError(\"Unsupported operand types for +\")\\n\\n    def __repr__(self):\\n        return f\"Point({self.x}, {self.y})\"\\n\\n# Example usage\\npoint1 = Point(1, 2)\\npoint2 = Point(3, 4)\\n\\nresult_point = point1 + point2\\nresult_point_with_scalar = point1 + 5\\n\\nprint(result_point)           # Output: Point(4, 6)\\nprint(result_point_with_scalar)  # Output: Point(6, 7)\\n```\\n\\nIn this example:\\n\\n- The `Point` class defines the `__add__` method to handle the addition operation for instances of the class.\\n- The `__add__` method checks the type of the operand (`other`) and performs addition accordingly.\\n- The `__repr__` method provides a string representation of the `Point` object for better readability.\\n\\nThis operator overloading allows the `+` operator to be used with instances of the `Point` class and integers, showcasing polymorphism as the behavior of the operator adapts based on the type of the operands.\\n\\nOperator overloading is a powerful feature in Python, providing a flexible and intuitive way to extend the functionality of operators for user-defined types.'"
      ]
     },
     "execution_count": 87,
     "metadata": {},
     "output_type": "execute_result"
    }
   ],
   "source": [
    "#15. Describe the concept of operator overloading in Python and how it relates to polymorphism. Provide\n",
    "#examples using operators like `+` and\n",
    "\n",
    "#ans \n",
    "\n",
    "'''Operator overloading in Python allows the definition of custom behaviors for standard operators depending on the operands' types. It relates to polymorphism by enabling the same operator to exhibit different behaviors for different data types, promoting a more natural and intuitive use of operators in diverse contexts.\n",
    "\n",
    "Here's an example using the `+` operator for custom classes:\n",
    "\n",
    "```python\n",
    "class Point:\n",
    "    def __init__(self, x, y):\n",
    "        self.x = x\n",
    "        self.y = y\n",
    "\n",
    "    def __add__(self, other):\n",
    "        if isinstance(other, Point):\n",
    "            # Addition for Point objects\n",
    "            return Point(self.x + other.x, self.y + other.y)\n",
    "        elif isinstance(other, int):\n",
    "            # Addition for Point and integer\n",
    "            return Point(self.x + other, self.y + other)\n",
    "        else:\n",
    "            # Raise an exception for unsupported types\n",
    "            raise TypeError(\"Unsupported operand types for +\")\n",
    "\n",
    "    def __repr__(self):\n",
    "        return f\"Point({self.x}, {self.y})\"\n",
    "\n",
    "# Example usage\n",
    "point1 = Point(1, 2)\n",
    "point2 = Point(3, 4)\n",
    "\n",
    "result_point = point1 + point2\n",
    "result_point_with_scalar = point1 + 5\n",
    "\n",
    "print(result_point)           # Output: Point(4, 6)\n",
    "print(result_point_with_scalar)  # Output: Point(6, 7)\n",
    "```\n",
    "\n",
    "In this example:\n",
    "\n",
    "- The `Point` class defines the `__add__` method to handle the addition operation for instances of the class.\n",
    "- The `__add__` method checks the type of the operand (`other`) and performs addition accordingly.\n",
    "- The `__repr__` method provides a string representation of the `Point` object for better readability.\n",
    "\n",
    "This operator overloading allows the `+` operator to be used with instances of the `Point` class and integers, showcasing polymorphism as the behavior of the operator adapts based on the type of the operands.\n",
    "\n",
    "Operator overloading is a powerful feature in Python, providing a flexible and intuitive way to extend the functionality of operators for user-defined types.'''"
   ]
  },
  {
   "cell_type": "code",
   "execution_count": 88,
   "id": "f9e1b820-0d8d-486a-af71-2b5cf5be9c61",
   "metadata": {},
   "outputs": [
    {
     "data": {
      "text/plain": [
       "'Dynamic polymorphism, also known as runtime polymorphism or late binding, is a concept in object-oriented programming where the actual method or operation to be performed is determined at runtime. It allows different classes to be treated uniformly through a common interface, and the specific method to be executed is decided based on the actual type of the object during runtime.\\n\\nIn Python, dynamic polymorphism is achieved through method overriding and the use of abstract base classes (ABCs) or duck typing. Here\\'s a brief explanation of each:\\n\\n1. **Method Overriding:**\\n   - Subclasses can provide their own implementation for a method that is already defined in their superclass.\\n   - The decision of which method to call is made dynamically at runtime based on the actual type of the object.\\n   - Achieved using the `@abstractmethod` decorator and abstract base classes from the `abc` module.\\n\\n   Example:\\n   ```python\\n   from abc import ABC, abstractmethod\\n\\n   class Animal(ABC):\\n       @abstractmethod\\n       def speak(self):\\n           pass\\n\\n   class Dog(Animal):\\n       def speak(self):\\n           return \"Woof, woof!\"\\n\\n   class Cat(Animal):\\n       def speak(self):\\n           return \"Meow, meow!\"\\n\\n   # Dynamic polymorphism\\n   animals = [Dog(), Cat()]\\n   for animal in animals:\\n       print(animal.speak())\\n   ```\\n\\n2. **Duck Typing:**\\n   - Python follows the principle of \"duck typing,\" which is based on the idea that the type or class of an object is determined by its behavior rather than its explicit type.\\n   - Objects are allowed to be used based on their behavior rather than their class or inheritance hierarchy.\\n   \\n   Example:\\n   ```python\\n   class Car:\\n       def drive(self):\\n           return \"Car is moving\"\\n\\n   class Bicycle:\\n       def drive(self):\\n           return \"Bicycle is pedaling\"\\n\\n   # Dynamic polymorphism using duck typing\\n   vehicles = [Car(), Bicycle()]\\n   for vehicle in vehicles:\\n       print(vehicle.drive())\\n   ```\\n\\nDynamic polymorphism provides flexibility in code design, allowing objects of different types to be treated uniformly through a common interface. The choice of which method to call is made dynamically during runtime, promoting modularity and extensibility.'"
      ]
     },
     "execution_count": 88,
     "metadata": {},
     "output_type": "execute_result"
    }
   ],
   "source": [
    "#16. What is dynamic polymorphism, and how is it achieved in Python?\n",
    "\n",
    "#ans \n",
    "\n",
    "'''Dynamic polymorphism, also known as runtime polymorphism or late binding, is a concept in object-oriented programming where the actual method or operation to be performed is determined at runtime. It allows different classes to be treated uniformly through a common interface, and the specific method to be executed is decided based on the actual type of the object during runtime.\n",
    "\n",
    "In Python, dynamic polymorphism is achieved through method overriding and the use of abstract base classes (ABCs) or duck typing. Here's a brief explanation of each:\n",
    "\n",
    "1. **Method Overriding:**\n",
    "   - Subclasses can provide their own implementation for a method that is already defined in their superclass.\n",
    "   - The decision of which method to call is made dynamically at runtime based on the actual type of the object.\n",
    "   - Achieved using the `@abstractmethod` decorator and abstract base classes from the `abc` module.\n",
    "\n",
    "   Example:\n",
    "   ```python\n",
    "   from abc import ABC, abstractmethod\n",
    "\n",
    "   class Animal(ABC):\n",
    "       @abstractmethod\n",
    "       def speak(self):\n",
    "           pass\n",
    "\n",
    "   class Dog(Animal):\n",
    "       def speak(self):\n",
    "           return \"Woof, woof!\"\n",
    "\n",
    "   class Cat(Animal):\n",
    "       def speak(self):\n",
    "           return \"Meow, meow!\"\n",
    "\n",
    "   # Dynamic polymorphism\n",
    "   animals = [Dog(), Cat()]\n",
    "   for animal in animals:\n",
    "       print(animal.speak())\n",
    "   ```\n",
    "\n",
    "2. **Duck Typing:**\n",
    "   - Python follows the principle of \"duck typing,\" which is based on the idea that the type or class of an object is determined by its behavior rather than its explicit type.\n",
    "   - Objects are allowed to be used based on their behavior rather than their class or inheritance hierarchy.\n",
    "   \n",
    "   Example:\n",
    "   ```python\n",
    "   class Car:\n",
    "       def drive(self):\n",
    "           return \"Car is moving\"\n",
    "\n",
    "   class Bicycle:\n",
    "       def drive(self):\n",
    "           return \"Bicycle is pedaling\"\n",
    "\n",
    "   # Dynamic polymorphism using duck typing\n",
    "   vehicles = [Car(), Bicycle()]\n",
    "   for vehicle in vehicles:\n",
    "       print(vehicle.drive())\n",
    "   ```\n",
    "\n",
    "Dynamic polymorphism provides flexibility in code design, allowing objects of different types to be treated uniformly through a common interface. The choice of which method to call is made dynamically during runtime, promoting modularity and extensibility.'''"
   ]
  },
  {
   "cell_type": "code",
   "execution_count": 89,
   "id": "d4f544de-aa0e-4c06-9fd9-dd6a7847b0cd",
   "metadata": {},
   "outputs": [
    {
     "name": "stdout",
     "output_type": "stream",
     "text": [
      "Manager Information:\n",
      "Employee ID: 101\n",
      "Name: John Manager\n",
      "Salary: $80000\n",
      "Team Size: 10\n",
      "\n",
      "Developer Information:\n",
      "Employee ID: 201\n",
      "Name: Alice Developer\n",
      "Salary: $60000\n",
      "Programming Language: Python\n"
     ]
    }
   ],
   "source": [
    "#17. Create a Python class hierarchy for employees in a company (e.g., manager,\n",
    "\n",
    "#ans \n",
    "\n",
    "class Employee:\n",
    "    def __init__(self, employee_id, name, salary):\n",
    "        self.employee_id = employee_id\n",
    "        self.name = name\n",
    "        self.salary = salary\n",
    "\n",
    "    def display_info(self):\n",
    "        return f\"Employee ID: {self.employee_id}\\nName: {self.name}\\nSalary: ${self.salary}\"\n",
    "\n",
    "class Manager(Employee):\n",
    "    def __init__(self, employee_id, name, salary, team_size):\n",
    "        super().__init__(employee_id, name, salary)\n",
    "        self.team_size = team_size\n",
    "\n",
    "    def display_info(self):\n",
    "        return super().display_info() + f\"\\nTeam Size: {self.team_size}\"\n",
    "\n",
    "class Developer(Employee):\n",
    "    def __init__(self, employee_id, name, salary, programming_language):\n",
    "        super().__init__(employee_id, name, salary)\n",
    "        self.programming_language = programming_language\n",
    "\n",
    "    def display_info(self):\n",
    "        return super().display_info() + f\"\\nProgramming Language: {self.programming_language}\"\n",
    "\n",
    "# Example usage\n",
    "manager = Manager(employee_id=101, name=\"John Manager\", salary=80000, team_size=10)\n",
    "developer = Developer(employee_id=201, name=\"Alice Developer\", salary=60000, programming_language=\"Python\")\n",
    "\n",
    "# Display information for both manager and developer\n",
    "print(\"Manager Information:\")\n",
    "print(manager.display_info())\n",
    "print(\"\\nDeveloper Information:\")\n",
    "print(developer.display_info())\n"
   ]
  },
  {
   "cell_type": "code",
   "execution_count": 91,
   "id": "c9576f23-5c4f-4684-83ad-ff0a2724b410",
   "metadata": {},
   "outputs": [],
   "source": [
    "#18. Discuss the concept of function pointers and how they can be used to achieve polymorphism in Python.\n",
    "\n",
    "#ans \n",
    "#In Python, function pointers are replaced by callable objects, such as functions or methods, enabling polymorphism through dynamic dispatch and a common interface."
   ]
  },
  {
   "cell_type": "code",
   "execution_count": 92,
   "id": "9c4d4288-b9e2-42a7-849e-cbaea97c4ce4",
   "metadata": {},
   "outputs": [
    {
     "data": {
      "text/plain": [
       "'In Python, abstract classes and interfaces both serve as blueprints for achieving polymorphism by defining common method signatures; abstract classes may provide partial implementations, while interfaces are enforced through ABCs, ensuring method implementations in subclasses.'"
      ]
     },
     "execution_count": 92,
     "metadata": {},
     "output_type": "execute_result"
    }
   ],
   "source": [
    "# 19. Explain the role of interfaces and abstract classes in polymorphism, drawing comparisons between them.\n",
    "\n",
    "#ans \n",
    "\n",
    "'''In Python, abstract classes and interfaces both serve as blueprints for achieving polymorphism by defining common method signatures; abstract classes may provide partial implementations, while interfaces are enforced through ABCs, ensuring method implementations in subclasses.'''"
   ]
  },
  {
   "cell_type": "code",
   "execution_count": 94,
   "id": "6f7b4051-3706-4674-bc7c-3882b4a2727d",
   "metadata": {},
   "outputs": [
    {
     "name": "stdout",
     "output_type": "stream",
     "text": [
      "African Lion: Leo\n",
      "Roar!\n",
      "\n",
      "African Elephant: Ellie\n",
      "Trumpet!\n",
      "\n",
      "Emperor Penguin: Penny\n",
      "Honk honk!\n",
      "\n"
     ]
    }
   ],
   "source": [
    "#20. Create a Python class for a zoo simulation, demonstrating polymorphism with different\n",
    "\n",
    "#ans \n",
    "from abc import ABC, abstractmethod\n",
    "\n",
    "class Animal(ABC):\n",
    "    def __init__(self, name, species):\n",
    "        self.name = name\n",
    "        self.species = species\n",
    "\n",
    "    @abstractmethod\n",
    "    def make_sound(self):\n",
    "        pass\n",
    "\n",
    "    def display_info(self):\n",
    "        return f\"{self.species}: {self.name}\"\n",
    "\n",
    "class Lion(Animal):\n",
    "    def make_sound(self):\n",
    "        return \"Roar!\"\n",
    "\n",
    "class Elephant(Animal):\n",
    "    def make_sound(self):\n",
    "        return \"Trumpet!\"\n",
    "\n",
    "class Penguin(Animal):\n",
    "    def make_sound(self):\n",
    "        return \"Honk honk!\"\n",
    "\n",
    "# Example usage in a zoo simulation\n",
    "lion = Lion(name=\"Leo\", species=\"African Lion\")\n",
    "elephant = Elephant(name=\"Ellie\", species=\"African Elephant\")\n",
    "penguin = Penguin(name=\"Penny\", species=\"Emperor Penguin\")\n",
    "\n",
    "zoo_animals = [lion, elephant, penguin]\n",
    "\n",
    "for animal in zoo_animals:\n",
    "    print(animal.display_info())\n",
    "    print(animal.make_sound())\n",
    "    print()\n",
    "\n"
   ]
  },
  {
   "cell_type": "code",
   "execution_count": 95,
   "id": "6fb3f5ac-8773-42d9-bb85-9cd4982de6fd",
   "metadata": {},
   "outputs": [],
   "source": [
    "#ABSTRACTION "
   ]
  },
  {
   "cell_type": "code",
   "execution_count": 96,
   "id": "4af388c2-5d97-4e8a-bf51-f2791e927a0d",
   "metadata": {},
   "outputs": [
    {
     "data": {
      "text/plain": [
       "'Abstraction in Python, related to object-oriented programming, involves simplifying complex systems by modeling classes based on essential properties, hiding implementation details.'"
      ]
     },
     "execution_count": 96,
     "metadata": {},
     "output_type": "execute_result"
    }
   ],
   "source": [
    "#1. What is abstraction in Python, and how does it relate to object-oriented programming?\n",
    "\n",
    "#ans \n",
    "\n",
    "'''Abstraction in Python, related to object-oriented programming, involves simplifying complex systems by modeling classes based on essential properties, hiding implementation details.'''"
   ]
  },
  {
   "cell_type": "code",
   "execution_count": 97,
   "id": "6938d684-ccfa-43dc-a4e9-660a784b3dae",
   "metadata": {},
   "outputs": [
    {
     "data": {
      "text/plain": [
       "' Abstraction in Python enhances code organization and reduces complexity by focusing on essential features, concealing implementation details.'"
      ]
     },
     "execution_count": 97,
     "metadata": {},
     "output_type": "execute_result"
    }
   ],
   "source": [
    "#2. Describe the benefits of abstraction in terms of code organization and complexity reduction.\n",
    "\n",
    "#ans \n",
    "\n",
    "''' Abstraction in Python enhances code organization and reduces complexity by focusing on essential features, concealing implementation details.'''"
   ]
  },
  {
   "cell_type": "code",
   "execution_count": 98,
   "id": "5982b0c7-d9e1-4a98-8995-3af7dfabcd3b",
   "metadata": {},
   "outputs": [
    {
     "name": "stdout",
     "output_type": "stream",
     "text": [
      "Area of the Circle: 78.5\n",
      "Area of the Rectangle: 24\n"
     ]
    }
   ],
   "source": [
    "#3. Create a Python class called `Shape` with an abstract method `calculate_area()`. Then, create child classes (e.g., `Circle`, `Rectangle`) that implement the `calculate_area()` method. Provide an example of\n",
    "#using these classes.\n",
    "\n",
    "#ans \n",
    "\n",
    "from abc import ABC, abstractmethod\n",
    "\n",
    "class Shape(ABC):\n",
    "    @abstractmethod\n",
    "    def calculate_area(self):\n",
    "        pass\n",
    "\n",
    "class Circle(Shape):\n",
    "    def __init__(self, radius):\n",
    "        self.radius = radius\n",
    "\n",
    "    def calculate_area(self):\n",
    "        return 3.14 * self.radius ** 2\n",
    "\n",
    "class Rectangle(Shape):\n",
    "    def __init__(self, length, width):\n",
    "        self.length = length\n",
    "        self.width = width\n",
    "\n",
    "    def calculate_area(self):\n",
    "        return self.length * self.width\n",
    "\n",
    "# Example usage\n",
    "circle = Circle(radius=5)\n",
    "rectangle = Rectangle(length=4, width=6)\n",
    "\n",
    "print(f\"Area of the Circle: {circle.calculate_area()}\")\n",
    "print(f\"Area of the Rectangle: {rectangle.calculate_area()}\")\n"
   ]
  },
  {
   "cell_type": "code",
   "execution_count": 99,
   "id": "f738452b-5e0d-4675-87e7-95169a0bad25",
   "metadata": {},
   "outputs": [
    {
     "data": {
      "text/plain": [
       "' Abstract classes in Python are classes that cannot be instantiated on their own and may contain one or more abstract methods. Abstract methods are methods that have no implementation in the abstract class and must be implemented by concrete subclasses. The `abc` module in Python provides the `ABC` (Abstract Base Class) and `abstractmethod` decorators to define abstract classes and methods.\\n\\nHere\\'s an example demonstrating the concept of abstract classes:\\n\\n```python\\nfrom abc import ABC, abstractmethod\\n\\nclass Shape(ABC):\\n    @abstractmethod\\n    def calculate_area(self):\\n        pass\\n\\nclass Circle(Shape):\\n    def __init__(self, radius):\\n        self.radius = radius\\n\\n    def calculate_area(self):\\n        return 3.14 * self.radius ** 2\\n\\nclass Rectangle(Shape):\\n    def __init__(self, length, width):\\n        self.length = length\\n        self.width = width\\n\\n    def calculate_area(self):\\n        return self.length * self.width\\n\\n# Attempting to create an instance of an abstract class will raise an error\\n# shape = Shape()  # This line will raise a TypeError\\n\\n# Create instances of concrete subclasses\\ncircle = Circle(radius=5)\\nrectangle = Rectangle(length=4, width=6)\\n\\n# Invoke the abstract method on different shapes\\nprint(f\"Area of the Circle: {circle.calculate_area()}\")\\nprint(f\"Area of the Rectangle: {rectangle.calculate_area()}\")\\n```\\n\\nIn this example:\\n\\n- The `Shape` class is an abstract class with the `ABC` metaclass, and it contains an abstract method `calculate_area()`.\\n- Subclasses (`Circle` and `Rectangle`) inherit from `Shape` and provide concrete implementations for the abstract method.\\n- Attempting to create an instance of an abstract class directly (`Shape()`) raises a `TypeError`, enforcing the abstract nature of the class.\\n- Concrete instances of the subclasses (`Circle` and `Rectangle`) demonstrate how abstract methods are implemented in concrete classes.'"
      ]
     },
     "execution_count": 99,
     "metadata": {},
     "output_type": "execute_result"
    }
   ],
   "source": [
    "#4. Explain the concept of abstract classes in Python and how they are defined using the `abc` module. Provide\n",
    "#an example.\n",
    "\n",
    "#ans \n",
    "\n",
    "''' Abstract classes in Python are classes that cannot be instantiated on their own and may contain one or more abstract methods. Abstract methods are methods that have no implementation in the abstract class and must be implemented by concrete subclasses. The `abc` module in Python provides the `ABC` (Abstract Base Class) and `abstractmethod` decorators to define abstract classes and methods.\n",
    "\n",
    "Here's an example demonstrating the concept of abstract classes:\n",
    "\n",
    "```python\n",
    "from abc import ABC, abstractmethod\n",
    "\n",
    "class Shape(ABC):\n",
    "    @abstractmethod\n",
    "    def calculate_area(self):\n",
    "        pass\n",
    "\n",
    "class Circle(Shape):\n",
    "    def __init__(self, radius):\n",
    "        self.radius = radius\n",
    "\n",
    "    def calculate_area(self):\n",
    "        return 3.14 * self.radius ** 2\n",
    "\n",
    "class Rectangle(Shape):\n",
    "    def __init__(self, length, width):\n",
    "        self.length = length\n",
    "        self.width = width\n",
    "\n",
    "    def calculate_area(self):\n",
    "        return self.length * self.width\n",
    "\n",
    "# Attempting to create an instance of an abstract class will raise an error\n",
    "# shape = Shape()  # This line will raise a TypeError\n",
    "\n",
    "# Create instances of concrete subclasses\n",
    "circle = Circle(radius=5)\n",
    "rectangle = Rectangle(length=4, width=6)\n",
    "\n",
    "# Invoke the abstract method on different shapes\n",
    "print(f\"Area of the Circle: {circle.calculate_area()}\")\n",
    "print(f\"Area of the Rectangle: {rectangle.calculate_area()}\")\n",
    "```\n",
    "\n",
    "In this example:\n",
    "\n",
    "- The `Shape` class is an abstract class with the `ABC` metaclass, and it contains an abstract method `calculate_area()`.\n",
    "- Subclasses (`Circle` and `Rectangle`) inherit from `Shape` and provide concrete implementations for the abstract method.\n",
    "- Attempting to create an instance of an abstract class directly (`Shape()`) raises a `TypeError`, enforcing the abstract nature of the class.\n",
    "- Concrete instances of the subclasses (`Circle` and `Rectangle`) demonstrate how abstract methods are implemented in concrete classes.'''"
   ]
  },
  {
   "cell_type": "code",
   "execution_count": 100,
   "id": "953ff83d-1313-4e83-9dfb-e0642df56c92",
   "metadata": {},
   "outputs": [
    {
     "data": {
      "text/plain": [
       "'Abstract classes in Python cannot be instantiated on their own and may contain abstract methods, providing a blueprint for subclasses; regular classes can be instantiated directly and may have complete method implementations. Use abstract classes for defining common interfaces and enforcing method implementation in subclasses.'"
      ]
     },
     "execution_count": 100,
     "metadata": {},
     "output_type": "execute_result"
    }
   ],
   "source": [
    "#5. How do abstract classes differ from regular classes in Python? Discuss their use cases.\n",
    "\n",
    "#an s\n",
    "\n",
    "'''Abstract classes in Python cannot be instantiated on their own and may contain abstract methods, providing a blueprint for subclasses; regular classes can be instantiated directly and may have complete method implementations. Use abstract classes for defining common interfaces and enforcing method implementation in subclasses.'''"
   ]
  },
  {
   "cell_type": "code",
   "execution_count": 101,
   "id": "0ad448bf-5185-47fe-9076-98737cc8436f",
   "metadata": {},
   "outputs": [
    {
     "name": "stdout",
     "output_type": "stream",
     "text": [
      "Deposited $1000. New balance: 1000\n",
      "Withdrew $500. New balance: 500\n",
      "Savings Account #SA123 balance: $500\n"
     ]
    }
   ],
   "source": [
    "\n",
    "#6. Create a Python class for a bank account and demonstrate abstraction by hiding the account balance and\n",
    "#providing methods to deposit and withdraw funds.\n",
    "\n",
    "#ans \n",
    "\n",
    "from abc import ABC, abstractmethod\n",
    "\n",
    "class BankAccount(ABC):\n",
    "    def __init__(self, account_number, account_holder):\n",
    "        self.account_number = account_number\n",
    "        self.account_holder = account_holder\n",
    "        self._balance = 0  # Protected attribute for balance\n",
    "\n",
    "    @abstractmethod\n",
    "    def display_balance(self):\n",
    "        pass\n",
    "\n",
    "    def deposit(self, amount):\n",
    "        self._balance += amount\n",
    "        print(f\"Deposited ${amount}. New balance: {self._balance}\")\n",
    "\n",
    "    def withdraw(self, amount):\n",
    "        if self._balance >= amount:\n",
    "            self._balance -= amount\n",
    "            print(f\"Withdrew ${amount}. New balance: {self._balance}\")\n",
    "        else:\n",
    "            print(\"Insufficient funds. Withdrawal not allowed.\")\n",
    "\n",
    "# Concrete subclass implementing abstract methods\n",
    "class SavingsAccount(BankAccount):\n",
    "    def display_balance(self):\n",
    "        print(f\"Savings Account #{self.account_number} balance: ${self._balance}\")\n",
    "\n",
    "# Example usage\n",
    "savings_account = SavingsAccount(account_number=\"SA123\", account_holder=\"John Doe\")\n",
    "\n",
    "savings_account.deposit(1000)\n",
    "savings_account.withdraw(500)\n",
    "savings_account.display_balance()\n"
   ]
  },
  {
   "cell_type": "code",
   "execution_count": 102,
   "id": "323d2cc7-05de-4a49-9e6b-7107cf4acf65",
   "metadata": {},
   "outputs": [
    {
     "data": {
      "text/plain": [
       "'Interface classes in Python are abstract classes with only abstract methods, serving as a contract for concrete classes to define specific behaviors, promoting a clear and standardized API for achieving abstraction.'"
      ]
     },
     "execution_count": 102,
     "metadata": {},
     "output_type": "execute_result"
    }
   ],
   "source": [
    "#7. Discuss the concept of interface classes in Python and their role in achieving abstraction.\n",
    "\n",
    "#an s\n",
    "\n",
    "'''Interface classes in Python are abstract classes with only abstract methods, serving as a contract for concrete classes to define specific behaviors, promoting a clear and standardized API for achieving abstraction.'''"
   ]
  },
  {
   "cell_type": "code",
   "execution_count": 103,
   "id": "2248b6ae-46d1-49f5-a05c-9959de895792",
   "metadata": {},
   "outputs": [
    {
     "name": "stdout",
     "output_type": "stream",
     "text": [
      "Leo, a African Lion, says: Roar!\n",
      "Eddie, a Golden Eagle, says: Screech!\n",
      "Finn, a Clownfish, says: Bubble sounds!\n",
      "Leo: Lion is walking.\n",
      "Eddie: Eagle is flying.\n",
      "Finn: Fish is swimming.\n"
     ]
    }
   ],
   "source": [
    "#8. Create a Python class hierarchy for animals and implement abstraction by defining common methods\n",
    "\n",
    "#ans \n",
    "\n",
    "from abc import ABC, abstractmethod\n",
    "\n",
    "class Animal(ABC):\n",
    "    def __init__(self, name, species):\n",
    "        self.name = name\n",
    "        self.species = species\n",
    "\n",
    "    @abstractmethod\n",
    "    def make_sound(self):\n",
    "        pass\n",
    "\n",
    "    @abstractmethod\n",
    "    def move(self):\n",
    "        pass\n",
    "\n",
    "class Lion(Animal):\n",
    "    def make_sound(self):\n",
    "        return \"Roar!\"\n",
    "\n",
    "    def move(self):\n",
    "        return \"Lion is walking.\"\n",
    "\n",
    "class Eagle(Animal):\n",
    "    def make_sound(self):\n",
    "        return \"Screech!\"\n",
    "\n",
    "    def move(self):\n",
    "        return \"Eagle is flying.\"\n",
    "\n",
    "class Fish(Animal):\n",
    "    def make_sound(self):\n",
    "        return \"Bubble sounds!\"\n",
    "\n",
    "    def move(self):\n",
    "        return \"Fish is swimming.\"\n",
    "\n",
    "# Example usage\n",
    "lion = Lion(name=\"Leo\", species=\"African Lion\")\n",
    "eagle = Eagle(name=\"Eddie\", species=\"Golden Eagle\")\n",
    "fish = Fish(name=\"Finn\", species=\"Clownfish\")\n",
    "\n",
    "# Display information and behaviors of different animals\n",
    "print(f\"{lion.name}, a {lion.species}, says: {lion.make_sound()}\")\n",
    "print(f\"{eagle.name}, a {eagle.species}, says: {eagle.make_sound()}\")\n",
    "print(f\"{fish.name}, a {fish.species}, says: {fish.make_sound()}\")\n",
    "\n",
    "print(f\"{lion.name}: {lion.move()}\")\n",
    "print(f\"{eagle.name}: {eagle.move()}\")\n",
    "print(f\"{fish.name}: {fish.move()}\")\n"
   ]
  },
  {
   "cell_type": "code",
   "execution_count": 104,
   "id": "d4a20c18-5405-4290-b071-49abb96ea7fc",
   "metadata": {},
   "outputs": [
    {
     "data": {
      "text/plain": [
       "'Abstract methods in Python are methods declared in an abstract class (a class with one or more abstract methods) that have no implementation in the abstract class itself. The purpose of abstract methods is to provide a blueprint for functionality that must be implemented by concrete subclasses. They enforce abstraction by ensuring that concrete subclasses provide their own specific implementation for these methods.\\n\\nKey points about abstract methods and their role in enforcing abstraction:\\n\\n1. **Declaration without Implementation:**\\n   - Abstract methods are declared using the `@abstractmethod` decorator in the abstract base class.\\n   - They lack an implementation in the abstract class, leaving the specific behavior to be defined by concrete subclasses.\\n\\n2. **Enforcement of Implementation:**\\n   - Subclasses inheriting from an abstract class with abstract methods must provide concrete implementations for those methods.\\n   - If a concrete subclass fails to implement an abstract method, it will also be treated as an abstract class, and instances of that subclass cannot be instantiated.\\n\\n3. **Common Interface:**\\n   - Abstract methods define a common interface that concrete subclasses must adhere to.\\n   - This common interface allows objects of different types to be treated uniformly through polymorphism, promoting code organization and maintainability.\\n\\n4. **Flexibility and Modularity:**\\n   - Abstract methods contribute to a flexible and modular design, as they allow for the definition of essential behaviors at an abstract level, leaving the details to be implemented in specific contexts.\\n\\nExample illustrating abstract methods:\\n\\n```python\\nfrom abc import ABC, abstractmethod\\n\\nclass Shape(ABC):\\n    @abstractmethod\\n    def calculate_area(self):\\n        pass\\n\\nclass Circle(Shape):\\n    def __init__(self, radius):\\n        self.radius = radius\\n\\n    def calculate_area(self):\\n        return 3.14 * self.radius ** 2\\n\\nclass Rectangle(Shape):\\n    def __init__(self, length, width):\\n        self.length = length\\n        self.width = width\\n\\n    def calculate_area(self):\\n        return self.length * self.width\\n\\n# Creating instances of concrete subclasses\\ncircle = Circle(radius=5)\\nrectangle = Rectangle(length=4, width=6)\\n\\n# Invoking the abstract method on different shapes\\nprint(f\"Area of the Circle: {circle.calculate_area()}\")\\nprint(f\"Area of the Rectangle: {rectangle.calculate_area()}\")\\n```\\n\\nIn this example, `calculate_area` is an abstract method in the `Shape` abstract class, enforcing its implementation in the concrete subclasses (`Circle` and `Rectangle`).'"
      ]
     },
     "execution_count": 104,
     "metadata": {},
     "output_type": "execute_result"
    }
   ],
   "source": [
    "#10. What is the purpose of abstract methods, and how do they enforce abstraction in Python classes?\n",
    "\n",
    "#ans \n",
    "\n",
    "'''Abstract methods in Python are methods declared in an abstract class (a class with one or more abstract methods) that have no implementation in the abstract class itself. The purpose of abstract methods is to provide a blueprint for functionality that must be implemented by concrete subclasses. They enforce abstraction by ensuring that concrete subclasses provide their own specific implementation for these methods.\n",
    "\n",
    "Key points about abstract methods and their role in enforcing abstraction:\n",
    "\n",
    "1. **Declaration without Implementation:**\n",
    "   - Abstract methods are declared using the `@abstractmethod` decorator in the abstract base class.\n",
    "   - They lack an implementation in the abstract class, leaving the specific behavior to be defined by concrete subclasses.\n",
    "\n",
    "2. **Enforcement of Implementation:**\n",
    "   - Subclasses inheriting from an abstract class with abstract methods must provide concrete implementations for those methods.\n",
    "   - If a concrete subclass fails to implement an abstract method, it will also be treated as an abstract class, and instances of that subclass cannot be instantiated.\n",
    "\n",
    "3. **Common Interface:**\n",
    "   - Abstract methods define a common interface that concrete subclasses must adhere to.\n",
    "   - This common interface allows objects of different types to be treated uniformly through polymorphism, promoting code organization and maintainability.\n",
    "\n",
    "4. **Flexibility and Modularity:**\n",
    "   - Abstract methods contribute to a flexible and modular design, as they allow for the definition of essential behaviors at an abstract level, leaving the details to be implemented in specific contexts.\n",
    "\n",
    "Example illustrating abstract methods:\n",
    "\n",
    "```python\n",
    "from abc import ABC, abstractmethod\n",
    "\n",
    "class Shape(ABC):\n",
    "    @abstractmethod\n",
    "    def calculate_area(self):\n",
    "        pass\n",
    "\n",
    "class Circle(Shape):\n",
    "    def __init__(self, radius):\n",
    "        self.radius = radius\n",
    "\n",
    "    def calculate_area(self):\n",
    "        return 3.14 * self.radius ** 2\n",
    "\n",
    "class Rectangle(Shape):\n",
    "    def __init__(self, length, width):\n",
    "        self.length = length\n",
    "        self.width = width\n",
    "\n",
    "    def calculate_area(self):\n",
    "        return self.length * self.width\n",
    "\n",
    "# Creating instances of concrete subclasses\n",
    "circle = Circle(radius=5)\n",
    "rectangle = Rectangle(length=4, width=6)\n",
    "\n",
    "# Invoking the abstract method on different shapes\n",
    "print(f\"Area of the Circle: {circle.calculate_area()}\")\n",
    "print(f\"Area of the Rectangle: {rectangle.calculate_area()}\")\n",
    "```\n",
    "\n",
    "In this example, `calculate_area` is an abstract method in the `Shape` abstract class, enforcing its implementation in the concrete subclasses (`Circle` and `Rectangle`).'''"
   ]
  },
  {
   "cell_type": "code",
   "execution_count": 105,
   "id": "0eb5edbd-a0c2-4801-8ce6-04a87581adbc",
   "metadata": {},
   "outputs": [
    {
     "name": "stdout",
     "output_type": "stream",
     "text": [
      "The Toyota Camry car engine is started.\n",
      "The Toyota Camry car is in motion.\n",
      "The Toyota Camry car engine is stopped.\n",
      "\n",
      "==============================\n",
      "\n",
      "Bicycles don't have engines.\n",
      "Riding the bicycle.\n",
      "Bicycles don't have engines to stop.\n"
     ]
    }
   ],
   "source": [
    "#11. Create a Python class for a vehicle system and demonstrate abstraction by defining common methods\n",
    "\n",
    "#ans \n",
    "\n",
    "from abc import ABC, abstractmethod\n",
    "\n",
    "class Vehicle(ABC):\n",
    "    def __init__(self, brand, model):\n",
    "        self.brand = brand\n",
    "        self.model = model\n",
    "\n",
    "    @abstractmethod\n",
    "    def start_engine(self):\n",
    "        pass\n",
    "\n",
    "    @abstractmethod\n",
    "    def stop_engine(self):\n",
    "        pass\n",
    "\n",
    "    @abstractmethod\n",
    "    def drive(self):\n",
    "        pass\n",
    "\n",
    "class Car(Vehicle):\n",
    "    def start_engine(self):\n",
    "        return f\"The {self.brand} {self.model} car engine is started.\"\n",
    "\n",
    "    def stop_engine(self):\n",
    "        return f\"The {self.brand} {self.model} car engine is stopped.\"\n",
    "\n",
    "    def drive(self):\n",
    "        return f\"The {self.brand} {self.model} car is in motion.\"\n",
    "\n",
    "class Bicycle(Vehicle):\n",
    "    def start_engine(self):\n",
    "        return \"Bicycles don't have engines.\"\n",
    "\n",
    "    def stop_engine(self):\n",
    "        return \"Bicycles don't have engines to stop.\"\n",
    "\n",
    "    def drive(self):\n",
    "        return \"Riding the bicycle.\"\n",
    "\n",
    "# Example usage\n",
    "car = Car(brand=\"Toyota\", model=\"Camry\")\n",
    "bicycle = Bicycle(brand=\"Schwinn\", model=\"Mountain Bike\")\n",
    "\n",
    "# Common method calls on different types of vehicles\n",
    "print(car.start_engine())\n",
    "print(car.drive())\n",
    "print(car.stop_engine())\n",
    "\n",
    "print(\"\\n\" + \"=\"*30 + \"\\n\")\n",
    "\n",
    "print(bicycle.start_engine())\n",
    "print(bicycle.drive())\n",
    "print(bicycle.stop_engine())\n"
   ]
  },
  {
   "cell_type": "code",
   "execution_count": 106,
   "id": "91763d7c-1cd8-4182-88b1-faa20abed7b1",
   "metadata": {},
   "outputs": [
    {
     "data": {
      "text/plain": [
       "'Abstract properties in Python are attributes in abstract classes that are declared without an implementation. They allow you to define a common interface for attributes that must be implemented by concrete subclasses. Abstract properties are created using the `@property` decorator in conjunction with the `@abstractmethod` decorator.\\n\\nHere\\'s an example illustrating the use of abstract properties in an abstract class:\\n\\n```python\\nfrom abc import ABC, abstractmethod\\n\\nclass Shape(ABC):\\n    @property\\n    @abstractmethod\\n    def area(self):\\n        pass\\n\\n    @property\\n    @abstractmethod\\n    def perimeter(self):\\n        pass\\n\\nclass Circle(Shape):\\n    def __init__(self, radius):\\n        self.radius = radius\\n\\n    @property\\n    def area(self):\\n        return 3.14 * self.radius ** 2\\n\\n    @property\\n    def perimeter(self):\\n        return 2 * 3.14 * self.radius\\n\\nclass Rectangle(Shape):\\n    def __init__(self, length, width):\\n        self.length = length\\n        self.width = width\\n\\n    @property\\n    def area(self):\\n        return self.length * self.width\\n\\n    @property\\n    def perimeter(self):\\n        return 2 * (self.length + self.width)\\n\\n# Creating instances of concrete subclasses\\ncircle = Circle(radius=5)\\nrectangle = Rectangle(length=4, width=6)\\n\\n# Accessing abstract properties on different shapes\\nprint(f\"Area of the Circle: {circle.area}\")\\nprint(f\"Perimeter of the Circle: {circle.perimeter}\")\\n\\nprint(f\"Area of the Rectangle: {rectangle.area}\")\\nprint(f\"Perimeter of the Rectangle: {rectangle.perimeter}\")\\n```\\n\\nIn this example:\\n\\n- The `Shape` class is an abstract class with abstract properties `area` and `perimeter`.\\n- Subclasses (`Circle` and `Rectangle`) inherit from `Shape` and provide specific implementations for the abstract properties.\\n- Abstract properties are accessed in a similar way to regular properties, but their implementations must be provided by the concrete subclasses.\\n- The use of abstract properties enforces that concrete subclasses define the necessary attributes, ensuring a common interface for different shapes. '"
      ]
     },
     "execution_count": 106,
     "metadata": {},
     "output_type": "execute_result"
    }
   ],
   "source": [
    "#12. Describe the use of abstract properties in Python and how they can be employed in abstract classes.\n",
    "\n",
    "#ans \n",
    "\n",
    "'''Abstract properties in Python are attributes in abstract classes that are declared without an implementation. They allow you to define a common interface for attributes that must be implemented by concrete subclasses. Abstract properties are created using the `@property` decorator in conjunction with the `@abstractmethod` decorator.\n",
    "\n",
    "Here's an example illustrating the use of abstract properties in an abstract class:\n",
    "\n",
    "```python\n",
    "from abc import ABC, abstractmethod\n",
    "\n",
    "class Shape(ABC):\n",
    "    @property\n",
    "    @abstractmethod\n",
    "    def area(self):\n",
    "        pass\n",
    "\n",
    "    @property\n",
    "    @abstractmethod\n",
    "    def perimeter(self):\n",
    "        pass\n",
    "\n",
    "class Circle(Shape):\n",
    "    def __init__(self, radius):\n",
    "        self.radius = radius\n",
    "\n",
    "    @property\n",
    "    def area(self):\n",
    "        return 3.14 * self.radius ** 2\n",
    "\n",
    "    @property\n",
    "    def perimeter(self):\n",
    "        return 2 * 3.14 * self.radius\n",
    "\n",
    "class Rectangle(Shape):\n",
    "    def __init__(self, length, width):\n",
    "        self.length = length\n",
    "        self.width = width\n",
    "\n",
    "    @property\n",
    "    def area(self):\n",
    "        return self.length * self.width\n",
    "\n",
    "    @property\n",
    "    def perimeter(self):\n",
    "        return 2 * (self.length + self.width)\n",
    "\n",
    "# Creating instances of concrete subclasses\n",
    "circle = Circle(radius=5)\n",
    "rectangle = Rectangle(length=4, width=6)\n",
    "\n",
    "# Accessing abstract properties on different shapes\n",
    "print(f\"Area of the Circle: {circle.area}\")\n",
    "print(f\"Perimeter of the Circle: {circle.perimeter}\")\n",
    "\n",
    "print(f\"Area of the Rectangle: {rectangle.area}\")\n",
    "print(f\"Perimeter of the Rectangle: {rectangle.perimeter}\")\n",
    "```\n",
    "\n",
    "In this example:\n",
    "\n",
    "- The `Shape` class is an abstract class with abstract properties `area` and `perimeter`.\n",
    "- Subclasses (`Circle` and `Rectangle`) inherit from `Shape` and provide specific implementations for the abstract properties.\n",
    "- Abstract properties are accessed in a similar way to regular properties, but their implementations must be provided by the concrete subclasses.\n",
    "- The use of abstract properties enforces that concrete subclasses define the necessary attributes, ensuring a common interface for different shapes. '''"
   ]
  },
  {
   "cell_type": "code",
   "execution_count": 107,
   "id": "acc21ca1-f9ec-46db-acd0-393299917c67",
   "metadata": {},
   "outputs": [
    {
     "name": "stdout",
     "output_type": "stream",
     "text": [
      "John Doe (M001) - Role: Manager, Salary: $130000\n",
      "Alice Smith (D001) - Role: Developer, Salary: $70000\n",
      "Bob Johnson (DS001) - Role: Designer, Salary: $75000\n"
     ]
    }
   ],
   "source": [
    "#13. Create a Python class hierarchy for employees in a company (e.g., manager, developer, designer) and\n",
    "\n",
    "#ans \n",
    "\n",
    "\n",
    "from abc import ABC, abstractmethod\n",
    "\n",
    "class Employee(ABC):\n",
    "    def __init__(self, name, employee_id):\n",
    "        self.name = name\n",
    "        self.employee_id = employee_id\n",
    "\n",
    "    @abstractmethod\n",
    "    def calculate_salary(self):\n",
    "        pass\n",
    "\n",
    "    @abstractmethod\n",
    "    def display_role(self):\n",
    "        pass\n",
    "\n",
    "class Manager(Employee):\n",
    "    def __init__(self, name, employee_id, team_size):\n",
    "        super().__init__(name, employee_id)\n",
    "        self.team_size = team_size\n",
    "\n",
    "    def calculate_salary(self):\n",
    "        base_salary = 80000\n",
    "        bonus = self.team_size * 5000\n",
    "        return base_salary + bonus\n",
    "\n",
    "    def display_role(self):\n",
    "        return \"Manager\"\n",
    "\n",
    "class Developer(Employee):\n",
    "    def __init__(self, name, employee_id, programming_language):\n",
    "        super().__init__(name, employee_id)\n",
    "        self.programming_language = programming_language\n",
    "\n",
    "    def calculate_salary(self):\n",
    "        base_salary = 70000\n",
    "        return base_salary\n",
    "\n",
    "    def display_role(self):\n",
    "        return \"Developer\"\n",
    "\n",
    "class Designer(Employee):\n",
    "    def __init__(self, name, employee_id, design_tool):\n",
    "        super().__init__(name, employee_id)\n",
    "        self.design_tool = design_tool\n",
    "\n",
    "    def calculate_salary(self):\n",
    "        base_salary = 75000\n",
    "        return base_salary\n",
    "\n",
    "    def display_role(self):\n",
    "        return \"Designer\"\n",
    "\n",
    "# Example usage\n",
    "manager = Manager(name=\"John Doe\", employee_id=\"M001\", team_size=10)\n",
    "developer = Developer(name=\"Alice Smith\", employee_id=\"D001\", programming_language=\"Python\")\n",
    "designer = Designer(name=\"Bob Johnson\", employee_id=\"DS001\", design_tool=\"Adobe Illustrator\")\n",
    "\n",
    "# Displaying information about employees\n",
    "print(f\"{manager.name} ({manager.employee_id}) - Role: {manager.display_role()}, Salary: ${manager.calculate_salary()}\")\n",
    "print(f\"{developer.name} ({developer.employee_id}) - Role: {developer.display_role()}, Salary: ${developer.calculate_salary()}\")\n",
    "print(f\"{designer.name} ({designer.employee_id}) - Role: {designer.display_role()}, Salary: ${designer.calculate_salary()}\")\n"
   ]
  },
  {
   "cell_type": "code",
   "execution_count": 109,
   "id": "66cb2c1b-e2b4-42fe-9156-6be8f8f27546",
   "metadata": {},
   "outputs": [],
   "source": [
    "#14. Discuss the differences between abstract classes and concrete classes in Python, including their\n",
    "#instantiation.\n",
    "\n",
    "#qans \n",
    "\n",
    "#Abstract classes in Python cannot be instantiated on their own and may contain abstract methods, serving as a blueprint for subclasses; concrete classes can be instantiated directly and may have complete method implementations, representing tangible objects or entities."
   ]
  },
  {
   "cell_type": "code",
   "execution_count": 110,
   "id": "46d04df1-c3d2-4db1-a84c-271fc636f856",
   "metadata": {},
   "outputs": [
    {
     "data": {
      "text/plain": [
       "'Abstract Data Types (ADTs) in Python provide a high-level description of data structures with defined operations, promoting a level of abstraction that separates implementation details from usage.'"
      ]
     },
     "execution_count": 110,
     "metadata": {},
     "output_type": "execute_result"
    }
   ],
   "source": [
    "#15. Explain the concept of abstract data types (ADTs) and their role in achieving abstraction in Python.\n",
    "\n",
    "#ans \n",
    "\n",
    "'''Abstract Data Types (ADTs) in Python provide a high-level description of data structures with defined operations, promoting a level of abstraction that separates implementation details from usage.'''\n"
   ]
  },
  {
   "cell_type": "code",
   "execution_count": 111,
   "id": "72b20ba1-5223-4fa9-904f-37634731146f",
   "metadata": {},
   "outputs": [
    {
     "data": {
      "text/plain": [
       "' Certainly! Here\\'s an example of a Python class for a computer system demonstrating abstraction by defining common methods:\\n\\n```python\\nfrom abc import ABC, abstractmethod\\n\\nclass ComputerSystem(ABC):\\n    def __init__(self, brand, model):\\n        self.brand = brand\\n        self.model = model\\n\\n    @abstractmethod\\n    def power_on(self):\\n        pass\\n\\n    @abstractmethod\\n    def power_off(self):\\n        pass\\n\\n    @abstractmethod\\n    def perform_task(self):\\n        pass\\n\\nclass Laptop(ComputerSystem):\\n    def power_on(self):\\n        return f\"The {self.brand} {self.model} laptop is powering on.\"\\n\\n    def power_off(self):\\n        return f\"The {self.brand} {self.model} laptop is powering off.\"\\n\\n    def perform_task(self):\\n        return f\"The {self.brand} {self.model} laptop is performing a task.\"\\n\\nclass Desktop(ComputerSystem):\\n    def power_on(self):\\n        return f\"The {self.brand} {self.model} desktop is powering on.\"\\n\\n    def power_off(self):\\n        return f\"The {self.brand} {self.model} desktop is powering off.\"\\n\\n    def perform_task(self):\\n        return f\"The {self.brand} {self.model} desktop is performing a task.\"\\n\\n# Example usage\\nlaptop = Laptop(brand=\"Dell\", model=\"XPS\")\\ndesktop = Desktop(brand=\"HP\", model=\"Pavilion\")\\n\\n# Common method calls on different types of computer systems\\nprint(laptop.power_on())\\nprint(laptop.perform_task())\\nprint(laptop.power_off())\\n\\nprint(\"\\n\" + \"=\"*30 + \"\\n\")\\n\\nprint(desktop.power_on())\\nprint(desktop.perform_task())\\nprint(desktop.power_off())\\n```\\n\\nIn this example:\\n\\n- The `ComputerSystem` class is an abstract class with abstract methods `power_on`, `power_off`, and `perform_task`.\\n- Subclasses (`Laptop` and `Desktop`) inherit from `ComputerSystem` and provide specific implementations for the abstract methods.\\n- Objects of different computer system types (`Laptop` and `Desktop`) are treated uniformly through the common interface defined by the `ComputerSystem` class.\\n- Abstraction is achieved by defining common methods (`power_on`, `power_off`, `perform_task`) in the abstract base class, enforcing their implementation in concrete subclasses.'"
      ]
     },
     "execution_count": 111,
     "metadata": {},
     "output_type": "execute_result"
    }
   ],
   "source": [
    "#16. Create a Python class for a computer system, demonstrating abstraction by defining common methods\n",
    "\n",
    "#ans \n",
    "\n",
    "''' Certainly! Here's an example of a Python class for a computer system demonstrating abstraction by defining common methods:\n",
    "\n",
    "```python\n",
    "from abc import ABC, abstractmethod\n",
    "\n",
    "class ComputerSystem(ABC):\n",
    "    def __init__(self, brand, model):\n",
    "        self.brand = brand\n",
    "        self.model = model\n",
    "\n",
    "    @abstractmethod\n",
    "    def power_on(self):\n",
    "        pass\n",
    "\n",
    "    @abstractmethod\n",
    "    def power_off(self):\n",
    "        pass\n",
    "\n",
    "    @abstractmethod\n",
    "    def perform_task(self):\n",
    "        pass\n",
    "\n",
    "class Laptop(ComputerSystem):\n",
    "    def power_on(self):\n",
    "        return f\"The {self.brand} {self.model} laptop is powering on.\"\n",
    "\n",
    "    def power_off(self):\n",
    "        return f\"The {self.brand} {self.model} laptop is powering off.\"\n",
    "\n",
    "    def perform_task(self):\n",
    "        return f\"The {self.brand} {self.model} laptop is performing a task.\"\n",
    "\n",
    "class Desktop(ComputerSystem):\n",
    "    def power_on(self):\n",
    "        return f\"The {self.brand} {self.model} desktop is powering on.\"\n",
    "\n",
    "    def power_off(self):\n",
    "        return f\"The {self.brand} {self.model} desktop is powering off.\"\n",
    "\n",
    "    def perform_task(self):\n",
    "        return f\"The {self.brand} {self.model} desktop is performing a task.\"\n",
    "\n",
    "# Example usage\n",
    "laptop = Laptop(brand=\"Dell\", model=\"XPS\")\n",
    "desktop = Desktop(brand=\"HP\", model=\"Pavilion\")\n",
    "\n",
    "# Common method calls on different types of computer systems\n",
    "print(laptop.power_on())\n",
    "print(laptop.perform_task())\n",
    "print(laptop.power_off())\n",
    "\n",
    "print(\"\\n\" + \"=\"*30 + \"\\n\")\n",
    "\n",
    "print(desktop.power_on())\n",
    "print(desktop.perform_task())\n",
    "print(desktop.power_off())\n",
    "```\n",
    "\n",
    "In this example:\n",
    "\n",
    "- The `ComputerSystem` class is an abstract class with abstract methods `power_on`, `power_off`, and `perform_task`.\n",
    "- Subclasses (`Laptop` and `Desktop`) inherit from `ComputerSystem` and provide specific implementations for the abstract methods.\n",
    "- Objects of different computer system types (`Laptop` and `Desktop`) are treated uniformly through the common interface defined by the `ComputerSystem` class.\n",
    "- Abstraction is achieved by defining common methods (`power_on`, `power_off`, `perform_task`) in the abstract base class, enforcing their implementation in concrete subclasses.'''"
   ]
  },
  {
   "cell_type": "code",
   "execution_count": 113,
   "id": "b9c85a10-4787-4a09-b44a-73b9a1a131ef",
   "metadata": {},
   "outputs": [
    {
     "ename": "SyntaxError",
     "evalue": "invalid syntax (3954711896.py, line 47)",
     "output_type": "error",
     "traceback": [
      "\u001b[1;36m  Cell \u001b[1;32mIn[113], line 47\u001b[1;36m\u001b[0m\n\u001b[1;33m    In summary, abstraction in large-scale software development enhances maintainability, promotes collaboration, facilitates code reuse, and provides a structured approach to building complex systems'''.\u001b[0m\n\u001b[1;37m                                                                                                                                                                                                            ^\u001b[0m\n\u001b[1;31mSyntaxError\u001b[0m\u001b[1;31m:\u001b[0m invalid syntax\n"
     ]
    }
   ],
   "source": [
    "#17. Discuss the benefits of using abstraction in large-scale software development projects.\n",
    "\n",
    "#ans \n",
    "\n",
    "'''Abstraction in large-scale software development projects offers several benefits:\n",
    "\n",
    "1. **Modularity and Maintainability:**\n",
    "   - Abstraction allows developers to break down a complex system into modular components, each responsible for a specific task or functionality.\n",
    "   - Modular components are easier to understand, maintain, and update, facilitating better code organization.\n",
    "\n",
    "2. **Code Reusability:**\n",
    "   - Abstracting common functionalities into reusable components promotes code reusability across different parts of the project.\n",
    "   - Developers can leverage existing abstract components in new contexts, reducing redundancy and improving overall efficiency.\n",
    "\n",
    "3. **Team Collaboration:**\n",
    "   - Abstraction provides a common language and framework for collaboration among team members.\n",
    "   - Different team members can work on specific modules or components without needing to understand the entire codebase, fostering parallel development.\n",
    "\n",
    "4. **Flexibility and Adaptability:**\n",
    "   - Abstracting interfaces from implementations allows for flexible design changes without affecting the entire system.\n",
    "   - Developers can modify or replace components without disrupting other parts of the codebase, making it easier to adapt to changing requirements.\n",
    "\n",
    "5. **Reduced Complexity:**\n",
    "   - Abstracting complex functionalities hides unnecessary details, making it easier for developers to focus on high-level concepts.\n",
    "   - Reducing the cognitive load improves code comprehension and reduces the likelihood of errors.\n",
    "\n",
    "6. **Testing and Debugging:**\n",
    "   - Abstraction allows for easier testing of individual components in isolation, promoting more effective unit testing.\n",
    "   - Debugging becomes more straightforward as issues can be localized to specific modules, speeding up the troubleshooting process.\n",
    "\n",
    "7. **Scalability:**\n",
    "   - Abstraction provides a scalable foundation, making it easier to extend the software by adding new features or modules.\n",
    "   - As the project grows, abstraction enables the integration of new functionalities without affecting the existing structure.\n",
    "\n",
    "8. **Security:**\n",
    "   - By abstracting sensitive details and encapsulating them within well-defined interfaces, security measures can be centralized and managed more effectively.\n",
    "   - Controlled access to specific functionalities can be enforced through abstract interfaces.\n",
    "\n",
    "9. **Documentation and Understanding:**\n",
    "   - Abstraction serves as a natural form of documentation, as high-level concepts and interactions are explicitly defined.\n",
    "   - New developers can understand and contribute to the project more quickly due to the clear abstraction boundaries.\n",
    "\n",
    "10. **Adherence to Design Principles:**\n",
    "    - Abstraction encourages the application of design principles like DRY (Don't Repeat Yourself), separation of concerns, and single responsibility.\n",
    "    - Adhering to these principles results in cleaner, more maintainable code.\n",
    "\n",
    "In summary, abstraction in large-scale software development enhances maintainability, promotes collaboration, facilitates code reuse, and provides a structured approach to building complex systems'''."
   ]
  },
  {
   "cell_type": "code",
   "execution_count": 114,
   "id": "e631b9e2-4187-498c-b797-68bae198e72d",
   "metadata": {},
   "outputs": [
    {
     "data": {
      "text/plain": [
       "' Abstraction in Python promotes code reusability and modularity by encapsulating implementation details, allowing components to be reused in different contexts and fostering a structured, modular design.'"
      ]
     },
     "execution_count": 114,
     "metadata": {},
     "output_type": "execute_result"
    }
   ],
   "source": [
    "#18. Explain how abstraction enhances code reusability and modularity in Python programs.\n",
    "\n",
    "#ans \n",
    "\n",
    "''' Abstraction in Python promotes code reusability and modularity by encapsulating implementation details, allowing components to be reused in different contexts and fostering a structured, modular design.'''"
   ]
  },
  {
   "cell_type": "code",
   "execution_count": 115,
   "id": "7362d7ef-e529-41c1-afc7-ebc39f404b09",
   "metadata": {},
   "outputs": [
    {
     "name": "stdout",
     "output_type": "stream",
     "text": [
      "Book: The Catcher in the Rye by J.D. Salinger, Genre: Fiction\n",
      "The Catcher in the Rye by J.D. Salinger has been checked out.\n",
      "The Catcher in the Rye has been returned.\n",
      "\n",
      "==============================\n",
      "\n",
      "DVD: Inception directed by Christopher Nolan, Duration: 148 minutes\n",
      "Inception by Christopher Nolan has been checked out.\n",
      "Inception has been returned.\n"
     ]
    }
   ],
   "source": [
    "#19. Create a Python class for a library system, implementing abstraction by defining common methods\n",
    "\n",
    "#ans \n",
    "\n",
    "from abc import ABC, abstractmethod\n",
    "\n",
    "class LibraryItem(ABC):\n",
    "    def __init__(self, title, author):\n",
    "        self.title = title\n",
    "        self.author = author\n",
    "        self.checked_out = False\n",
    "\n",
    "    @abstractmethod\n",
    "    def display_details(self):\n",
    "        pass\n",
    "\n",
    "    def check_out(self):\n",
    "        if not self.checked_out:\n",
    "            self.checked_out = True\n",
    "            return f\"{self.title} by {self.author} has been checked out.\"\n",
    "        else:\n",
    "            return f\"{self.title} is already checked out.\"\n",
    "\n",
    "    def return_item(self):\n",
    "        if self.checked_out:\n",
    "            self.checked_out = False\n",
    "            return f\"{self.title} has been returned.\"\n",
    "        else:\n",
    "            return f\"{self.title} is not currently checked out.\"\n",
    "\n",
    "class Book(LibraryItem):\n",
    "    def __init__(self, title, author, genre):\n",
    "        super().__init__(title, author)\n",
    "        self.genre = genre\n",
    "\n",
    "    def display_details(self):\n",
    "        return f\"Book: {self.title} by {self.author}, Genre: {self.genre}\"\n",
    "\n",
    "class DVD(LibraryItem):\n",
    "    def __init__(self, title, director, duration):\n",
    "        super().__init__(title, director)\n",
    "        self.duration = duration\n",
    "\n",
    "    def display_details(self):\n",
    "        return f\"DVD: {self.title} directed by {self.author}, Duration: {self.duration} minutes\"\n",
    "\n",
    "# Example usage\n",
    "book = Book(title=\"The Catcher in the Rye\", author=\"J.D. Salinger\", genre=\"Fiction\")\n",
    "dvd = DVD(title=\"Inception\", director=\"Christopher Nolan\", duration=148)\n",
    "\n",
    "# Common method calls on different types of library items\n",
    "print(book.display_details())\n",
    "print(book.check_out())\n",
    "print(book.return_item())\n",
    "\n",
    "print(\"\\n\" + \"=\"*30 + \"\\n\")\n",
    "\n",
    "print(dvd.display_details())\n",
    "print(dvd.check_out())\n",
    "print(dvd.return_item())\n",
    "\n"
   ]
  },
  {
   "cell_type": "code",
   "execution_count": 116,
   "id": "dfbb7607-38da-446b-921b-d69c1e4d56e5",
   "metadata": {},
   "outputs": [
    {
     "name": "stdout",
     "output_type": "stream",
     "text": [
      "Area: 78.5\n",
      "Area: 24\n"
     ]
    }
   ],
   "source": [
    "#20. Describe the concept of method abstraction in Python and how it relates to polymorphism.\n",
    "\n",
    "#ans \n",
    "\n",
    "from abc import ABC, abstractmethod\n",
    "\n",
    "class Shape(ABC):\n",
    "    @abstractmethod\n",
    "    def calculate_area(self):\n",
    "        pass\n",
    "\n",
    "class Circle(Shape):\n",
    "    def __init__(self, radius):\n",
    "        self.radius = radius\n",
    "\n",
    "    def calculate_area(self):\n",
    "        return 3.14 * self.radius ** 2\n",
    "\n",
    "class Rectangle(Shape):\n",
    "    def __init__(self, length, width):\n",
    "        self.length = length\n",
    "        self.width = width\n",
    "\n",
    "    def calculate_area(self):\n",
    "        return self.length * self.width\n",
    "\n",
    "# Polymorphic usage\n",
    "shapes = [Circle(radius=5), Rectangle(length=4, width=6)]\n",
    "\n",
    "for shape in shapes:\n",
    "    print(f\"Area: {shape.calculate_area()}\")\n"
   ]
  },
  {
   "cell_type": "code",
   "execution_count": 117,
   "id": "c88fec5e-75ab-4a06-9a04-05419bbe444a",
   "metadata": {},
   "outputs": [],
   "source": [
    "#COMPOSITION "
   ]
  },
  {
   "cell_type": "code",
   "execution_count": 118,
   "id": "64acee34-10d8-43de-a55c-7892d911873f",
   "metadata": {},
   "outputs": [
    {
     "data": {
      "text/plain": [
       "' Composition in Python involves creating complex objects by combining or composing simpler objects, allowing for the construction of more intricate structures without the need for inheritance.'"
      ]
     },
     "execution_count": 118,
     "metadata": {},
     "output_type": "execute_result"
    }
   ],
   "source": [
    "#1. Explain the concept of composition in Python and how it is used to build complex objects from simpler\n",
    "\n",
    "#an s\n",
    "\n",
    "''' Composition in Python involves creating complex objects by combining or composing simpler objects, allowing for the construction of more intricate structures without the need for inheritance.'''"
   ]
  },
  {
   "cell_type": "code",
   "execution_count": 119,
   "id": "98373d19-dc33-4dd0-92b1-f04c6918a866",
   "metadata": {},
   "outputs": [
    {
     "data": {
      "text/plain": [
       "'Composition involves constructing objects by combining simpler ones, emphasizing the \"has-a\" relationship, while inheritance involves creating objects based on existing ones, emphasizing the \"is-a\" relationship.'"
      ]
     },
     "execution_count": 119,
     "metadata": {},
     "output_type": "execute_result"
    }
   ],
   "source": [
    "#2. Describe the difference between composition and inheritance in object-oriented programming.\n",
    "\n",
    "#ans \n",
    "\n",
    "'''Composition involves constructing objects by combining simpler ones, emphasizing the \"has-a\" relationship, while inheritance involves creating objects based on existing ones, emphasizing the \"is-a\" relationship.'''"
   ]
  },
  {
   "cell_type": "code",
   "execution_count": 120,
   "id": "680851b7-8247-43d1-ac26-0aae6191e3b6",
   "metadata": {},
   "outputs": [
    {
     "name": "stdout",
     "output_type": "stream",
     "text": [
      "Title: Harry Potter and the Sorcerer's Stone\n",
      "Genre: Fantasy\n",
      "Author: J.K. Rowling\n",
      "Birthdate: July 31, 1965\n"
     ]
    }
   ],
   "source": [
    "#3. Create a Python class called `Author` with attributes for name and birthdate. Then, create a `Book` class\n",
    "#that contains an instance of `Author` as a composition. Provide an example of creating a `Book` object.\n",
    "\n",
    "#ans \n",
    "\n",
    "class Author:\n",
    "    def __init__(self, name, birthdate):\n",
    "        self.name = name\n",
    "        self.birthdate = birthdate\n",
    "\n",
    "class Book:\n",
    "    def __init__(self, title, genre, author):\n",
    "        self.title = title\n",
    "        self.genre = genre\n",
    "        self.author = author  # Composition: Book has an instance of Author\n",
    "\n",
    "    def display_info(self):\n",
    "        return f\"Title: {self.title}\\nGenre: {self.genre}\\nAuthor: {self.author.name}\\nBirthdate: {self.author.birthdate}\"\n",
    "\n",
    "# Example usage\n",
    "author1 = Author(name=\"J.K. Rowling\", birthdate=\"July 31, 1965\")\n",
    "book1 = Book(title=\"Harry Potter and the Sorcerer's Stone\", genre=\"Fantasy\", author=author1)\n",
    "\n",
    "# Displaying information about the book\n",
    "print(book1.display_info())\n",
    "\n"
   ]
  },
  {
   "cell_type": "code",
   "execution_count": 121,
   "id": "1458c84b-d7b4-4b8a-a26d-8c3fa5ef98a8",
   "metadata": {},
   "outputs": [
    {
     "ename": "SyntaxError",
     "evalue": "invalid syntax (1680882282.py, line 6)",
     "output_type": "error",
     "traceback": [
      "\u001b[1;36m  Cell \u001b[1;32mIn[121], line 6\u001b[1;36m\u001b[0m\n\u001b[1;33m    Using composition over inheritance in Python offers several benefits in terms of code flexibility and reusability:\u001b[0m\n\u001b[1;37m          ^\u001b[0m\n\u001b[1;31mSyntaxError\u001b[0m\u001b[1;31m:\u001b[0m invalid syntax\n"
     ]
    }
   ],
   "source": [
    "#4. Discuss the benefits of using composition over inheritance in Python, especially in terms of code flexibility\n",
    "#and reusability.\n",
    "\n",
    "#ans \n",
    "\n",
    "Using composition over inheritance in Python offers several benefits in terms of code flexibility and reusability:\n",
    "\n",
    "1. **Flexibility:**\n",
    "   - Composition allows for more flexible relationships between classes, as objects can be combined and composed dynamically.\n",
    "   - Changes in the behavior of one class do not affect other classes, providing greater flexibility in modifying and extending the system.\n",
    "\n",
    "2. **Reduced Coupling:**\n",
    "   - Composition results in lower coupling between classes compared to inheritance.\n",
    "   - Classes remain independent, and modifications to one class are less likely to impact others, reducing the risk of unintended consequences.\n",
    "\n",
    "3. **Easier Maintenance:**\n",
    "   - Code using composition tends to be more modular and easier to maintain.\n",
    "   - Each class has a well-defined responsibility, making it simpler to understand, update, and debug.\n",
    "\n",
    "4. **Improved Code Reusability:**\n",
    "   - Composition promotes code reusability by allowing components to be reused in different contexts.\n",
    "   - Objects can be composed with various other objects, facilitating the construction of diverse and reusable structures.\n",
    "\n",
    "5. **Enhanced Readability:**\n",
    "   - Composition often results in more readable code by making relationships explicit and avoiding complex hierarchies.\n",
    "   - It is easier to understand the structure and interactions of objects in a composition-based design.\n",
    "\n",
    "6. **Avoidance of Fragile Base Class Problem:**\n",
    "   - Composition helps avoid the \"fragile base class problem,\" where changes to a base class can unintentionally affect derived classes.\n",
    "   - With composition, changes to one class do not cascade through an entire hierarchy, reducing the risk of introducing bugs.\n",
    "\n",
    "7. **Dynamic Object Composition:**\n",
    "   - Objects can be composed dynamically at runtime, allowing for more dynamic and adaptable designs.\n",
    "   - Components can be added or removed as needed, providing a dynamic and extensible system.\n",
    "\n",
    "8. **Better Encapsulation:**\n",
    "   - Composition encourages better encapsulation by allowing objects to control their internal components.\n",
    "   - Components can have private state and behavior, reducing exposure and enforcing encapsulation.\n",
    "\n",
    "9. **Easier Testing:**\n",
    "   - Composition often leads to classes with well-defined interfaces, making it easier to test individual components in isolation.\n",
    "   - Unit testing becomes more straightforward, contributing to overall code reliability.\n",
    "\n",
    "10. **Adaptability to Change:**\n",
    "    - Composition makes systems more adaptable to change by providing a modular structure that can be easily adjusted and extended.\n",
    "    - Modifications to one part of the system are less likely to have a cascading effect on other parts.\n",
    "\n",
    "While both composition and inheritance have their places in software design, choosing composition over inheritance can lead to more maintainable, flexible, and reusable code, particularly in situations where a \"has-a\" relationship is more appropriate than an \"is-a\" relationship."
   ]
  },
  {
   "cell_type": "code",
   "execution_count": 122,
   "id": "1554c5c5-0cb7-4bb8-bb9b-d5b5b62d7f5b",
   "metadata": {},
   "outputs": [
    {
     "data": {
      "text/plain": [
       "' To implement composition in Python classes, include instances of other classes as attributes, allowing for the construction of complex objects; for example, a `Car` class composed of `Engine`, `Wheel`, and `Transmission` objects:\\n\\n```python\\nclass Engine:\\n    def start(self):\\n        return \"Engine started.\"\\n\\nclass Wheel:\\n    def rotate(self):\\n        return \"Wheel rotating.\"\\n\\nclass Transmission:\\n    def shift_gear(self):\\n        return \"Gear shifted.\"\\n\\nclass Car:\\n    def __init__(self):\\n        self.engine = Engine()\\n        self.wheels = [Wheel() for _ in range(4)]\\n        self.transmission = Transmission()\\n\\n    def drive(self):\\n        return f\"{self.engine.start()} {\\', \\'.join(w.rotate() for w in self.wheels)} {self.transmission.shift_gear()}\"\\n\\n# Example usage\\ncar = Car()\\nprint(car.drive())\\n```\\n\\nIn this example:\\n\\n- `Car` class is composed of `Engine`, `Wheel`, and `Transmission` objects.\\n- Objects of these classes are instantiated as attributes of the `Car` class.\\n- The `Car` class utilizes composition to create a complex object, and the `drive` method demonstrates interaction with the composed components.'"
      ]
     },
     "execution_count": 122,
     "metadata": {},
     "output_type": "execute_result"
    }
   ],
   "source": [
    "#5. How can you implement composition in Python classes? Provide examples of using composition to create\n",
    "#complex objects.\n",
    "\n",
    "#ans \n",
    "\n",
    "''' To implement composition in Python classes, include instances of other classes as attributes, allowing for the construction of complex objects; for example, a `Car` class composed of `Engine`, `Wheel`, and `Transmission` objects:\n",
    "\n",
    "```python\n",
    "class Engine:\n",
    "    def start(self):\n",
    "        return \"Engine started.\"\n",
    "\n",
    "class Wheel:\n",
    "    def rotate(self):\n",
    "        return \"Wheel rotating.\"\n",
    "\n",
    "class Transmission:\n",
    "    def shift_gear(self):\n",
    "        return \"Gear shifted.\"\n",
    "\n",
    "class Car:\n",
    "    def __init__(self):\n",
    "        self.engine = Engine()\n",
    "        self.wheels = [Wheel() for _ in range(4)]\n",
    "        self.transmission = Transmission()\n",
    "\n",
    "    def drive(self):\n",
    "        return f\"{self.engine.start()} {', '.join(w.rotate() for w in self.wheels)} {self.transmission.shift_gear()}\"\n",
    "\n",
    "# Example usage\n",
    "car = Car()\n",
    "print(car.drive())\n",
    "```\n",
    "\n",
    "In this example:\n",
    "\n",
    "- `Car` class is composed of `Engine`, `Wheel`, and `Transmission` objects.\n",
    "- Objects of these classes are instantiated as attributes of the `Car` class.\n",
    "- The `Car` class utilizes composition to create a complex object, and the `drive` method demonstrates interaction with the composed components.'''"
   ]
  },
  {
   "cell_type": "code",
   "execution_count": 123,
   "id": "a6f7434d-2333-41e6-bc8d-08711c1fc0b7",
   "metadata": {},
   "outputs": [
    {
     "name": "stdout",
     "output_type": "stream",
     "text": [
      "Playlist 'Top Hits': Now playing: Shape of You by Ed Sheeran | Now playing: Dance Monkey by Tones and I\n"
     ]
    }
   ],
   "source": [
    "#6. Create a Python class hierarchy for a music player system, using composition to represent playlists and\n",
    "#songs.\n",
    "\n",
    "#ans \n",
    "\n",
    "class Song:\n",
    "    def __init__(self, title, artist, duration):\n",
    "        self.title = title\n",
    "        self.artist = artist\n",
    "        self.duration = duration\n",
    "\n",
    "    def play(self):\n",
    "        return f\"Now playing: {self.title} by {self.artist}\"\n",
    "\n",
    "class Playlist:\n",
    "    def __init__(self, name):\n",
    "        self.name = name\n",
    "        self.songs = []\n",
    "\n",
    "    def add_song(self, song):\n",
    "        self.songs.append(song)\n",
    "\n",
    "    def play_all(self):\n",
    "        return f\"Playlist '{self.name}': {' | '.join(song.play() for song in self.songs)}\"\n",
    "\n",
    "# Example usage\n",
    "song1 = Song(title=\"Shape of You\", artist=\"Ed Sheeran\", duration=\"4:23\")\n",
    "song2 = Song(title=\"Dance Monkey\", artist=\"Tones and I\", duration=\"3:30\")\n",
    "\n",
    "playlist1 = Playlist(name=\"Top Hits\")\n",
    "playlist1.add_song(song1)\n",
    "playlist1.add_song(song2)\n",
    "\n",
    "print(playlist1.play_all())\n"
   ]
  },
  {
   "cell_type": "code",
   "execution_count": 124,
   "id": "a0223dad-c21b-4fbf-bd33-1e7a8ef7a0b2",
   "metadata": {},
   "outputs": [
    {
     "data": {
      "text/plain": [
       "' The \"has-a\" relationship in composition signifies that a class has components or attributes of another class, promoting modular and flexible software design.'"
      ]
     },
     "execution_count": 124,
     "metadata": {},
     "output_type": "execute_result"
    }
   ],
   "source": [
    "#7. Explain the concept of \"has-a\" relationships in composition and how it helps design software systems.\n",
    "\n",
    "#aqns \n",
    "\n",
    "''' The \"has-a\" relationship in composition signifies that a class has components or attributes of another class, promoting modular and flexible software design.'''"
   ]
  },
  {
   "cell_type": "code",
   "execution_count": 125,
   "id": "a29fb9bc-6217-4ea1-a6a9-a896d897f411",
   "metadata": {},
   "outputs": [
    {
     "name": "stdout",
     "output_type": "stream",
     "text": [
      "Processing data... Storing data in RAM... Reading data from storage...\n"
     ]
    }
   ],
   "source": [
    "#8. Create a Python class for a computer system, using composition to represent components like CPU, RAM,\n",
    "#and storage devices.\n",
    "\n",
    "#ans \n",
    "\n",
    "class CPU:\n",
    "    def __init__(self, brand, speed):\n",
    "        self.brand = brand\n",
    "        self.speed = speed\n",
    "\n",
    "    def process_data(self):\n",
    "        return \"Processing data...\"\n",
    "\n",
    "class RAM:\n",
    "    def __init__(self, capacity):\n",
    "        self.capacity = capacity\n",
    "\n",
    "    def store_data(self):\n",
    "        return \"Storing data in RAM...\"\n",
    "\n",
    "class StorageDevice:\n",
    "    def __init__(self, type, capacity):\n",
    "        self.type = type\n",
    "        self.capacity = capacity\n",
    "\n",
    "    def read_data(self):\n",
    "        return \"Reading data from storage...\"\n",
    "\n",
    "class ComputerSystem:\n",
    "    def __init__(self, cpu, ram, storage):\n",
    "        self.cpu = cpu\n",
    "        self.ram = ram\n",
    "        self.storage = storage\n",
    "\n",
    "    def perform_computation(self):\n",
    "        return f\"{self.cpu.process_data()} {self.ram.store_data()} {self.storage.read_data()}\"\n",
    "\n",
    "# Example usage\n",
    "cpu = CPU(brand=\"Intel\", speed=\"3.2 GHz\")\n",
    "ram = RAM(capacity=\"16 GB\")\n",
    "storage = StorageDevice(type=\"SSD\", capacity=\"512 GB\")\n",
    "\n",
    "computer = ComputerSystem(cpu=cpu, ram=ram, storage=storage)\n",
    "print(computer.perform_computation())\n"
   ]
  },
  {
   "cell_type": "code",
   "execution_count": 126,
   "id": "54398005-3f90-4d75-8adb-a939d50f285d",
   "metadata": {},
   "outputs": [
    {
     "data": {
      "text/plain": [
       "' \"Delegation\" in composition involves assigning responsibility to other classes or components, simplifying the design of complex systems by promoting modular and reusable code.'"
      ]
     },
     "execution_count": 126,
     "metadata": {},
     "output_type": "execute_result"
    }
   ],
   "source": [
    "#9. Describe the concept of \"delegation\" in composition and how it simplifies the design of complex\n",
    "\n",
    "#ans \n",
    "\n",
    "''' \"Delegation\" in composition involves assigning responsibility to other classes or components, simplifying the design of complex systems by promoting modular and reusable code.'''"
   ]
  },
  {
   "cell_type": "code",
   "execution_count": 127,
   "id": "c9b5f820-e16b-4dce-9a74-941d35b361de",
   "metadata": {},
   "outputs": [
    {
     "name": "stdout",
     "output_type": "stream",
     "text": [
      "Engine started. Wheel rotating., Wheel rotating., Wheel rotating., Wheel rotating. Gear shifted.\n"
     ]
    }
   ],
   "source": [
    "#10. Create a Python class for a car, using composition to represent components like the engine, wheels, and\n",
    "#transmission.\n",
    "\n",
    "#ans \n",
    "\n",
    "class Engine:\n",
    "    def start(self):\n",
    "        return \"Engine started.\"\n",
    "\n",
    "class Wheel:\n",
    "    def rotate(self):\n",
    "        return \"Wheel rotating.\"\n",
    "\n",
    "class Transmission:\n",
    "    def shift_gear(self):\n",
    "        return \"Gear shifted.\"\n",
    "\n",
    "class Car:\n",
    "    def __init__(self, engine, wheels, transmission):\n",
    "        self.engine = engine\n",
    "        self.wheels = wheels\n",
    "        self.transmission = transmission\n",
    "\n",
    "    def drive(self):\n",
    "        return f\"{self.engine.start()} {', '.join(w.rotate() for w in self.wheels)} {self.transmission.shift_gear()}\"\n",
    "\n",
    "# Example usage\n",
    "car_engine = Engine()\n",
    "car_wheels = [Wheel() for _ in range(4)]\n",
    "car_transmission = Transmission()\n",
    "\n",
    "my_car = Car(engine=car_engine, wheels=car_wheels, transmission=car_transmission)\n",
    "print(my_car.drive())\n"
   ]
  },
  {
   "cell_type": "code",
   "execution_count": 128,
   "id": "3914ff31-bc5a-42ba-829b-ff566564a5e3",
   "metadata": {},
   "outputs": [
    {
     "data": {
      "text/plain": [
       "' To encapsulate and hide the details of composed objects in Python classes, you can use private attributes and methods. This approach ensures that the internal details of the composed objects are not directly accessible from outside the class, maintaining abstraction.\\n\\nHere\\'s an example extending the car class from the previous response with encapsulation:\\n\\n```python\\nclass Engine:\\n    def start(self):\\n        return \"Engine started.\"\\n\\nclass Wheel:\\n    def rotate(self):\\n        return \"Wheel rotating.\"\\n\\nclass Transmission:\\n    def shift_gear(self):\\n        return \"Gear shifted.\"\\n\\nclass Car:\\n    def __init__(self, engine, wheels, transmission):\\n        self._engine = engine  # Encapsulation: Private attribute\\n        self._wheels = wheels  # Encapsulation: Private attribute\\n        self._transmission = transmission  # Encapsulation: Private attribute\\n\\n    def _check_engine_health(self):\\n        return \"Engine health check passed.\"  # Encapsulation: Private method\\n\\n    def drive(self):\\n        return f\"{self._engine.start()} {\\', \\'.join(w.rotate() for w in self._wheels)} {self._transmission.shift_gear()}\"\\n\\n    def start_journey(self):\\n        engine_health = self._check_engine_health()  # Encapsulation: Accessing private method\\n        return f\"Journey started. {engine_health}\"\\n\\n# Example usage\\ncar_engine = Engine()\\ncar_wheels = [Wheel() for _ in range(4)]\\ncar_transmission = Transmission()\\n\\nmy_car = Car(engine=car_engine, wheels=car_wheels, transmission=car_transmission)\\nprint(my_car.drive())\\nprint(my_car.start_journey())\\n```\\n\\nIn this example:\\n\\n- Private attributes (`_engine`, `_wheels`, `_transmission`) are used to encapsulate the details of the composed objects within the `Car` class.\\n- A private method (`_check_engine_health`) is added to perform an internal operation without exposing implementation details.\\n- Encapsulation helps maintain abstraction by hiding the internal details of the composed objects, allowing the `Car` class to control and manage its components.\\n\\nThis ensures that the internal structure and behavior of the composed objects are hidden, and the client code interacts with the `Car` class through well-defined public methods.'"
      ]
     },
     "execution_count": 128,
     "metadata": {},
     "output_type": "execute_result"
    }
   ],
   "source": [
    "#11. How can you encapsulate and hide the details of composed objects in Python classes to maintain\n",
    "#abstraction?\n",
    "\n",
    "#ans \n",
    "\n",
    "''' To encapsulate and hide the details of composed objects in Python classes, you can use private attributes and methods. This approach ensures that the internal details of the composed objects are not directly accessible from outside the class, maintaining abstraction.\n",
    "\n",
    "Here's an example extending the car class from the previous response with encapsulation:\n",
    "\n",
    "```python\n",
    "class Engine:\n",
    "    def start(self):\n",
    "        return \"Engine started.\"\n",
    "\n",
    "class Wheel:\n",
    "    def rotate(self):\n",
    "        return \"Wheel rotating.\"\n",
    "\n",
    "class Transmission:\n",
    "    def shift_gear(self):\n",
    "        return \"Gear shifted.\"\n",
    "\n",
    "class Car:\n",
    "    def __init__(self, engine, wheels, transmission):\n",
    "        self._engine = engine  # Encapsulation: Private attribute\n",
    "        self._wheels = wheels  # Encapsulation: Private attribute\n",
    "        self._transmission = transmission  # Encapsulation: Private attribute\n",
    "\n",
    "    def _check_engine_health(self):\n",
    "        return \"Engine health check passed.\"  # Encapsulation: Private method\n",
    "\n",
    "    def drive(self):\n",
    "        return f\"{self._engine.start()} {', '.join(w.rotate() for w in self._wheels)} {self._transmission.shift_gear()}\"\n",
    "\n",
    "    def start_journey(self):\n",
    "        engine_health = self._check_engine_health()  # Encapsulation: Accessing private method\n",
    "        return f\"Journey started. {engine_health}\"\n",
    "\n",
    "# Example usage\n",
    "car_engine = Engine()\n",
    "car_wheels = [Wheel() for _ in range(4)]\n",
    "car_transmission = Transmission()\n",
    "\n",
    "my_car = Car(engine=car_engine, wheels=car_wheels, transmission=car_transmission)\n",
    "print(my_car.drive())\n",
    "print(my_car.start_journey())\n",
    "```\n",
    "\n",
    "In this example:\n",
    "\n",
    "- Private attributes (`_engine`, `_wheels`, `_transmission`) are used to encapsulate the details of the composed objects within the `Car` class.\n",
    "- A private method (`_check_engine_health`) is added to perform an internal operation without exposing implementation details.\n",
    "- Encapsulation helps maintain abstraction by hiding the internal details of the composed objects, allowing the `Car` class to control and manage its components.\n",
    "\n",
    "This ensures that the internal structure and behavior of the composed objects are hidden, and the client code interacts with the `Car` class through well-defined public methods.'''"
   ]
  },
  {
   "cell_type": "code",
   "execution_count": 129,
   "id": "148b3f25-bb0c-41eb-9c3d-665b29a7e2ea",
   "metadata": {},
   "outputs": [
    {
     "name": "stdout",
     "output_type": "stream",
     "text": [
      "Course: Computer Science 101\n",
      "Instructor: Dr. Smith\n",
      "Students: Alice, Bob\n",
      "Materials: ['Textbook', 'Lecture Notes']\n"
     ]
    }
   ],
   "source": [
    "#12. Create a Python class for a university course, using composition to represent students, instructors, and\n",
    "#course materials.\n",
    "\n",
    "#ans \n",
    "\n",
    "class Student:\n",
    "    def __init__(self, name, student_id):\n",
    "        self.name = name\n",
    "        self.student_id = student_id\n",
    "\n",
    "    def enroll(self, course):\n",
    "        return f\"{self.name} enrolled in {course}.\"\n",
    "\n",
    "class Instructor:\n",
    "    def __init__(self, name, employee_id):\n",
    "        self.name = name\n",
    "        self.employee_id = employee_id\n",
    "\n",
    "    def teach(self, course):\n",
    "        return f\"{self.name} is teaching {course}.\"\n",
    "\n",
    "class Course:\n",
    "    def __init__(self, title, instructor, students, materials):\n",
    "        self.title = title\n",
    "        self.instructor = instructor\n",
    "        self.students = students\n",
    "        self.materials = materials\n",
    "\n",
    "    def display_course_info(self):\n",
    "        student_names = [student.name for student in self.students]\n",
    "        return f\"Course: {self.title}\\nInstructor: {self.instructor.name}\\nStudents: {', '.join(student_names)}\\nMaterials: {self.materials}\"\n",
    "\n",
    "# Example usage\n",
    "student1 = Student(name=\"Alice\", student_id=\"A123\")\n",
    "student2 = Student(name=\"Bob\", student_id=\"B456\")\n",
    "\n",
    "instructor = Instructor(name=\"Dr. Smith\", employee_id=\"E789\")\n",
    "\n",
    "course_materials = [\"Textbook\", \"Lecture Notes\"]\n",
    "\n",
    "university_course = Course(title=\"Computer Science 101\", instructor=instructor, students=[student1, student2], materials=course_materials)\n",
    "print(university_course.display_course_info())\n"
   ]
  },
  {
   "cell_type": "code",
   "execution_count": 130,
   "id": "8184fe43-d366-41ac-acb6-013239b9a38c",
   "metadata": {},
   "outputs": [
    {
     "data": {
      "text/plain": [
       "' The challenges of composition include the potential for increased complexity and tight coupling between objects, making the system harder to understand and maintain.'"
      ]
     },
     "execution_count": 130,
     "metadata": {},
     "output_type": "execute_result"
    }
   ],
   "source": [
    "#13. Discuss the challenges and drawbacks of composition, such as increased complexity and potential for\n",
    "#tight coupling between objects.\n",
    "\n",
    "#ans \n",
    "\n",
    "''' The challenges of composition include the potential for increased complexity and tight coupling between objects, making the system harder to understand and maintain.'''"
   ]
  },
  {
   "cell_type": "code",
   "execution_count": 131,
   "id": "1ebea8db-b096-4176-ae97-d214327907a2",
   "metadata": {},
   "outputs": [
    {
     "ename": "SyntaxError",
     "evalue": "invalid syntax (3017651195.py, line 7)",
     "output_type": "error",
     "traceback": [
      "\u001b[1;36m  Cell \u001b[1;32mIn[131], line 7\u001b[1;36m\u001b[0m\n\u001b[1;33m    The challenges of composition include the potential for increased complexity and tight coupling between objects, making the system harder to understand and maintain.\u001b[0m\n\u001b[1;37m        ^\u001b[0m\n\u001b[1;31mSyntaxError\u001b[0m\u001b[1;31m:\u001b[0m invalid syntax\n"
     ]
    }
   ],
   "source": [
    "#14. Create a Python class hierarchy for a restaurant system, using composition to represent menus, dishes,\n",
    "#and ingredients.\n",
    "\n",
    "#ans \n",
    "\n",
    "\n",
    "The challenges of composition include the potential for increased complexity and tight coupling between objects, making the system harder to understand and maintain.\n"
   ]
  },
  {
   "cell_type": "code",
   "execution_count": 133,
   "id": "1d088d4f-c8c4-4611-a69c-84fd2ca4a740",
   "metadata": {},
   "outputs": [
    {
     "data": {
      "text/plain": [
       "'The challenges of composition include the potential for increased complexity and tight coupling between objects, making the system harder to understand and maintain.'"
      ]
     },
     "execution_count": 133,
     "metadata": {},
     "output_type": "execute_result"
    }
   ],
   "source": [
    "#15. Explain how composition enhances code maintainability and modularity in Python programs.\n",
    "\n",
    "#wans \n",
    "\n",
    "'''The challenges of composition include the potential for increased complexity and tight coupling between objects, making the system harder to understand and maintain.'''"
   ]
  },
  {
   "cell_type": "code",
   "execution_count": 134,
   "id": "7c2f1343-ca42-4452-a7ce-8676afbae01e",
   "metadata": {},
   "outputs": [
    {
     "name": "stdout",
     "output_type": "stream",
     "text": [
      "Attacking with Sword, causing 20 damage. Defending with Shield, reducing incoming damage by 10 points.\n",
      "Inventory: Health Potion, Mana Elixir\n"
     ]
    }
   ],
   "source": [
    "#16. Create a Python class for a computer game character, using composition to represent attributes like\n",
    "#weapons, armor, and inventory.\n",
    "\n",
    "#ans \n",
    "\n",
    "class Weapon:\n",
    "    def __init__(self, name, damage):\n",
    "        self.name = name\n",
    "        self.damage = damage\n",
    "\n",
    "    def attack(self):\n",
    "        return f\"Attacking with {self.name}, causing {self.damage} damage.\"\n",
    "\n",
    "class Armor:\n",
    "    def __init__(self, name, defense):\n",
    "        self.name = name\n",
    "        self.defense = defense\n",
    "\n",
    "    def defend(self):\n",
    "        return f\"Defending with {self.name}, reducing incoming damage by {self.defense} points.\"\n",
    "\n",
    "class Inventory:\n",
    "    def __init__(self, items):\n",
    "        self.items = items\n",
    "\n",
    "    def show_items(self):\n",
    "        return f\"Inventory: {', '.join(self.items)}\"\n",
    "\n",
    "class GameCharacter:\n",
    "    def __init__(self, name, weapon, armor, inventory):\n",
    "        self.name = name\n",
    "        self.weapon = weapon\n",
    "        self.armor = armor\n",
    "        self.inventory = inventory\n",
    "\n",
    "    def perform_attack(self):\n",
    "        return f\"{self.weapon.attack()} {self.armor.defend()}\"\n",
    "\n",
    "# Example usage\n",
    "sword = Weapon(name=\"Sword\", damage=20)\n",
    "shield = Armor(name=\"Shield\", defense=10)\n",
    "character_inventory = Inventory(items=[\"Health Potion\", \"Mana Elixir\"])\n",
    "\n",
    "player_character = GameCharacter(name=\"Hero\", weapon=sword, armor=shield, inventory=character_inventory)\n",
    "print(player_character.perform_attack())\n",
    "print(player_character.inventory.show_items())\n"
   ]
  },
  {
   "cell_type": "code",
   "execution_count": 135,
   "id": "553bdb2f-8814-4c8e-98f5-e3f579215ae0",
   "metadata": {},
   "outputs": [
    {
     "data": {
      "text/plain": [
       "' In composition, \"aggregation\" is a specific form of composition where an object is composed of other objects, but the composed objects can exist independently and may be shared among multiple composite objects. Unlike simple composition, aggregation implies a weaker relationship, and the composed objects can have a life cycle independent of the composite object.\\n\\nKey differences:\\n\\n1. **Independence of Life Cycle:**\\n   - In simple composition, the composed objects are often created and destroyed along with the composite object.\\n   - In aggregation, the composed objects can exist independently, and their life cycle is not directly tied to the composite object.\\n\\n2. **Multiplicity:**\\n   - Simple composition often implies a one-to-one relationship between the composite object and the composed object.\\n   - Aggregation allows for a one-to-many relationship, where one composite object can be associated with multiple instances of the composed object.\\n\\nHere\\'s a simple illustration in Python:\\n\\n```python\\nclass Department:\\n    def __init__(self, name):\\n        self.name = name\\n        self.employees = []  # Aggregation: List of employees\\n\\n    def add_employee(self, employee):\\n        self.employees.append(employee)\\n\\nclass Employee:\\n    def __init__(self, name):\\n        self.name = name\\n\\n# Example usage\\nemployee1 = Employee(name=\"Alice\")\\nemployee2 = Employee(name=\"Bob\")\\n\\nhr_department = Department(name=\"HR\")\\nhr_department.add_employee(employee1)\\nhr_department.add_employee(employee2)\\n\\n# The \\'employees\\' list in the \\'Department\\' class represents aggregation, as employees can exist independently.\\n```\\n\\nIn this example, the `Department` class aggregates `Employee` objects. The employees can be associated with multiple departments, and their existence is not solely dependent on any particular department, illustrating the concept of aggregation.'"
      ]
     },
     "execution_count": 135,
     "metadata": {},
     "output_type": "execute_result"
    }
   ],
   "source": [
    "#17. Describe the concept of \"aggregation\" in composition and how it differs from simple composition.\n",
    "\n",
    "#an s\n",
    "\n",
    "''' In composition, \"aggregation\" is a specific form of composition where an object is composed of other objects, but the composed objects can exist independently and may be shared among multiple composite objects. Unlike simple composition, aggregation implies a weaker relationship, and the composed objects can have a life cycle independent of the composite object.\n",
    "\n",
    "Key differences:\n",
    "\n",
    "1. **Independence of Life Cycle:**\n",
    "   - In simple composition, the composed objects are often created and destroyed along with the composite object.\n",
    "   - In aggregation, the composed objects can exist independently, and their life cycle is not directly tied to the composite object.\n",
    "\n",
    "2. **Multiplicity:**\n",
    "   - Simple composition often implies a one-to-one relationship between the composite object and the composed object.\n",
    "   - Aggregation allows for a one-to-many relationship, where one composite object can be associated with multiple instances of the composed object.\n",
    "\n",
    "Here's a simple illustration in Python:\n",
    "\n",
    "```python\n",
    "class Department:\n",
    "    def __init__(self, name):\n",
    "        self.name = name\n",
    "        self.employees = []  # Aggregation: List of employees\n",
    "\n",
    "    def add_employee(self, employee):\n",
    "        self.employees.append(employee)\n",
    "\n",
    "class Employee:\n",
    "    def __init__(self, name):\n",
    "        self.name = name\n",
    "\n",
    "# Example usage\n",
    "employee1 = Employee(name=\"Alice\")\n",
    "employee2 = Employee(name=\"Bob\")\n",
    "\n",
    "hr_department = Department(name=\"HR\")\n",
    "hr_department.add_employee(employee1)\n",
    "hr_department.add_employee(employee2)\n",
    "\n",
    "# The 'employees' list in the 'Department' class represents aggregation, as employees can exist independently.\n",
    "```\n",
    "\n",
    "In this example, the `Department` class aggregates `Employee` objects. The employees can be associated with multiple departments, and their existence is not solely dependent on any particular department, illustrating the concept of aggregation.'''"
   ]
  },
  {
   "cell_type": "code",
   "execution_count": 136,
   "id": "6a2f8d9c-7ae8-48a7-b357-93b05d26325e",
   "metadata": {},
   "outputs": [
    {
     "name": "stdout",
     "output_type": "stream",
     "text": [
      "Sofa\n"
     ]
    }
   ],
   "source": [
    "#18. Create a Python class for a house, using composition to represent rooms, furniture, and appliances.\n",
    "\n",
    "#ans \n",
    "\n",
    "class Furniture:\n",
    "    def __init__(self, name):\n",
    "        self.name = name\n",
    "\n",
    "class Appliance:\n",
    "    def __init__(self, name):\n",
    "        self.name = name\n",
    "\n",
    "class Room:\n",
    "    def __init__(self, name, furniture=None, appliances=None):\n",
    "        self.name = name\n",
    "        self.furniture = furniture or []  # Aggregation: List of furniture\n",
    "        self.appliances = appliances or []  # Aggregation: List of appliances\n",
    "\n",
    "    def add_furniture(self, furniture):\n",
    "        self.furniture.append(furniture)\n",
    "\n",
    "    def add_appliance(self, appliance):\n",
    "        self.appliances.append(appliance)\n",
    "\n",
    "class House:\n",
    "    def __init__(self, rooms):\n",
    "        self.rooms = rooms\n",
    "\n",
    "# Example usage\n",
    "sofa = Furniture(name=\"Sofa\")\n",
    "tv = Appliance(name=\"TV\")\n",
    "\n",
    "living_room = Room(name=\"Living Room\", furniture=[sofa], appliances=[tv])\n",
    "kitchen = Room(name=\"Kitchen\")\n",
    "\n",
    "my_house = House(rooms=[living_room, kitchen])\n",
    "print(my_house.rooms[0].furniture[0].name)  # Output: Sofa\n",
    "\n"
   ]
  },
  {
   "cell_type": "code",
   "execution_count": 137,
   "id": "4160f9fd-5166-43c7-bdae-a1753aaf0b68",
   "metadata": {},
   "outputs": [
    {
     "data": {
      "text/plain": [
       "'Achieve flexibility in composed objects by employing interfaces or abstract classes, allowing dynamic replacement or modification of components at runtime.'"
      ]
     },
     "execution_count": 137,
     "metadata": {},
     "output_type": "execute_result"
    }
   ],
   "source": [
    "#19. How can you achieve flexibility in composed objects by allowing them to be replaced or modified\n",
    "#dynamically at runtime?\n",
    "\n",
    "#ans \n",
    "\n",
    "'''Achieve flexibility in composed objects by employing interfaces or abstract classes, allowing dynamic replacement or modification of components at runtime.'''"
   ]
  },
  {
   "cell_type": "code",
   "execution_count": 138,
   "id": "8adefc33-805d-436b-a40f-54ec31728779",
   "metadata": {},
   "outputs": [
    {
     "name": "stdout",
     "output_type": "stream",
     "text": [
      "Agreed!\n"
     ]
    }
   ],
   "source": [
    "#20. Create a Python class for a social media application, using composition to represent users, posts, and\n",
    "#comments.\n",
    "\n",
    "#ans \n",
    "\n",
    "class Comment:\n",
    "    def __init__(self, user, text):\n",
    "        self.user = user\n",
    "        self.text = text\n",
    "\n",
    "class Post:\n",
    "    def __init__(self, user, content, comments=None):\n",
    "        self.user = user\n",
    "        self.content = content\n",
    "        self.comments = comments or []  # Aggregation: List of comments\n",
    "\n",
    "    def add_comment(self, comment):\n",
    "        self.comments.append(comment)\n",
    "\n",
    "class User:\n",
    "    def __init__(self, username):\n",
    "        self.username = username\n",
    "\n",
    "class SocialMediaApp:\n",
    "    def __init__(self, users, posts):\n",
    "        self.users = users\n",
    "        self.posts = posts\n",
    "\n",
    "# Example usage\n",
    "user1 = User(username=\"Alice\")\n",
    "user2 = User(username=\"Bob\")\n",
    "\n",
    "post1 = Post(user=user1, content=\"Great day today!\")\n",
    "post2 = Post(user=user2, content=\"Python programming is fun!\")\n",
    "\n",
    "comment1 = Comment(user=user2, text=\"Agreed!\")\n",
    "comment2 = Comment(user=user1, text=\"I love programming too!\")\n",
    "\n",
    "post1.add_comment(comment1)\n",
    "post2.add_comment(comment2)\n",
    "\n",
    "social_media_app = SocialMediaApp(users=[user1, user2], posts=[post1, post2])\n",
    "print(social_media_app.posts[0].comments[0].text)  # Output: Agreed!\n"
   ]
  },
  {
   "cell_type": "code",
   "execution_count": null,
   "id": "fd5f57b2-f909-4385-a866-0f8a14f7def6",
   "metadata": {},
   "outputs": [],
   "source": [
    "#COMPLETED "
   ]
  }
 ],
 "metadata": {
  "kernelspec": {
   "display_name": "Python 3 (ipykernel)",
   "language": "python",
   "name": "python3"
  },
  "language_info": {
   "codemirror_mode": {
    "name": "ipython",
    "version": 3
   },
   "file_extension": ".py",
   "mimetype": "text/x-python",
   "name": "python",
   "nbconvert_exporter": "python",
   "pygments_lexer": "ipython3",
   "version": "3.12.0"
  }
 },
 "nbformat": 4,
 "nbformat_minor": 5
}
